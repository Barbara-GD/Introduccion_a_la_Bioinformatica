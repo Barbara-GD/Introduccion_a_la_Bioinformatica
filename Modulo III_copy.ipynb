{
 "cells": [
  {
   "cell_type": "markdown",
   "id": "247ff520",
   "metadata": {},
   "source": [
    "# Módulo III : Trabajando con secuencias de ADN y proteínas"
   ]
  },
  {
   "cell_type": "markdown",
   "id": "3d655e27",
   "metadata": {},
   "source": [
    "Hay una secuencia que es reconocida por la maquinaria transcripcional. Esa secuencia (puede haber tener más de una copia en el genoma) es donde comienza a replicarse el material genético.\n",
    "\n",
    "Para encontrar tal secuencia, comenzemos por resolver problemas más simples que luego escalaremos para abarcar la complejidad del problema en cuestion. \n",
    "\n",
    "Dada una secuencia (genética, de texto, o lo que sea), empezemos por contar cuantas veces en ella está repetido un patrón. Por ejemplo, en la secuencia\n",
    "\n",
    "```python\n",
    "Texto=\"Hola, ¿como estas?. Hola, bien gracias. Y tú, ¿qué cuentas?\"\n",
    "```\n",
    "\n",
    "1 ¿Cuántas vences aparece el patrón\n",
    "\n",
    "```python\n",
    "\"Hola\"?\n",
    "```\n",
    "\n",
    "2 ¿Cuántas vences aparece el patrón\n",
    "\n",
    "```python\n",
    "\"as\"?\n",
    "```\n",
    "\n",
    "Para esto puedes usar el siguiente seudocódigo:\n",
    "\n",
    "```python\n",
    "patron_contador(Texto, Patron)\n",
    "    count ← 0\n",
    "    for i ← 0 to |Texto| − |Patron|\n",
    "        if Text(i, |Patron|) = Patron\n",
    "            count ← count + 1\n",
    "    return count\n",
    "```"
   ]
  },
  {
   "cell_type": "markdown",
   "id": "cbc6ddd3",
   "metadata": {},
   "source": [
    "### 1.1 Contando patrones frecuentes"
   ]
  },
  {
   "cell_type": "code",
   "execution_count": 14,
   "id": "e7065882",
   "metadata": {},
   "outputs": [
    {
     "name": "stdout",
     "output_type": "stream",
     "text": [
      "Biopython es una herramienta que nos ayuda a analizar secuencias de ADN y proteínas. Hoy aprenderemos a utilizar Biopython.\n"
     ]
    }
   ],
   "source": [
    "#Recordemos que para imprimir un texto debemos definirlo \n",
    "Texto=\"Biopython es una herramienta que nos ayuda a analizar secuencias de ADN y proteínas. Hoy aprenderemos a utilizar Biopython.\"\n",
    "#y para visualizarlo simplemente agregamos print:\n",
    "print(Texto)"
   ]
  },
  {
   "cell_type": "code",
   "execution_count": 4,
   "id": "5cb5ec7e",
   "metadata": {},
   "outputs": [
    {
     "data": {
      "text/plain": [
       "'Biopython'"
      ]
     },
     "execution_count": 4,
     "metadata": {},
     "output_type": "execute_result"
    }
   ],
   "source": [
    "#Recordemos del modulo I que podemos visualizar un rango del texto mediante la siguiente sintaxis:\n",
    "Texto[0:9]"
   ]
  },
  {
   "cell_type": "code",
   "execution_count": 15,
   "id": "7ff1b4db",
   "metadata": {},
   "outputs": [
    {
     "data": {
      "text/plain": [
       "123"
      ]
     },
     "execution_count": 15,
     "metadata": {},
     "output_type": "execute_result"
    }
   ],
   "source": [
    "# Largo de una cadena de caracteres\n",
    "len(Texto) "
   ]
  },
  {
   "cell_type": "markdown",
   "id": "3255ca42",
   "metadata": {},
   "source": [
    "#### Implementar patron_contador()\n",
    "La función \"patron_contador\" toma dos argumentos: \"Texto\" y \"Patron\". \"Texto\" es el texto en el que se buscará el patrón, y \"Patron\" es el patrón que se buscará en el texto."
   ]
  },
  {
   "cell_type": "code",
   "execution_count": 9,
   "id": "1ab47570",
   "metadata": {},
   "outputs": [
    {
     "data": {
      "text/plain": [
       "2"
      ]
     },
     "execution_count": 9,
     "metadata": {},
     "output_type": "execute_result"
    }
   ],
   "source": [
    "#Implementar patron_contador(Text, Pattern)\n",
    "\n",
    "#define el texto en el que se buscarán los patrones más frecuentes.\n",
    "Texto=\"Biopython es una herramienta que nos ayuda a analizar secuencias de ADN y proteínas. Hoy aprenderemos a utilizar Biopython.\"\n",
    "#define el patrón que se buscará en el texto.\n",
    "Patron=\"Biopython\"\n",
    "\n",
    "def patron_contador(Texto,Patron):\n",
    "    x=len(Texto)-len(Patron)+1 #La variable \"x\" se establece en la longitud del texto menos la longitud del patrón más uno. Esto se utiliza para determinar cuántas veces se debe iterar para buscar el patrón en el texto.\n",
    "    lp=len(Patron) #La variable \"lp\" se establece en la longitud del patrón. Esto se utiliza para determinar la longitud de las subcadenas del texto que se compararán con el patrón.\n",
    "    count=0 #La variable \"count\" se inicializa en cero y se utiliza para contar cuántas veces aparece el patrón en el texto.\n",
    "    for i in range (x): #El bucle \"for\" itera a través de cada subcadena de longitud \"lp\" en el texto y compara esa subcadena con el patrón. \n",
    "        if Texto[i:i+lp]==Patron:\n",
    "              count=count+1 #Si la subcadena es igual al patrón, se incrementa la variable \"count\".\n",
    "    return (count) #la función devuelve el número de veces que aparece el patrón en el texto.\n",
    "\n",
    "patron_contador(Texto,Patron)"
   ]
  },
  {
   "cell_type": "markdown",
   "id": "a3acc4ce",
   "metadata": {},
   "source": [
    "#### 1.2 ¿Qué patrones tienen funciones biológicas?\n",
    "\n",
    "\n",
    "Nuestra hipotesis será que aquellos patrones que tienen funciones biologicas son los que aparecen más veces de lo esperado en la secuencia (más adelante veremos como calificar una frecuencia como mayor a lo esperado). \n",
    "\n",
    "Necesitamos una función para determinar la frecuencia de un patrón cualquiera, del cual no sabemos de antemano ni su composición ni el número de letras. Por ejemplo, \n",
    "\n",
    "* en la secuencia ACA**ACTAT**GCAT**ACTAT**CGGGA**ACTAT**CCT, el patrón de 5 letras **ACTAT** es el más frecuente, apareciendo 3 veces. \n",
    "* Por otro lado, en la secuencia CG**ATATA**TCC**ATA**G, el patrón de 3 letras **ATA** es el más frecuente, apareciendo 3 veces.\n",
    "\n",
    "Un ejemplo más biologico, el siguiente es una secuencia de *Vibrio cholerae*\n",
    "\n",
    "\n",
    "```\n",
    "atcaatgatcaacgtaagcttctaagcatgatcaaggtgctcacacagtttatccacaac\n",
    "ctgagtggatgacatcaagataggtcgttgtatctccttcctctcgtactctcatgacca\n",
    "cggaaagatgatcaagagaggatgatttcttggccatatcgcaatgaatacttgtgactt\n",
    "gtgcttccaattgacatcttcagcgccatattgcgctggccaaggtgacggagcgggatt\n",
    "acgaaagcatgatcatggctgttgttctgtttatcttgttttgactgagacttgttagga\n",
    "tagacggtttttcatcactgactagccaaagccttactctgcctgacatcgaccgtaaat\n",
    "tgataatgaatttacatgcttccgcgacgatttacctcttgatcatcgatccgattgaag\n",
    "atcttcaattgttaattctcttgcctcgactcatagccatgatgagctcttgatcatgtt\n",
    "tccttaaccctctattttttacggaagaatgatcaagctgctgctcttgatcatcgtttc\n",
    "```\n",
    "\n",
    "cuyos patrones más frecuentes son los siguientes:\n",
    "\n",
    "<img src=\"https://raw.githubusercontent.com/mrivas/Bioinformatica/master/table.png\" alt=\"Drawing\" style=\"width: 700px;\"/>\n",
    "\n",
    "\n",
    "\n",
    "Para lograr esto, dado un Texto (así llamaremos también a las secuencias) en el cual queremos buscar un patron de largo k, podemos crear una lista llamada Count de tamaño |Texto| - k (es el número de sublistas de tamaño k en el Texto), en cuya coordenada i guardamos el número de veces que se repite el patrón ubicado en Texto[i:(i+k)].\n",
    "\n",
    "Por ejemplo, dado Texto=\"ACTGACTCCCACCCC\" y k=3, la lista Count es la siguiente.\n",
    "\n",
    "```\n",
    "Texto: ACTGACTCCCACCCC\n",
    "Count:2111211311133\n",
    "```\n",
    "\n",
    "A continuación una implementación de ésta función en Python"
   ]
  },
  {
   "cell_type": "code",
   "execution_count": 10,
   "id": "c885bdd0",
   "metadata": {},
   "outputs": [],
   "source": [
    "#k es igual a el largo de la secuencia a encontrar\n",
    "import numpy as np\n",
    "\n",
    "def letras_frecuentes(Texto, k):  #\"k\" es la longitud de los patrones que se buscarán.\n",
    "    patrones_frecuentes = set() #La variable \"patrones_frecuentes\" es un conjunto vacío que se utilizará para almacenar los patrones más frecuentes encontrados.\n",
    "    Count = [0]*( len(Texto)-k+1 ) #La variable \"Count\" es una lista de ceros con una longitud igual a la longitud del texto menos la longitud del patrón más uno. Esta lista se utiliza para almacenar el número de veces que aparece cada patrón en el texto.\n",
    "    for i in range( len(Texto) - k +1 ): \n",
    "        Patron = Texto[ i:(i+k)]\n",
    "        Count[i] = patron_contador(Texto, Patron) # patron_contador cuenta el número de veces \n",
    "                                               # que el patron aparece en Texto\n",
    "    maxCount = np.max(Count) #La variable \"maxCount\" se establece en el valor máximo de la lista \"Count\".\n",
    "    for i in range(len(Texto) - k +1 ): # bucle \"for\" itera a través de cada subcadena de longitud \"k\" en el texto y agrega cualquier subcadena que aparezca el mismo número de veces que \"maxCount\" a la lista de patrones más frecuentes.\n",
    "        if Count[i] == maxCount:\n",
    "            patrones_frecuentes.add( Texto[i:(i+k)] )\n",
    "            \n",
    "    return( (patrones_frecuentes),maxCount ) # la función devuelve una tupla que contiene el conjunto de patrones más frecuentes y el número máximo de veces que aparece cualquier patrón en el texto."
   ]
  },
  {
   "cell_type": "code",
   "execution_count": 17,
   "id": "19fb0543",
   "metadata": {},
   "outputs": [
    {
     "data": {
      "text/plain": [
       "({'CCC'}, 3)"
      ]
     },
     "execution_count": 17,
     "metadata": {},
     "output_type": "execute_result"
    }
   ],
   "source": [
    "#letras_frecuentes secuencia mas repetida y veces repetidas\n",
    "Texto=\"ACTGACTCCCACCCC\"\n",
    "k=3\n",
    "letras_frecuentes(Texto, k)"
   ]
  },
  {
   "cell_type": "code",
   "execution_count": 16,
   "id": "c21217f0",
   "metadata": {},
   "outputs": [
    {
     "data": {
      "text/plain": [
       "[2, 1, 1, 1, 2, 1, 1, 3, 1, 1, 1, 3, 3]"
      ]
     },
     "execution_count": 16,
     "metadata": {},
     "output_type": "execute_result"
    }
   ],
   "source": [
    "#Count repetición a lo largo de las posiciones\n",
    "Texto=\"ACTGACTCCCACCCC\"\n",
    "k=3 #se contarán las repeticiones de secuencias de 3 caracteres.\n",
    "Count = [0]*( len(Texto)-k+1 ) #La lista \"Count\" se inicializa con ceros y su longitud es igual a la longitud del texto menos k más uno. Esta lista se utiliza para almacenar el número de veces que se encuentra cada secuencia de 3 caracteres en el texto.\n",
    "\n",
    "#El bucle \"for\" itera a través de cada posición en el texto, desde la primera posición hasta la posición final \n",
    "#donde se puede encontrar una secuencia de \"k\" caracteres. En cada iteración, se extrae una subcadena de longitud \"k\" \n",
    "#llamada \"Patron\" a partir del texto. La función \"patron_contador\" se utiliza para contar el número de veces que \n",
    "#aparece esta subcadena en el texto completo. El resultado se almacena en la lista \"Count\" en la posición correspondiente \n",
    "#a la posición actual del bucle \"for\".\n",
    "for i in range( len(Texto) - k +1 ): \n",
    "    Patron = Texto[ i:(i+k)]\n",
    "    Count[i] =patron_contador(Texto, Patron)\n",
    "Count"
   ]
  },
  {
   "cell_type": "code",
   "execution_count": 18,
   "id": "8312395e",
   "metadata": {},
   "outputs": [
    {
     "data": {
      "text/plain": [
       "{'CCC'}"
      ]
     },
     "execution_count": 18,
     "metadata": {},
     "output_type": "execute_result"
    }
   ],
   "source": [
    "#FrequentPatterns Secuencia mas repetida\n",
    "patrones_frecuentes = set()\n",
    "maxCount = np.max(Count)\n",
    "for i in range(len(Texto) - k +1 ):\n",
    "     if Count[i] == maxCount:\n",
    "        patrones_frecuentes.add( Texto[i:(i+k)] )\n",
    "patrones_frecuentes # imprime el conjunto \"patrones_frecuentes\", que contiene los patrones más frecuentes encontrados en el texto."
   ]
  },
  {
   "cell_type": "code",
   "execution_count": 19,
   "id": "fb15d7c1",
   "metadata": {},
   "outputs": [
    {
     "name": "stdout",
     "output_type": "stream",
     "text": [
      "CCC\n",
      "CCC\n",
      "CCC\n"
     ]
    },
    {
     "data": {
      "text/plain": [
       "[2, 1, 1, 1, 2, 1, 1, 3, 1, 1, 1, 3, 3]"
      ]
     },
     "execution_count": 19,
     "metadata": {},
     "output_type": "execute_result"
    }
   ],
   "source": [
    "#Count secuencias mas repetidas \n",
    "maxCount = np.max(Count)\n",
    "for i in range(len(Texto) - k +1 ):\n",
    "     if Count[i] == maxCount:\n",
    "        print( Texto[i:(i+k)] )\n",
    "Count"
   ]
  },
  {
   "cell_type": "code",
   "execution_count": 18,
   "id": "3bd20491",
   "metadata": {},
   "outputs": [
    {
     "name": "stdout",
     "output_type": "stream",
     "text": [
      "al inicio:  [0, 0, 0, 0, 0, 0, 0, 0, 0, 0, 0, 0, 0]\n",
      "0 3 ACT 2\n",
      "1 4 CTG 1\n",
      "2 5 TGA 1\n",
      "3 6 GAC 1\n",
      "4 7 ACT 2\n",
      "5 8 CTC 1\n",
      "6 9 TCC 1\n",
      "7 10 CCC 3\n",
      "8 11 CCA 1\n",
      "9 12 CAC 1\n",
      "10 13 ACC 1\n",
      "11 14 CCC 3\n",
      "12 15 CCC 3\n",
      "al final [2, 1, 1, 1, 2, 1, 1, 3, 1, 1, 1, 3, 3]\n",
      "el maximo es: 3\n",
      "al inicio patrones_frecuentes es: set()\n",
      "luego del ciclo for patrones_frecuentes es: {'CCC'}\n"
     ]
    }
   ],
   "source": [
    "seq=\"ACTGACTCCCACCCC\"\n",
    "k=3\n",
    "Count = [0]*(len(Texto)-k+1)\n",
    "print(\"al inicio: \", Count )\n",
    "for i in range( len(Texto) - k +1 ):\n",
    "    Patron = seq[ i:(i+k)]\n",
    "    print(i,i+k,Patron, patron_contador(seq, Patron) )\n",
    "    Count[i] = patron_contador(seq, Patron)\n",
    "print(\"al final\", Count) # imprime la lista \"Count\" al final del proceso, que contiene el número de repeticiones de cada secuencia de 3 caracteres a lo largo del texto.\n",
    "\n",
    "maxCount = np.max(Count)\n",
    "print(\"el maximo es:\", maxCount ) #imprime el valor máximo encontrado.\n",
    "\n",
    "patrones_frecuentes = set()\n",
    "print(\"al inicio patrones_frecuentes es:\", patrones_frecuentes) #imprime el conjunto \"patrones_frecuentes\" al inicio del proceso, que es un conjunto vacío.\n",
    "for i in range(len(seq) - k +1 ):\n",
    "    if Count[i] == maxCount:\n",
    "        patrones_frecuentes.add( Texto[i:(i+k)] )\n",
    "print(\"luego del ciclo for patrones_frecuentes es:\", patrones_frecuentes)  # imprime el conjunto \"patrones_frecuentes\", que contiene los patrones más frecuentes encontrados en el texto."
   ]
  },
  {
   "cell_type": "markdown",
   "id": "0e332c68",
   "metadata": {},
   "source": [
    "### Ejercicio:\n",
    "\n",
    "\n",
    "Usando la función letras_frecuentes():\n",
    "- Dada la secuencia: seq=\"ACAACTATGCATACTATCGGGAACTATCCT\"\n",
    "\n",
    "¿Cual es el patrón más comun de 4 letras, y cuantas veces se repite?\n"
   ]
  },
  {
   "cell_type": "markdown",
   "id": "35263877",
   "metadata": {},
   "source": [
    "<img src=\"https://raw.githubusercontent.com/Barbara-GD/Introduccion_a_la_Bioinformatica/main/pythonASCII.png\" alt=\"Drawing\" style=\"width: 700px;\"/>"
   ]
  },
  {
   "cell_type": "code",
   "execution_count": 19,
   "id": "8a40e50a",
   "metadata": {},
   "outputs": [
    {
     "data": {
      "text/plain": [
       "({'ACTA', 'CTAT'}, 3)"
      ]
     },
     "execution_count": 19,
     "metadata": {},
     "output_type": "execute_result"
    }
   ],
   "source": [
    "texto=\"ACAACTATGCATACTATCGGGAACTATCCT\"\n",
    "k=4\n",
    "\n",
    "letras_frecuentes(texto, k)\n"
   ]
  },
  {
   "cell_type": "markdown",
   "id": "a4c09505",
   "metadata": {},
   "source": [
    "### 2.1 Introducción a Biopython"
   ]
  },
  {
   "cell_type": "code",
   "execution_count": 21,
   "id": "b1bde313",
   "metadata": {},
   "outputs": [
    {
     "name": "stdout",
     "output_type": "stream",
     "text": [
      "AGTACACTGGT\n"
     ]
    }
   ],
   "source": [
    "#La mayoría de las veces, cuando pensamos en secuencias, tenemos en mente una cadena de letras como ' AGTACACTGGT'.\n",
    "#Importar la clase Seq de la librería Bio.Seq\n",
    "from Bio.Seq import Seq\n",
    "#Crear un objeto Seq llamado mi_seq que contiene la secuencia \"AGTACACTGGT\". \n",
    "secuencia = Seq(\"AGTACACTGGT\")\n",
    "#Imprimir la secuencia en la consola\n",
    "print(secuencia)\n"
   ]
  },
  {
   "cell_type": "markdown",
   "id": "e1d6ed36",
   "metadata": {},
   "source": [
    "#### Analizando secuencia de Orquidea Lady Slipper"
   ]
  },
  {
   "cell_type": "markdown",
   "id": "3675ac9e",
   "metadata": {},
   "source": [
    "\n",
    "<img src=\"https://raw.githubusercontent.com/Barbara-GD/Introduccion_a_la_Bioinformatica/main/orquidea_Lady_slipper.png\" alt=\"Drawing\" style=\"width: 300px;\"/>"
   ]
  },
  {
   "cell_type": "markdown",
   "id": "e109ed99",
   "metadata": {},
   "source": [
    "#### Abrir archivo FASTA: https://raw.githubusercontent.com/biopython/biopython/master/Doc/examples/ls_orchid.fasta\n",
    "y guardarlo en la carpeta donde estamos trabajando actualmente.\n"
   ]
  },
  {
   "cell_type": "code",
   "execution_count": 81,
   "id": "c1830450",
   "metadata": {},
   "outputs": [
    {
     "name": "stdout",
     "output_type": "stream",
     "text": [
      "gi|2765658|emb|Z78533.1|CIZ78533\n",
      "Seq('CGTAACAAGGTTTCCGTAGGTGAACCTGCGGAAGGATCATTGATGAGACCGTGG...CGC')\n",
      "740\n",
      "gi|2765657|emb|Z78532.1|CCZ78532\n",
      "Seq('CGTAACAAGGTTTCCGTAGGTGAACCTGCGGAAGGATCATTGTTGAGACAACAG...GGC')\n",
      "753\n",
      "gi|2765656|emb|Z78531.1|CFZ78531\n",
      "Seq('CGTAACAAGGTTTCCGTAGGTGAACCTGCGGAAGGATCATTGTTGAGACAGCAG...TAA')\n",
      "748\n",
      "gi|2765655|emb|Z78530.1|CMZ78530\n",
      "Seq('CGTAACAAGGTTTCCGTAGGTGAACCTGCGGAAGGATCATTGTTGAAACAACAT...CAT')\n",
      "744\n",
      "gi|2765654|emb|Z78529.1|CLZ78529\n",
      "Seq('ACGGCGAGCTGCCGAAGGACATTGTTGAGACAGCAGAATATACGATTGAGTGAA...AAA')\n",
      "733\n",
      "gi|2765652|emb|Z78527.1|CYZ78527\n",
      "Seq('CGTAACAAGGTTTCCGTAGGTGAACCTGCGGAAGGATCATTGTTGAGACAGTAG...CCC')\n",
      "718\n",
      "gi|2765651|emb|Z78526.1|CGZ78526\n",
      "Seq('CGTAACAAGGTTTCCGTAGGTGAACCTGCGGAAGGATCATTGTTGAGACAGTAG...TGT')\n",
      "730\n",
      "gi|2765650|emb|Z78525.1|CAZ78525\n",
      "Seq('TGTTGAGATAGCAGAATATACATCGAGTGAATCCGGAGGACCTGTGGTTATTCG...GCA')\n",
      "704\n",
      "gi|2765649|emb|Z78524.1|CFZ78524\n",
      "Seq('CGTAACAAGGTTTCCGTAGGTGAACCTGCGGAAGGATCATTGTTGAGATAGTAG...AGC')\n",
      "740\n",
      "gi|2765648|emb|Z78523.1|CHZ78523\n",
      "Seq('CGTAACCAGGTTTCCGTAGGTGAACCTGCGGCAGGATCATTGTTGAGACAGCAG...AAG')\n",
      "709\n",
      "gi|2765647|emb|Z78522.1|CMZ78522\n",
      "Seq('CGTAACAAGGTTTCCGTAGGTGAACCTGCGGAAGGATCATTGTTGAGACAGCAG...GAG')\n",
      "700\n",
      "gi|2765646|emb|Z78521.1|CCZ78521\n",
      "Seq('GTAGGTGAACCTGCGGAAGGATCATTGTTGAGACAGTAGAATATATGATCGAGT...ACC')\n",
      "726\n",
      "gi|2765645|emb|Z78520.1|CSZ78520\n",
      "Seq('CGTAACAAGGTTTCCGTAGGTGAACCTGCGGAAGGATCATTGTTGAGACAGCAG...TTT')\n",
      "753\n",
      "gi|2765644|emb|Z78519.1|CPZ78519\n",
      "Seq('ATATGATCGAGTGAATCTGGTGGACTTGTGGTTACTCAGCTCGCCATAGGCTTT...TTA')\n",
      "699\n",
      "gi|2765643|emb|Z78518.1|CRZ78518\n",
      "Seq('CGTAACAAGGTTTCCGTAGGTGAACCTGCGGGAGGATCATTGTTGAGATAGTAG...TCC')\n",
      "658\n",
      "gi|2765642|emb|Z78517.1|CFZ78517\n",
      "Seq('CGTAACAAGGTTTCCGTAGGTGAACCTGCGGAAGGATCATTGTTGAGACAGTAG...AGC')\n",
      "752\n",
      "gi|2765641|emb|Z78516.1|CPZ78516\n",
      "Seq('CGTAACAAGGTTTCCGTAGGTGAACCTGCGGAAGGATCATTGTTGAGACAGTAT...TAA')\n",
      "726\n",
      "gi|2765640|emb|Z78515.1|MXZ78515\n",
      "Seq('CGTAACAAGGTTTCCGTAGGTGAACCTGCGGAAGGATCATTGCTGAGACCGTAG...AGC')\n",
      "765\n",
      "gi|2765639|emb|Z78514.1|PSZ78514\n",
      "Seq('CGTAACAAGGTTTCCGTAGGTGGACCTTCGGGAGGATCATTTTTGAAGCCCCCA...CTA')\n",
      "755\n",
      "gi|2765638|emb|Z78513.1|PBZ78513\n",
      "Seq('CGTAACAAGGTTTCCGTAGGTGAACCTGCGGAAGGATCATTGTTGAGACCGCCA...GAG')\n",
      "742\n",
      "gi|2765637|emb|Z78512.1|PWZ78512\n",
      "Seq('CGTAACAAGGTTTCCGTAGGTGGACCTTCGGGAGGATCATTTTTGAAGCCCCCA...AGC')\n",
      "762\n",
      "gi|2765636|emb|Z78511.1|PEZ78511\n",
      "Seq('CGTAACAAGGTTTCCGTAGGTGAACCTTCGGAAGGATCATTGTTGAGACCCCCA...GGA')\n",
      "745\n",
      "gi|2765635|emb|Z78510.1|PCZ78510\n",
      "Seq('CTAACCAGGGTTCCGAGGTGACCTTCGGGAGGATTCCTTTTTAAGCCCCCGAAA...TTA')\n",
      "750\n",
      "gi|2765634|emb|Z78509.1|PPZ78509\n",
      "Seq('CGTAACAAGGTTTCCGTAGGTGAACCTGCGGAAGGATCATTGTTGAGACCGCCA...GGA')\n",
      "731\n",
      "gi|2765633|emb|Z78508.1|PLZ78508\n",
      "Seq('CGTAACAAGGTTTCCGTAGGTGAACCTGCGGAAGGATCATTGTTGAGACCGCCA...TGA')\n",
      "741\n",
      "gi|2765632|emb|Z78507.1|PLZ78507\n",
      "Seq('CGTAACAAGGTTTCCGTAGGTGAACCTGCGGAAGGATCATTGTTGAGACCCCCA...TGA')\n",
      "740\n",
      "gi|2765631|emb|Z78506.1|PLZ78506\n",
      "Seq('CGTAACAAGGTTTCCGTAGGTGAACCTGCGGAAGGATCATTGTTGAGACCGCAA...TGA')\n",
      "727\n",
      "gi|2765630|emb|Z78505.1|PSZ78505\n",
      "Seq('CGTAACAAGGTTTCCGTAGGTGAACCTGCGGAAGGATCATTGTTGAGACCGCCA...TTT')\n",
      "711\n",
      "gi|2765629|emb|Z78504.1|PKZ78504\n",
      "Seq('CGTAACAAGGTTTCCGTAGGTGAACCTTCGGAAGGATCATTGTTGAGACCGCAA...TAA')\n",
      "743\n",
      "gi|2765628|emb|Z78503.1|PCZ78503\n",
      "Seq('CGTAACCAGGTTTCCGTAGGTGAACCTCCGGAAGGATCCTTGTTGAGACCGCCA...TAA')\n",
      "727\n",
      "gi|2765627|emb|Z78502.1|PBZ78502\n",
      "Seq('CGTAACCAGGTTTCCGTAGGTGAACCTCCGGAAGGATCATTGTTGAGACCGCCA...CGC')\n",
      "757\n",
      "gi|2765626|emb|Z78501.1|PCZ78501\n",
      "Seq('CGTAACAAGGTTTCCGTAGGTGAACCTGCGGAAGGATCATTGTTGAGACCGCAA...AGA')\n",
      "770\n",
      "gi|2765625|emb|Z78500.1|PWZ78500\n",
      "Seq('CGTAACAAGGTTTCCGTAGGTGAACCTGCGGAAGGCTCATTGTTGAGACCGCAA...AAG')\n",
      "767\n",
      "gi|2765624|emb|Z78499.1|PMZ78499\n",
      "Seq('CGTAACAAGGTTTCCGTAGGTGAACCTGCGGAGGGATCATTGTTGAGATCGCAT...ACC')\n",
      "759\n",
      "gi|2765623|emb|Z78498.1|PMZ78498\n",
      "Seq('CGTAACAAGGTTTCCGTAGGTGAACCTGCGGAAAGGTCATTGTTGAGATCACAT...AGC')\n",
      "750\n",
      "gi|2765622|emb|Z78497.1|PDZ78497\n",
      "Seq('CGTAACAAGGTTTCCGTAGGTGAACCTGCGGAAGGATCATTGTTGAGATCACAT...AGC')\n",
      "788\n",
      "gi|2765621|emb|Z78496.1|PAZ78496\n",
      "Seq('CGTAACAAGGTTTCCGTAGGTGAACCTGCGGAAGGATCATTGTTGAGATCGCAT...AGC')\n",
      "774\n",
      "gi|2765620|emb|Z78495.1|PEZ78495\n",
      "Seq('CGTAACAAGGTTTCCGTAGGTGAACCTCCGGAAGGATCATTGTTGAGATCACAT...GTG')\n",
      "789\n",
      "gi|2765619|emb|Z78494.1|PNZ78494\n",
      "Seq('CGTAACAAGGTTTCCGTAGGTGAACCTGCGGAAGGATCATTGTTGAGGTCGCAT...AAG')\n",
      "688\n",
      "gi|2765618|emb|Z78493.1|PGZ78493\n",
      "Seq('CGTAACAAGGATTCCGTAGGTGAACCTGCGGAAGGATCATTGTTGAGATCGCAT...CCC')\n",
      "719\n",
      "gi|2765617|emb|Z78492.1|PBZ78492\n",
      "Seq('CGTAACAAGGTTTCCGTAGGTGAACCTGCGGAAGGATCATTGTTGAGATCGCAT...ATA')\n",
      "743\n",
      "gi|2765616|emb|Z78491.1|PCZ78491\n",
      "Seq('CGTAACAAGGTTTCCGTAGGTGAACCTGCGGAAGGATCATTGTTGAGATCGCAT...AGC')\n",
      "737\n",
      "gi|2765615|emb|Z78490.1|PFZ78490\n",
      "Seq('CGTAACAAGGTTTCCGTAGGTGAACCTGCGGAAGGATCATTGTTGAGATCACAT...TGA')\n",
      "728\n",
      "gi|2765614|emb|Z78489.1|PDZ78489\n",
      "Seq('CGTAACAAGGTTTCCGTAGGTGAACCTGCGGAAGGATCATTGTTGAGATCACAT...GGC')\n",
      "740\n",
      "gi|2765613|emb|Z78488.1|PTZ78488\n",
      "Seq('CTGTAGGTGAACCTGCGGAAGGATCATTGTTGAGATCACGCAATAATTGATCGA...GCT')\n",
      "696\n",
      "gi|2765612|emb|Z78487.1|PHZ78487\n",
      "Seq('CGTAACAAGGTTTCCGTAGGTGAACCTGCGGAAGGATCATTGTTGAGATCACAT...TAA')\n",
      "732\n",
      "gi|2765611|emb|Z78486.1|PBZ78486\n",
      "Seq('CGTCACGAGGTTTCCGTAGGTGAATCTGCGGGAGGATCATTGTTGAGATCACAT...TGA')\n",
      "731\n",
      "gi|2765610|emb|Z78485.1|PHZ78485\n",
      "Seq('CTGAACCTGGTGTCCGAAGGTGAATCTGCGGATGGATCATTGTTGAGATATCAT...GTA')\n",
      "735\n",
      "gi|2765609|emb|Z78484.1|PCZ78484\n",
      "Seq('CGTAACAAGGTTTCCGTAGGTGAACCTGGGGAAGGATCATTGTTGAGATCACAT...TTT')\n",
      "720\n",
      "gi|2765608|emb|Z78483.1|PVZ78483\n",
      "Seq('CGTAACAAGGTTTCCGTAGGTGAACCTGCGGAAGGATCATTGTTGAGATCACAT...GCA')\n",
      "740\n",
      "gi|2765607|emb|Z78482.1|PEZ78482\n",
      "Seq('TCTACTGCAGTGACCGAGATTTGCCATCGAGCCTCCTGGGAGCTTTCTTGCTGG...GCA')\n",
      "629\n",
      "gi|2765606|emb|Z78481.1|PIZ78481\n",
      "Seq('CGTAACAAGGTTTCCGTAGGTGAACCTGCGGAAGGATCATTGTTGAGATCACAT...TGA')\n",
      "572\n",
      "gi|2765605|emb|Z78480.1|PGZ78480\n",
      "Seq('CGTAACAAGGTTTCCGTAGGTGAACCTGCGGAAGGATCATTGTTGAGATCACAT...TGA')\n",
      "587\n",
      "gi|2765604|emb|Z78479.1|PPZ78479\n",
      "Seq('CGTAACAAGGTTTCCGTAGGTGAACCTGCGGAAGGATCATTGTTGAGATCACAT...AGT')\n",
      "700\n",
      "gi|2765603|emb|Z78478.1|PVZ78478\n",
      "Seq('CGTAACAAGGTTTCCGTAGGTGAACCTCCGGAAGGATCAGTGTTGAGATCACAT...GGC')\n",
      "636\n",
      "gi|2765602|emb|Z78477.1|PVZ78477\n",
      "Seq('CGTAACAAGGTTTCCGTAGGTGAACCTGCGGAAGGATCATTGTTGAGATCACAT...TGC')\n",
      "716\n",
      "gi|2765601|emb|Z78476.1|PGZ78476\n",
      "Seq('CGTAACAAGGTTTCCGTAGGTGAACCTGCGGAAGGATCATTGTTGAGATCACAT...CCC')\n",
      "592\n",
      "gi|2765600|emb|Z78475.1|PSZ78475\n",
      "Seq('CGTAACAAGGTTTCCGTAGGTGAACCTGCGGAAGGATCATTGTTGAGATCACAT...GGT')\n",
      "716\n",
      "gi|2765599|emb|Z78474.1|PKZ78474\n",
      "Seq('CGTAACAAGGTTTCCGTAGGTGAACCTGCGGAAGGATCATTGTTGAGATCACGT...CTT')\n",
      "733\n",
      "gi|2765598|emb|Z78473.1|PSZ78473\n",
      "Seq('CGTAACAAGGTTTCCGTAGGTGAACCTGCGGAAGGATCATTGTTGAGATCACAT...AGG')\n",
      "626\n",
      "gi|2765597|emb|Z78472.1|PLZ78472\n",
      "Seq('CGTAACAAGGTTTCCGTAGGTGAACCTGCGGAAGGATCATTGTTGAGATCACAT...AGC')\n",
      "737\n",
      "gi|2765596|emb|Z78471.1|PDZ78471\n",
      "Seq('CGTAACAAGGTTTCCGTAGGTGAACCTGCGGAAGGATCATTGTTGAGATCACAT...AGC')\n",
      "740\n",
      "gi|2765595|emb|Z78470.1|PPZ78470\n",
      "Seq('CGTAACAAGGTTTCCGTAGGTGAACCTGCGGAAGGATCATTGTTGAGATCACAT...GTT')\n",
      "574\n",
      "gi|2765594|emb|Z78469.1|PHZ78469\n",
      "Seq('CGTAACAAGGTTTCCGTAGGTGAACCTGCGGAAGGATCATTGTTGAGATCACAT...GTT')\n",
      "594\n",
      "gi|2765593|emb|Z78468.1|PAZ78468\n",
      "Seq('CGTAACAAGGTTTCCGTAGGTGAACCTGCGGAAGGATCATTGTTGAGATCGCAT...GTT')\n",
      "610\n",
      "gi|2765592|emb|Z78467.1|PSZ78467\n",
      "Seq('CGTAACAAGGTTTCCGTAGGTGAACCTGCGGAAGGATCATTGTTGAGATCACAT...TGA')\n",
      "730\n",
      "gi|2765591|emb|Z78466.1|PPZ78466\n",
      "Seq('CGTAACAAGGTTTCCGTAGGTGAACCTGCGGAAGGATCATTGTTGAGATCACAT...CCC')\n",
      "641\n",
      "gi|2765590|emb|Z78465.1|PRZ78465\n",
      "Seq('CGTAACAAGGTTTCCGTAGGTGAACCTGCGGAAGGATCATTGTTGAGATCACAT...TGC')\n",
      "702\n",
      "gi|2765589|emb|Z78464.1|PGZ78464\n",
      "Seq('CGTAACAAGGTTTCCGTAGGTGAGCGGAAGGGTCATTGTTGAGATCACATAATA...AGC')\n",
      "733\n",
      "gi|2765588|emb|Z78463.1|PGZ78463\n",
      "Seq('CGTAACAAGGTTTCCGTAGGTGAACCTGCGGAAGGTTCATTGTTGAGATCACAT...AGC')\n",
      "738\n",
      "gi|2765587|emb|Z78462.1|PSZ78462\n",
      "Seq('CGTCACGAGGTCTCCGGATGTGACCCTGCGGAAGGATCATTGTTGAGATCACAT...CAT')\n",
      "736\n",
      "gi|2765586|emb|Z78461.1|PWZ78461\n",
      "Seq('CGTAACAAGGTTTCCGTAGGTGAACCTCCGGAAGGATCATTGTTGAGATCACAT...TAA')\n",
      "732\n",
      "gi|2765585|emb|Z78460.1|PCZ78460\n",
      "Seq('CGTAACAAGGTTTCCGTAGGTGAACCTCCGGAAGGATCATTGTTGAGATCACAT...TTA')\n",
      "745\n",
      "gi|2765584|emb|Z78459.1|PDZ78459\n",
      "Seq('CGTAACAAGGTTTCCGTAGGTGAACCTGCGGAAGGATCATTGTTGAGATCACAT...TTT')\n",
      "744\n",
      "gi|2765583|emb|Z78458.1|PHZ78458\n",
      "Seq('CGTAACAAGGTTTCCGTAGGTGAACCTGCGGAAGGATCATTGTTGAGATCACAT...TTG')\n",
      "738\n",
      "gi|2765582|emb|Z78457.1|PCZ78457\n",
      "Seq('CGTAACAAGGTTTCCGTAGGTGAACCTCCGGAAGGATCATTGTTGAGATCACAT...GAG')\n",
      "739\n",
      "gi|2765581|emb|Z78456.1|PTZ78456\n",
      "Seq('CGTAACAAGGTTTCCGTAGGTGAACCTGCGGAAGGATCATTGTTGAGATCACAT...AGC')\n",
      "740\n",
      "gi|2765580|emb|Z78455.1|PJZ78455\n",
      "Seq('CGTAACCAGGTTTCCGTAGGTGGACCTTCGGGAGGATCATTTTTGAGATCACAT...GCA')\n",
      "745\n",
      "gi|2765579|emb|Z78454.1|PFZ78454\n",
      "Seq('CGTAACAAGGTTTCCGTAGGTGAACCTGCGGAAGGATCATTGTTGAGATCACAT...AAC')\n",
      "695\n",
      "gi|2765578|emb|Z78453.1|PSZ78453\n",
      "Seq('CGTAACAAGGTTTCCGTAGGTGAACCTGCGGAAGGATCATTGTTGAGATCACAT...GCA')\n",
      "745\n",
      "gi|2765577|emb|Z78452.1|PBZ78452\n",
      "Seq('CGTAACAAGGTTTCCGTAGGTGAACCTGCGGAAGGATCATTGTTGAGATCACAT...GCA')\n",
      "743\n",
      "gi|2765576|emb|Z78451.1|PHZ78451\n",
      "Seq('CGTAACAAGGTTTCCGTAGGTGTACCTCCGGAAGGATCATTGTTGAGATCACAT...AGC')\n",
      "730\n",
      "gi|2765575|emb|Z78450.1|PPZ78450\n",
      "Seq('GGAAGGATCATTGCTGATATCACATAATAATTGATCGAGTTAAGCTGGAGGATC...GAG')\n",
      "706\n",
      "gi|2765574|emb|Z78449.1|PMZ78449\n",
      "Seq('CGTAACAAGGTTTCCGTAGGTGAACCTGCGGAAGGATCATTGTTGAGATCACAT...TGC')\n",
      "744\n",
      "gi|2765573|emb|Z78448.1|PAZ78448\n",
      "Seq('CGTAACAAGGTTTCCGTAGGTGAACCTGCGGAAGGATCATTGTTGAGATCACAT...AGG')\n",
      "742\n",
      "gi|2765572|emb|Z78447.1|PVZ78447\n",
      "Seq('CGTAACAAGGATTCCGTAGGTGAACCTGCGGGAGGATCATTGTTGAGATCACAT...AGC')\n",
      "694\n",
      "gi|2765571|emb|Z78446.1|PAZ78446\n",
      "Seq('CGTAACAAGGTTTCCGTAGGTGAACCTCCGGAAGGATCATTGTTGAGATCACAT...CCC')\n",
      "712\n",
      "gi|2765570|emb|Z78445.1|PUZ78445\n",
      "Seq('CGTAACAAGGTTTCCGTAGGTGAACCTGCGGAAGGATCATTGTTGAGATCACAT...TGT')\n",
      "715\n",
      "gi|2765569|emb|Z78444.1|PAZ78444\n",
      "Seq('CGTAACAAGGTTTCCGTAGGGTGAACTGCGGAAGGATCATTGTTGAGATCACAT...ATT')\n",
      "688\n",
      "gi|2765568|emb|Z78443.1|PLZ78443\n",
      "Seq('CGTAACAAGGTTTCCGTAGGTGAACCTGCGGAAGGATCATTGTTGAGATCACAT...AGG')\n",
      "784\n",
      "gi|2765567|emb|Z78442.1|PBZ78442\n",
      "Seq('GTAGGTGAACCTGCGGAAGGATCATTGTTGAGATCACATAATAATTGATCGAGT...AGT')\n",
      "721\n",
      "gi|2765566|emb|Z78441.1|PSZ78441\n",
      "Seq('GGAAGGTCATTGCCGATATCACATAATAATTGATCGAGTTAATCTGGAGGATCT...GAG')\n",
      "703\n",
      "gi|2765565|emb|Z78440.1|PPZ78440\n",
      "Seq('CGTAACAAGGTTTCCGTAGGTGGACCTCCGGGAGGATCATTGTTGAGATCACAT...GCA')\n",
      "744\n",
      "gi|2765564|emb|Z78439.1|PBZ78439\n",
      "Seq('CATTGTTGAGATCACATAATAATTGATCGAGTTAATCTGGAGGATCTGTTTACT...GCC')\n",
      "592\n"
     ]
    }
   ],
   "source": [
    "#importar el módulo SeqIO de la biblioteca Bio de Python para leer un archivo de secuencias en formato FASTA\n",
    "from Bio import SeqIO\n",
    "#La función SeqIO.parse() de la librería Biopython es utilizada para recorrer todas las secuencias presentes \n",
    "#en el archivo FASTA y guardar cada una de ellas en un objeto llamado seq_record. \n",
    "for seq_record in SeqIO.parse(\"ls_orchid.fasta.txt\", \"fasta\"):\n",
    "# Luego, se imprimen en pantalla el identificador de la secuencia (seq_record.id), \n",
    "#la secuencia en sí misma (seq_record.seq) y su longitud (len(seq_record)). \n",
    "    print(seq_record.id)\n",
    "    print(repr(seq_record.seq))\n",
    "    print(len(seq_record))\n"
   ]
  },
  {
   "cell_type": "markdown",
   "id": "b8f0f12e",
   "metadata": {},
   "source": [
    "##### Una pregunta interesante es: ¿ Si tengo el identificador de una secuencia \"x\" como podría buscarlo en el archivo FASTA?"
   ]
  },
  {
   "cell_type": "code",
   "execution_count": 38,
   "id": "7847903a",
   "metadata": {},
   "outputs": [
    {
     "name": "stdout",
     "output_type": "stream",
     "text": [
      "Secuencia de gi|2765658|emb|Z78533.1|CIZ78533: CGTAACAAGGTTTCCGTAGGTGAACCTGCGGAAGGATCATTGATGAGACCGTGGAATAAACGATCGAGTGAATCCGGAGGACCGGTGTACTCAGCTCACCGGGGGCATTGCTCCCGTGGTGACCCTGATTTGTTGTTGGGCCGCCTCGGGAGCGTCCATGGCGGGTTTGAACCTCTAGCCCGGCGCAGTTTGGGCGCCAAGCCATATGAAAGCATCACCGGCGAATGGCATTGTCTTCCCCAAAACCCGGAGCGGCGGCGTGCTGTCGCGTGCCCAATGAATTTTGATGACTCTCGCAAACGGGAATCTTGGCTCTTTGCATCGGATGGAAGGACGCAGCGAAATGCGATAAGTGGTGTGAATTGCAAGATCCCGTGAACCATCGAGTCTTTTGAACGCAAGTTGCGCCCGAGGCCATCAGGCTAAGGGCACGCCTGCTTGGGCGTCGCGCTTCGTCTCTCTCCTGCCAATGCTTGCCCGGCATACAGCCAGGCCGGCGTGGTGCGGATGTGAAAGATTGGCCCCTTGTGCCTAGGTGCGGCGGGTCCAAGAGCTGGTGTTTTGATGGCCCGGAACCCGGCAAGAGGTGGACGGATGCTGGCAGCAGCTGCCGTGCGAATCCCCCATGTTGTCGTGCTTGTCGGACAGGCAGGAGAACCCTTCCGAACCCCAATGGAGGGCGGTTGACCGCCATTCGGATGTGACCCCAGGTCAGGCGGGGGCACCCGCTGAGTTTACGC\n"
     ]
    }
   ],
   "source": [
    "#definir archivo e identificador\n",
    "archivo = \"ls_orchid.fasta.txt\"  # Reemplaza con la ruta de tu archivo FASTA\n",
    "identificador_objetivo = \"gi|2765658|emb|Z78533.1|CIZ78533\"  # Reemplaza con el identificador de la secuencia que deseas extraer\n",
    "\n",
    "for seq_record in SeqIO.parse(archivo, \"fasta\"):\n",
    "    if seq_record.id == identificador_objetivo:\n",
    "        secuencia = seq_record.seq\n",
    "        print(f\"Secuencia de {identificador_objetivo}: {secuencia}\")\n",
    "        break\n",
    "else:\n",
    "    print(f\"No se encontró la secuencia con el identificador {identificador_objetivo}\")"
   ]
  },
  {
   "cell_type": "markdown",
   "id": "d77166d3",
   "metadata": {},
   "source": [
    "#### 2.2 Ejemplo de análisis simple de GenBank"
   ]
  },
  {
   "cell_type": "markdown",
   "id": "0c65aaba",
   "metadata": {},
   "source": [
    "Ahora carguemos el archivo GenBank ls_orchid.gbk en : https://raw.githubusercontent.com/biopython/biopython/master/Doc/examples/ls_orchid.gbk \n",
    "El código para hacer esto es casi idéntico al fragmento usado anteriormente para el archivo FASTA; \n",
    "la única diferencia es que cambiamos el nombre del archivo y la cadena de formato:"
   ]
  },
  {
   "cell_type": "code",
   "execution_count": 80,
   "id": "9364a499",
   "metadata": {},
   "outputs": [
    {
     "name": "stdout",
     "output_type": "stream",
     "text": [
      "Z78533.1\n",
      "Seq('CGTAACAAGGTTTCCGTAGGTGAACCTGCGGAAGGATCATTGATGAGACCGTGG...CGC')\n",
      "740\n",
      "Z78532.1\n",
      "Seq('CGTAACAAGGTTTCCGTAGGTGAACCTGCGGAAGGATCATTGTTGAGACAACAG...GGC')\n",
      "753\n",
      "Z78531.1\n",
      "Seq('CGTAACAAGGTTTCCGTAGGTGAACCTGCGGAAGGATCATTGTTGAGACAGCAG...TAA')\n",
      "748\n",
      "Z78530.1\n",
      "Seq('CGTAACAAGGTTTCCGTAGGTGAACCTGCGGAAGGATCATTGTTGAAACAACAT...CAT')\n",
      "744\n",
      "Z78529.1\n",
      "Seq('ACGGCGAGCTGCCGAAGGACATTGTTGAGACAGCAGAATATACGATTGAGTGAA...AAA')\n",
      "733\n",
      "Z78527.1\n",
      "Seq('CGTAACAAGGTTTCCGTAGGTGAACCTGCGGAAGGATCATTGTTGAGACAGTAG...CCC')\n",
      "718\n",
      "Z78526.1\n",
      "Seq('CGTAACAAGGTTTCCGTAGGTGAACCTGCGGAAGGATCATTGTTGAGACAGTAG...TGT')\n",
      "730\n",
      "Z78525.1\n",
      "Seq('TGTTGAGATAGCAGAATATACATCGAGTGAATCCGGAGGACCTGTGGTTATTCG...GCA')\n",
      "704\n",
      "Z78524.1\n",
      "Seq('CGTAACAAGGTTTCCGTAGGTGAACCTGCGGAAGGATCATTGTTGAGATAGTAG...AGC')\n",
      "740\n",
      "Z78523.1\n",
      "Seq('CGTAACCAGGTTTCCGTAGGTGAACCTGCGGCAGGATCATTGTTGAGACAGCAG...AAG')\n",
      "709\n",
      "Z78522.1\n",
      "Seq('CGTAACAAGGTTTCCGTAGGTGAACCTGCGGAAGGATCATTGTTGAGACAGCAG...GAG')\n",
      "700\n",
      "Z78521.1\n",
      "Seq('GTAGGTGAACCTGCGGAAGGATCATTGTTGAGACAGTAGAATATATGATCGAGT...ACC')\n",
      "726\n",
      "Z78520.1\n",
      "Seq('CGTAACAAGGTTTCCGTAGGTGAACCTGCGGAAGGATCATTGTTGAGACAGCAG...TTT')\n",
      "753\n",
      "Z78519.1\n",
      "Seq('ATATGATCGAGTGAATCTGGTGGACTTGTGGTTACTCAGCTCGCCATAGGCTTT...TTA')\n",
      "699\n",
      "Z78518.1\n",
      "Seq('CGTAACAAGGTTTCCGTAGGTGAACCTGCGGGAGGATCATTGTTGAGATAGTAG...TCC')\n",
      "658\n",
      "Z78517.1\n",
      "Seq('CGTAACAAGGTTTCCGTAGGTGAACCTGCGGAAGGATCATTGTTGAGACAGTAG...AGC')\n",
      "752\n",
      "Z78516.1\n",
      "Seq('CGTAACAAGGTTTCCGTAGGTGAACCTGCGGAAGGATCATTGTTGAGACAGTAT...TAA')\n",
      "726\n",
      "Z78515.1\n",
      "Seq('CGTAACAAGGTTTCCGTAGGTGAACCTGCGGAAGGATCATTGCTGAGACCGTAG...AGC')\n",
      "765\n",
      "Z78514.1\n",
      "Seq('CGTAACAAGGTTTCCGTAGGTGGACCTTCGGGAGGATCATTTTTGAAGCCCCCA...CTA')\n",
      "755\n",
      "Z78513.1\n",
      "Seq('CGTAACAAGGTTTCCGTAGGTGAACCTGCGGAAGGATCATTGTTGAGACCGCCA...GAG')\n",
      "742\n",
      "Z78512.1\n",
      "Seq('CGTAACAAGGTTTCCGTAGGTGGACCTTCGGGAGGATCATTTTTGAAGCCCCCA...AGC')\n",
      "762\n",
      "Z78511.1\n",
      "Seq('CGTAACAAGGTTTCCGTAGGTGAACCTTCGGAAGGATCATTGTTGAGACCCCCA...GGA')\n",
      "745\n",
      "Z78510.1\n",
      "Seq('CTAACCAGGGTTCCGAGGTGACCTTCGGGAGGATTCCTTTTTAAGCCCCCGAAA...TTA')\n",
      "750\n",
      "Z78509.1\n",
      "Seq('CGTAACAAGGTTTCCGTAGGTGAACCTGCGGAAGGATCATTGTTGAGACCGCCA...GGA')\n",
      "731\n",
      "Z78508.1\n",
      "Seq('CGTAACAAGGTTTCCGTAGGTGAACCTGCGGAAGGATCATTGTTGAGACCGCCA...TGA')\n",
      "741\n",
      "Z78507.1\n",
      "Seq('CGTAACAAGGTTTCCGTAGGTGAACCTGCGGAAGGATCATTGTTGAGACCCCCA...TGA')\n",
      "740\n",
      "Z78506.1\n",
      "Seq('CGTAACAAGGTTTCCGTAGGTGAACCTGCGGAAGGATCATTGTTGAGACCGCAA...TGA')\n",
      "727\n",
      "Z78505.1\n",
      "Seq('CGTAACAAGGTTTCCGTAGGTGAACCTGCGGAAGGATCATTGTTGAGACCGCCA...TTT')\n",
      "711\n",
      "Z78504.1\n",
      "Seq('CGTAACAAGGTTTCCGTAGGTGAACCTTCGGAAGGATCATTGTTGAGACCGCAA...TAA')\n",
      "743\n",
      "Z78503.1\n",
      "Seq('CGTAACCAGGTTTCCGTAGGTGAACCTCCGGAAGGATCCTTGTTGAGACCGCCA...TAA')\n",
      "727\n",
      "Z78502.1\n",
      "Seq('CGTAACCAGGTTTCCGTAGGTGAACCTCCGGAAGGATCATTGTTGAGACCGCCA...CGC')\n",
      "757\n",
      "Z78501.1\n",
      "Seq('CGTAACAAGGTTTCCGTAGGTGAACCTGCGGAAGGATCATTGTTGAGACCGCAA...AGA')\n",
      "770\n",
      "Z78500.1\n",
      "Seq('CGTAACAAGGTTTCCGTAGGTGAACCTGCGGAAGGCTCATTGTTGAGACCGCAA...AAG')\n",
      "767\n",
      "Z78499.1\n",
      "Seq('CGTAACAAGGTTTCCGTAGGTGAACCTGCGGAGGGATCATTGTTGAGATCGCAT...ACC')\n",
      "759\n",
      "Z78498.1\n",
      "Seq('CGTAACAAGGTTTCCGTAGGTGAACCTGCGGAAAGGTCATTGTTGAGATCACAT...AGC')\n",
      "750\n",
      "Z78497.1\n",
      "Seq('CGTAACAAGGTTTCCGTAGGTGAACCTGCGGAAGGATCATTGTTGAGATCACAT...AGC')\n",
      "788\n",
      "Z78496.1\n",
      "Seq('CGTAACAAGGTTTCCGTAGGTGAACCTGCGGAAGGATCATTGTTGAGATCGCAT...AGC')\n",
      "774\n",
      "Z78495.1\n",
      "Seq('CGTAACAAGGTTTCCGTAGGTGAACCTCCGGAAGGATCATTGTTGAGATCACAT...GTG')\n",
      "789\n",
      "Z78494.1\n",
      "Seq('CGTAACAAGGTTTCCGTAGGTGAACCTGCGGAAGGATCATTGTTGAGGTCGCAT...AAG')\n",
      "688\n",
      "Z78493.1\n",
      "Seq('CGTAACAAGGATTCCGTAGGTGAACCTGCGGAAGGATCATTGTTGAGATCGCAT...CCC')\n",
      "719\n",
      "Z78492.1\n",
      "Seq('CGTAACAAGGTTTCCGTAGGTGAACCTGCGGAAGGATCATTGTTGAGATCGCAT...ATA')\n",
      "743\n",
      "Z78491.1\n",
      "Seq('CGTAACAAGGTTTCCGTAGGTGAACCTGCGGAAGGATCATTGTTGAGATCGCAT...AGC')\n",
      "737\n",
      "Z78490.1\n",
      "Seq('CGTAACAAGGTTTCCGTAGGTGAACCTGCGGAAGGATCATTGTTGAGATCACAT...TGA')\n",
      "728\n",
      "Z78489.1\n",
      "Seq('CGTAACAAGGTTTCCGTAGGTGAACCTGCGGAAGGATCATTGTTGAGATCACAT...GGC')\n",
      "740\n",
      "Z78488.1\n",
      "Seq('CTGTAGGTGAACCTGCGGAAGGATCATTGTTGAGATCACGCAATAATTGATCGA...GCT')\n",
      "696\n",
      "Z78487.1\n",
      "Seq('CGTAACAAGGTTTCCGTAGGTGAACCTGCGGAAGGATCATTGTTGAGATCACAT...TAA')\n",
      "732\n",
      "Z78486.1\n",
      "Seq('CGTCACGAGGTTTCCGTAGGTGAATCTGCGGGAGGATCATTGTTGAGATCACAT...TGA')\n",
      "731\n",
      "Z78485.1\n",
      "Seq('CTGAACCTGGTGTCCGAAGGTGAATCTGCGGATGGATCATTGTTGAGATATCAT...GTA')\n",
      "735\n",
      "Z78484.1\n",
      "Seq('CGTAACAAGGTTTCCGTAGGTGAACCTGGGGAAGGATCATTGTTGAGATCACAT...TTT')\n",
      "720\n",
      "Z78483.1\n",
      "Seq('CGTAACAAGGTTTCCGTAGGTGAACCTGCGGAAGGATCATTGTTGAGATCACAT...GCA')\n",
      "740\n",
      "Z78482.1\n",
      "Seq('TCTACTGCAGTGACCGAGATTTGCCATCGAGCCTCCTGGGAGCTTTCTTGCTGG...GCA')\n",
      "629\n",
      "Z78481.1\n",
      "Seq('CGTAACAAGGTTTCCGTAGGTGAACCTGCGGAAGGATCATTGTTGAGATCACAT...TGA')\n",
      "572\n",
      "Z78480.1\n",
      "Seq('CGTAACAAGGTTTCCGTAGGTGAACCTGCGGAAGGATCATTGTTGAGATCACAT...TGA')\n",
      "587\n",
      "Z78479.1\n",
      "Seq('CGTAACAAGGTTTCCGTAGGTGAACCTGCGGAAGGATCATTGTTGAGATCACAT...AGT')\n",
      "700\n",
      "Z78478.1\n",
      "Seq('CGTAACAAGGTTTCCGTAGGTGAACCTCCGGAAGGATCAGTGTTGAGATCACAT...GGC')\n",
      "636\n",
      "Z78477.1\n",
      "Seq('CGTAACAAGGTTTCCGTAGGTGAACCTGCGGAAGGATCATTGTTGAGATCACAT...TGC')\n",
      "716\n",
      "Z78476.1\n",
      "Seq('CGTAACAAGGTTTCCGTAGGTGAACCTGCGGAAGGATCATTGTTGAGATCACAT...CCC')\n",
      "592\n",
      "Z78475.1\n",
      "Seq('CGTAACAAGGTTTCCGTAGGTGAACCTGCGGAAGGATCATTGTTGAGATCACAT...GGT')\n",
      "716\n",
      "Z78474.1\n",
      "Seq('CGTAACAAGGTTTCCGTAGGTGAACCTGCGGAAGGATCATTGTTGAGATCACGT...CTT')\n",
      "733\n",
      "Z78473.1\n",
      "Seq('CGTAACAAGGTTTCCGTAGGTGAACCTGCGGAAGGATCATTGTTGAGATCACAT...AGG')\n",
      "626\n",
      "Z78472.1\n",
      "Seq('CGTAACAAGGTTTCCGTAGGTGAACCTGCGGAAGGATCATTGTTGAGATCACAT...AGC')\n",
      "737\n",
      "Z78471.1\n",
      "Seq('CGTAACAAGGTTTCCGTAGGTGAACCTGCGGAAGGATCATTGTTGAGATCACAT...AGC')\n",
      "740\n",
      "Z78470.1\n",
      "Seq('CGTAACAAGGTTTCCGTAGGTGAACCTGCGGAAGGATCATTGTTGAGATCACAT...GTT')\n",
      "574\n",
      "Z78469.1\n",
      "Seq('CGTAACAAGGTTTCCGTAGGTGAACCTGCGGAAGGATCATTGTTGAGATCACAT...GTT')\n",
      "594\n",
      "Z78468.1\n",
      "Seq('CGTAACAAGGTTTCCGTAGGTGAACCTGCGGAAGGATCATTGTTGAGATCGCAT...GTT')\n",
      "610\n",
      "Z78467.1\n",
      "Seq('CGTAACAAGGTTTCCGTAGGTGAACCTGCGGAAGGATCATTGTTGAGATCACAT...TGA')\n",
      "730\n",
      "Z78466.1\n",
      "Seq('CGTAACAAGGTTTCCGTAGGTGAACCTGCGGAAGGATCATTGTTGAGATCACAT...CCC')\n",
      "641\n",
      "Z78465.1\n",
      "Seq('CGTAACAAGGTTTCCGTAGGTGAACCTGCGGAAGGATCATTGTTGAGATCACAT...TGC')\n",
      "702\n",
      "Z78464.1\n",
      "Seq('CGTAACAAGGTTTCCGTAGGTGAGCGGAAGGGTCATTGTTGAGATCACATAATA...AGC')\n",
      "733\n",
      "Z78463.1\n",
      "Seq('CGTAACAAGGTTTCCGTAGGTGAACCTGCGGAAGGTTCATTGTTGAGATCACAT...AGC')\n",
      "738\n",
      "Z78462.1\n",
      "Seq('CGTCACGAGGTCTCCGGATGTGACCCTGCGGAAGGATCATTGTTGAGATCACAT...CAT')\n",
      "736\n",
      "Z78461.1\n",
      "Seq('CGTAACAAGGTTTCCGTAGGTGAACCTCCGGAAGGATCATTGTTGAGATCACAT...TAA')\n",
      "732\n",
      "Z78460.1\n",
      "Seq('CGTAACAAGGTTTCCGTAGGTGAACCTCCGGAAGGATCATTGTTGAGATCACAT...TTA')\n",
      "745\n",
      "Z78459.1\n",
      "Seq('CGTAACAAGGTTTCCGTAGGTGAACCTGCGGAAGGATCATTGTTGAGATCACAT...TTT')\n",
      "744\n",
      "Z78458.1\n",
      "Seq('CGTAACAAGGTTTCCGTAGGTGAACCTGCGGAAGGATCATTGTTGAGATCACAT...TTG')\n",
      "738\n",
      "Z78457.1\n",
      "Seq('CGTAACAAGGTTTCCGTAGGTGAACCTCCGGAAGGATCATTGTTGAGATCACAT...GAG')\n",
      "739\n",
      "Z78456.1\n",
      "Seq('CGTAACAAGGTTTCCGTAGGTGAACCTGCGGAAGGATCATTGTTGAGATCACAT...AGC')\n",
      "740\n",
      "Z78455.1\n",
      "Seq('CGTAACCAGGTTTCCGTAGGTGGACCTTCGGGAGGATCATTTTTGAGATCACAT...GCA')\n",
      "745\n",
      "Z78454.1\n",
      "Seq('CGTAACAAGGTTTCCGTAGGTGAACCTGCGGAAGGATCATTGTTGAGATCACAT...AAC')\n",
      "695\n",
      "Z78453.1\n",
      "Seq('CGTAACAAGGTTTCCGTAGGTGAACCTGCGGAAGGATCATTGTTGAGATCACAT...GCA')\n",
      "745\n",
      "Z78452.1\n",
      "Seq('CGTAACAAGGTTTCCGTAGGTGAACCTGCGGAAGGATCATTGTTGAGATCACAT...GCA')\n",
      "743\n",
      "Z78451.1\n",
      "Seq('CGTAACAAGGTTTCCGTAGGTGTACCTCCGGAAGGATCATTGTTGAGATCACAT...AGC')\n",
      "730\n",
      "Z78450.1\n",
      "Seq('GGAAGGATCATTGCTGATATCACATAATAATTGATCGAGTTAAGCTGGAGGATC...GAG')\n",
      "706\n",
      "Z78449.1\n",
      "Seq('CGTAACAAGGTTTCCGTAGGTGAACCTGCGGAAGGATCATTGTTGAGATCACAT...TGC')\n",
      "744\n",
      "Z78448.1\n",
      "Seq('CGTAACAAGGTTTCCGTAGGTGAACCTGCGGAAGGATCATTGTTGAGATCACAT...AGG')\n",
      "742\n",
      "Z78447.1\n",
      "Seq('CGTAACAAGGATTCCGTAGGTGAACCTGCGGGAGGATCATTGTTGAGATCACAT...AGC')\n",
      "694\n",
      "Z78446.1\n",
      "Seq('CGTAACAAGGTTTCCGTAGGTGAACCTCCGGAAGGATCATTGTTGAGATCACAT...CCC')\n",
      "712\n",
      "Z78445.1\n",
      "Seq('CGTAACAAGGTTTCCGTAGGTGAACCTGCGGAAGGATCATTGTTGAGATCACAT...TGT')\n",
      "715\n",
      "Z78444.1\n",
      "Seq('CGTAACAAGGTTTCCGTAGGGTGAACTGCGGAAGGATCATTGTTGAGATCACAT...ATT')\n",
      "688\n",
      "Z78443.1\n",
      "Seq('CGTAACAAGGTTTCCGTAGGTGAACCTGCGGAAGGATCATTGTTGAGATCACAT...AGG')\n",
      "784\n",
      "Z78442.1\n",
      "Seq('GTAGGTGAACCTGCGGAAGGATCATTGTTGAGATCACATAATAATTGATCGAGT...AGT')\n",
      "721\n",
      "Z78441.1\n",
      "Seq('GGAAGGTCATTGCCGATATCACATAATAATTGATCGAGTTAATCTGGAGGATCT...GAG')\n",
      "703\n",
      "Z78440.1\n",
      "Seq('CGTAACAAGGTTTCCGTAGGTGGACCTCCGGGAGGATCATTGTTGAGATCACAT...GCA')\n",
      "744\n",
      "Z78439.1\n",
      "Seq('CATTGTTGAGATCACATAATAATTGATCGAGTTAATCTGGAGGATCTGTTTACT...GCC')\n",
      "592\n"
     ]
    }
   ],
   "source": [
    "from Bio import SeqIO\n",
    "for seq_record in SeqIO.parse(\"ls_orchid.gbk.txt\", \"genbank\"):\n",
    "    print(seq_record.id)\n",
    "    print(repr(seq_record.seq))\n",
    "    print(len(seq_record))"
   ]
  },
  {
   "cell_type": "code",
   "execution_count": 86,
   "id": "af11ce8f",
   "metadata": {},
   "outputs": [
    {
     "name": "stdout",
     "output_type": "stream",
     "text": [
      "ID: Z78533.1\n",
      "Name: Z78533\n",
      "Description: C.irapeanum 5.8S rRNA gene and ITS1 and ITS2 DNA\n",
      "Number of features: 5\n",
      "/molecule_type=DNA\n",
      "/topology=linear\n",
      "/data_file_division=PLN\n",
      "/date=30-NOV-2006\n",
      "/accessions=['Z78533']\n",
      "/sequence_version=1\n",
      "/gi=2765658\n",
      "/keywords=['5.8S ribosomal RNA', '5.8S rRNA gene', 'internal transcribed spacer', 'ITS1', 'ITS2']\n",
      "/source=Cypripedium irapeanum\n",
      "/organism=Cypripedium irapeanum\n",
      "/taxonomy=['Eukaryota', 'Viridiplantae', 'Streptophyta', 'Embryophyta', 'Tracheophyta', 'Spermatophyta', 'Magnoliophyta', 'Liliopsida', 'Asparagales', 'Orchidaceae', 'Cypripedioideae', 'Cypripedium']\n",
      "/references=[Reference(title='Phylogenetics of the slipper orchids (Cypripedioideae: Orchidaceae): nuclear rDNA ITS sequences', ...), Reference(title='Direct Submission', ...)]\n",
      "Seq('CGTAACAAGGTTTCCGTAGGTGAACCTGCGGAAGGATCATTGATGAGACCGTGG...CGC')\n"
     ]
    }
   ],
   "source": [
    "#Extracción de datos\n",
    "record_iterator = SeqIO.parse(\"ls_orchid.gbk.txt\", \"genbank\")\n",
    "first_record = next(record_iterator)\n",
    "print(first_record)"
   ]
  },
  {
   "cell_type": "code",
   "execution_count": 24,
   "id": "a99f8d73",
   "metadata": {},
   "outputs": [
    {
     "name": "stdout",
     "output_type": "stream",
     "text": [
      "0 G\n",
      "1 A\n",
      "2 T\n",
      "3 C\n",
      "4 G\n",
      "El largo de la secuencia es de: 5\n"
     ]
    }
   ],
   "source": [
    "#Las secuencias actúan como cadenas (strings)\n",
    "from Bio.Seq import Seq\n",
    "secuencia = Seq(\"GATCG\")\n",
    "for indice, letra in enumerate(secuencia):\n",
    "     print(\"%i %s\" % (indice, letra))\n",
    "\n",
    "print(\"El largo de la secuencia es de:\", len(secuencia))"
   ]
  },
  {
   "cell_type": "code",
   "execution_count": 25,
   "id": "eac0466d",
   "metadata": {},
   "outputs": [
    {
     "name": "stdout",
     "output_type": "stream",
     "text": [
      "G\n",
      "A\n",
      "G\n"
     ]
    }
   ],
   "source": [
    "#Puedes acceder a los elementos de la secuencia de la misma manera que para las cadenas \n",
    "#Recuerda que Python cuenta desde cero\n",
    "\n",
    "print(secuencia[0])  # primera letra\n",
    "\n",
    "print(secuencia[1])  # segunda letra\n",
    "\n",
    "print(secuencia[-1])  # última letra"
   ]
  },
  {
   "cell_type": "markdown",
   "id": "5cc7967e",
   "metadata": {},
   "source": [
    "El objeto Seq tiene un método .count(), como una cadena. Tenga en cuenta que esto significa que, al igual que una cadena de Python, esto proporciona un recuento que no se superpone :"
   ]
  },
  {
   "cell_type": "code",
   "execution_count": 26,
   "id": "36fa6c0c",
   "metadata": {},
   "outputs": [
    {
     "data": {
      "text/plain": [
       "2"
      ]
     },
     "execution_count": 26,
     "metadata": {},
     "output_type": "execute_result"
    }
   ],
   "source": [
    "\"GGGGTT\".count(\"GG\")\n"
   ]
  },
  {
   "cell_type": "code",
   "execution_count": 27,
   "id": "57d29300",
   "metadata": {},
   "outputs": [
    {
     "data": {
      "text/plain": [
       "2"
      ]
     },
     "execution_count": 27,
     "metadata": {},
     "output_type": "execute_result"
    }
   ],
   "source": [
    "Seq(\"GATTCCGTACTGGAT\").count(\"AT\")"
   ]
  },
  {
   "cell_type": "markdown",
   "id": "2805b2b4",
   "metadata": {},
   "source": [
    "Para algunos usos biológicos, es posible que desee un recuento superpuesto (es decir, 3 en este ejemplo trivial). Al buscar letras individuales, esto no supone ninguna diferencia:"
   ]
  },
  {
   "cell_type": "code",
   "execution_count": 28,
   "id": "79702890",
   "metadata": {},
   "outputs": [
    {
     "data": {
      "text/plain": [
       "36"
      ]
     },
     "execution_count": 28,
     "metadata": {},
     "output_type": "execute_result"
    }
   ],
   "source": [
    "\n",
    "secuencia = Seq(\"ACGATCGATGAGGCCTATATAGGATCGAAAATCGCG\")\n",
    "len(secuencia)\n"
   ]
  },
  {
   "cell_type": "code",
   "execution_count": 29,
   "id": "b6dde70f",
   "metadata": {},
   "outputs": [
    {
     "data": {
      "text/plain": [
       "10"
      ]
     },
     "execution_count": 29,
     "metadata": {},
     "output_type": "execute_result"
    }
   ],
   "source": [
    "secuencia.count(\"G\")\n",
    "\n"
   ]
  },
  {
   "cell_type": "code",
   "execution_count": 30,
   "id": "b75e618f",
   "metadata": {},
   "outputs": [
    {
     "data": {
      "text/plain": [
       "47.22222222222222"
      ]
     },
     "execution_count": 30,
     "metadata": {},
     "output_type": "execute_result"
    }
   ],
   "source": [
    "100 * (secuencia.count(\"G\") + secuencia.count(\"C\")) / len(secuencia)"
   ]
  },
  {
   "cell_type": "markdown",
   "id": "37003bf3",
   "metadata": {},
   "source": [
    "Si bien puede usar el fragmento de código anterior para calcular el % de GC, ten en cuenta que Bio.Seq es un módulo útil ya que tiene varias funciones de GC integradas. Por ejemplo:"
   ]
  },
  {
   "cell_type": "code",
   "execution_count": 31,
   "id": "91e23691",
   "metadata": {},
   "outputs": [
    {
     "data": {
      "text/plain": [
       "0.46875"
      ]
     },
     "execution_count": 31,
     "metadata": {},
     "output_type": "execute_result"
    }
   ],
   "source": [
    "from Bio.SeqUtils import gc_fraction\n",
    "secuencia = Seq(\"GATCGATGGGCCTATATAGGATCGAAAATCGC\")\n",
    "gc_fraction(secuencia)\n"
   ]
  },
  {
   "cell_type": "markdown",
   "id": "af253c3c",
   "metadata": {},
   "source": [
    "### Ejercicio\n",
    "\n",
    "Verifica el % de GC en la siguiente secuencia: GATCGATGGTCATGAAATGCATGATACGATAGCATGATACAAGGCCCTTTGCTAGCTACGATCGGGCCTATATAGGATCGAAAATCGC"
   ]
  },
  {
   "cell_type": "markdown",
   "id": "723c8d5c",
   "metadata": {},
   "source": [
    "<img src=\"https://raw.githubusercontent.com/Barbara-GD/Introduccion_a_la_Bioinformatica/main/pythonASCII.png\" alt=\"Drawing\" style=\"width: 700px;\"/>"
   ]
  },
  {
   "cell_type": "code",
   "execution_count": 91,
   "id": "7a2df656",
   "metadata": {},
   "outputs": [
    {
     "data": {
      "text/plain": [
       "0.45454545454545453"
      ]
     },
     "execution_count": 91,
     "metadata": {},
     "output_type": "execute_result"
    }
   ],
   "source": [
    "secuencia = Seq(\"GATCGATGGTCATGAAATGCATGATACGATAGCATGATACAAGGCCCTTTGCTAGCTACGATCGGGCCTATATAGGATCGAAAATCGC\")\n",
    "gc_fraction(secuencia)"
   ]
  },
  {
   "cell_type": "markdown",
   "id": "a7acbcbe",
   "metadata": {},
   "source": [
    "#### Invertir  y cortar secuencias"
   ]
  },
  {
   "cell_type": "code",
   "execution_count": 38,
   "id": "b9d0af10",
   "metadata": {},
   "outputs": [
    {
     "data": {
      "text/plain": [
       "Seq('CGGGTAGCTAG')"
      ]
     },
     "execution_count": 38,
     "metadata": {},
     "output_type": "execute_result"
    }
   ],
   "source": [
    "secuencia = Seq(\"GATCGATGGGC\")\n",
    "secuencia[::-1]"
   ]
  },
  {
   "cell_type": "markdown",
   "id": "e0c22b52",
   "metadata": {},
   "source": [
    "También como una cadena de Python, puedes hacer cortes con un inicio, una parada y una zancada (el tamaño del paso, que por defecto es uno). Por ejemplo, podemos obtener la primera, segunda y tercera posición de los codones de esta secuencia de ADN:"
   ]
  },
  {
   "cell_type": "code",
   "execution_count": 36,
   "id": "6fae512a",
   "metadata": {},
   "outputs": [
    {
     "data": {
      "text/plain": [
       "Seq('AGGC')"
      ]
     },
     "execution_count": 36,
     "metadata": {},
     "output_type": "execute_result"
    }
   ],
   "source": [
    "secuencia[1::3]"
   ]
  },
  {
   "cell_type": "markdown",
   "id": "b94bc88b",
   "metadata": {},
   "source": [
    "#### Concatenar o agregar secuencias\n",
    "Se pueden concatenar dos objetos Seq sumándolos:\n",
    "\n"
   ]
  },
  {
   "cell_type": "code",
   "execution_count": 39,
   "id": "38b63651",
   "metadata": {},
   "outputs": [
    {
     "data": {
      "text/plain": [
       "Seq('ACGTAACCGG')"
      ]
     },
     "execution_count": 39,
     "metadata": {},
     "output_type": "execute_result"
    }
   ],
   "source": [
    "seq1 = Seq(\"ACGT\")\n",
    "seq2 = Seq(\"AACCGG\")\n",
    "seq1 + seq2"
   ]
  },
  {
   "cell_type": "markdown",
   "id": "ac5fc66a",
   "metadata": {},
   "source": [
    "#### Cambiar MAYUS"
   ]
  },
  {
   "cell_type": "code",
   "execution_count": 60,
   "id": "85fc8a65",
   "metadata": {},
   "outputs": [
    {
     "data": {
      "text/plain": [
       "Seq('gtacgtACAAGTggtc')"
      ]
     },
     "execution_count": 60,
     "metadata": {},
     "output_type": "execute_result"
    }
   ],
   "source": [
    "dna_seq = Seq(\"gtacgtACAAGTggtc\") \n",
    "dna_seq\n"
   ]
  },
  {
   "cell_type": "code",
   "execution_count": 61,
   "id": "db80a591",
   "metadata": {},
   "outputs": [
    {
     "data": {
      "text/plain": [
       "Seq('GTACGTACAAGTGGTC')"
      ]
     },
     "execution_count": 61,
     "metadata": {},
     "output_type": "execute_result"
    }
   ],
   "source": [
    "dna_seq.upper()\n",
    "\n"
   ]
  },
  {
   "cell_type": "code",
   "execution_count": 62,
   "id": "51031ea4",
   "metadata": {},
   "outputs": [
    {
     "data": {
      "text/plain": [
       "Seq('gtacgtacaagtggtc')"
      ]
     },
     "execution_count": 62,
     "metadata": {},
     "output_type": "execute_result"
    }
   ],
   "source": [
    "dna_seq.lower()\n"
   ]
  },
  {
   "cell_type": "markdown",
   "id": "42489105",
   "metadata": {},
   "source": [
    "#### Secuencias de nucleótidos y complementos (inversos)\n",
    "Para secuencias de nucleótidos, puede obtener fácilmente el complemento o el complemento inverso de un Seqobjeto utilizando sus métodos integrados:"
   ]
  },
  {
   "cell_type": "code",
   "execution_count": 65,
   "id": "d3eff5ad",
   "metadata": {},
   "outputs": [
    {
     "data": {
      "text/plain": [
       "Seq('GACTAGCTACCCGGATATATCCTAGG')"
      ]
     },
     "execution_count": 65,
     "metadata": {},
     "output_type": "execute_result"
    }
   ],
   "source": [
    "secuencia = Seq(\"CTGATCGATGGGCCTATATAGGATCC\")\n",
    "secuencia.complement()\n"
   ]
  },
  {
   "cell_type": "code",
   "execution_count": 67,
   "id": "510b5870",
   "metadata": {},
   "outputs": [
    {
     "data": {
      "text/plain": [
       "Seq('GGATCCTATATAGGCCCATCGATCAG')"
      ]
     },
     "execution_count": 67,
     "metadata": {},
     "output_type": "execute_result"
    }
   ],
   "source": [
    "secuencia.reverse_complement()\n"
   ]
  },
  {
   "cell_type": "markdown",
   "id": "e1ea06e3",
   "metadata": {},
   "source": [
    "#### Comparando secuencias"
   ]
  },
  {
   "cell_type": "code",
   "execution_count": 72,
   "id": "59c08bc1",
   "metadata": {},
   "outputs": [
    {
     "data": {
      "text/plain": [
       "True"
      ]
     },
     "execution_count": 72,
     "metadata": {},
     "output_type": "execute_result"
    }
   ],
   "source": [
    "secuencia1 = Seq(\"ACGT\")\n",
    "\"ACGT\" == secuencia1\n"
   ]
  },
  {
   "cell_type": "markdown",
   "id": "2471c9e0",
   "metadata": {},
   "source": [
    "#### Objetos SeqRecord de archivos FASTA"
   ]
  },
  {
   "cell_type": "markdown",
   "id": "05e7763d",
   "metadata": {},
   "source": [
    "Este ejemplo utiliza un archivo FASTA bastante grande que contiene la secuencia completa de *Yersinia pestis biovar Microtus* str. 91001 plásmido pPCP1, descargado originalmente del NCBI."
   ]
  },
  {
   "cell_type": "code",
   "execution_count": 84,
   "id": "310e27e8",
   "metadata": {},
   "outputs": [
    {
     "data": {
      "text/plain": [
       "SeqRecord(seq=Seq('TGTAACGAACGGTGCAATAGTGATCCACACCCAACGCCTGAAATCAGATCCAGG...CTG'), id='gi|45478711|ref|NC_005816.1|', name='gi|45478711|ref|NC_005816.1|', description='gi|45478711|ref|NC_005816.1| Yersinia pestis biovar Microtus str. 91001 plasmid pPCP1, complete sequence', dbxrefs=[])"
      ]
     },
     "execution_count": 84,
     "metadata": {},
     "output_type": "execute_result"
    }
   ],
   "source": [
    "from Bio import SeqIO\n",
    "record = SeqIO.read(\"NC_005816.fna\", \"fasta\")\n",
    "record\n"
   ]
  },
  {
   "cell_type": "markdown",
   "id": "28a13a30",
   "metadata": {},
   "source": [
    "#### Conexión con bases de datos biológicas\n",
    "\n",
    "Una de las cosas más comunes que hay que hacer en bioinformática es extraer información de bases de datos biológicas. Puede resultar bastante tedioso acceder a estas bases de datos manualmente. Biopython nos ahorra tiempo poniendo a nuestra disposición algunas bases de datos en línea a partir de scripts de Python. Actualmente, Biopython cuenta con código para extraer información de las siguientes bases de datos:\n",
    "\n",
    "- [Entrez](https://www.ncbi.nlm.nih.gov/Web/Search/entrezfs.html) ([y PubMed](https://pubmed.ncbi.nlm.nih.gov/)) from the NCBI\n",
    "- [ExPASy](https://www.expasy.org/)\n",
    "- [SCOP](http://scop.mrc-lmb.cam.ac.uk/) "
   ]
  },
  {
   "cell_type": "markdown",
   "id": "7b71f046",
   "metadata": {},
   "source": [
    "#### Análisis de registros de GenBank desde la red"
   ]
  },
  {
   "cell_type": "code",
   "execution_count": 87,
   "id": "fd73e4fe",
   "metadata": {},
   "outputs": [
    {
     "name": "stdout",
     "output_type": "stream",
     "text": [
      "AF191665.1 with 0 features\n"
     ]
    }
   ],
   "source": [
    "from Bio import Entrez\n",
    "from Bio import SeqIO\n",
    "\n",
    "Entrez.email = \"A.N.Other@example.com\"\n",
    "with Entrez.efetch(\n",
    "    db=\"nucleotide\", rettype=\"fasta\", retmode=\"text\", id=\"6273291\"\n",
    ") as handle:\n",
    "    seq_record = SeqIO.read(handle, \"fasta\")\n",
    "print(\"%s with %i features\" % (seq_record.id, len(seq_record.features)))"
   ]
  },
  {
   "cell_type": "code",
   "execution_count": 89,
   "id": "b8575dd1",
   "metadata": {},
   "outputs": [
    {
     "name": "stdout",
     "output_type": "stream",
     "text": [
      "AF191665.1 with 3 features\n"
     ]
    }
   ],
   "source": [
    "from Bio import Entrez\n",
    "from Bio import SeqIO\n",
    "\n",
    "Entrez.email = \"A.N.Other@example.com\"\n",
    "with Entrez.efetch(\n",
    "    db=\"nucleotide\", rettype=\"gb\", retmode=\"text\", id=\"6273291\"\n",
    ") as handle:\n",
    "    seq_record = SeqIO.read(handle, \"gb\")  # using \"gb\" as an alias for \"genbank\"\n",
    "print(\"%s with %i features\" % (seq_record.id, len(seq_record.features)))"
   ]
  },
  {
   "cell_type": "markdown",
   "id": "74b89ae2",
   "metadata": {},
   "source": [
    "#### Análisis de secuencias SwissProt desde la red"
   ]
  },
  {
   "cell_type": "code",
   "execution_count": 90,
   "id": "33dc51e5",
   "metadata": {},
   "outputs": [
    {
     "name": "stdout",
     "output_type": "stream",
     "text": [
      "O23729\n",
      "CHS3_BROFI\n",
      "RecName: Full=Chalcone synthase 3; EC=2.3.1.74; AltName: Full=Naringenin-chalcone synthase 3;\n",
      "Seq('MAPAMEEIRQAQRAEGPAAVLAIGTSTPPNALYQADYPDYYFRITKSEHLTELK...GAE')\n",
      "Length 394\n",
      "['Acyltransferase', 'Flavonoid biosynthesis', 'Transferase']\n"
     ]
    }
   ],
   "source": [
    "from Bio import ExPASy\n",
    "from Bio import SeqIO\n",
    "\n",
    "with ExPASy.get_sprot_raw(\"O23729\") as handle:\n",
    "    seq_record = SeqIO.read(handle, \"swiss\")\n",
    "print(seq_record.id)\n",
    "print(seq_record.name)\n",
    "print(seq_record.description)\n",
    "print(repr(seq_record.seq))\n",
    "print(\"Length %i\" % len(seq_record))\n",
    "print(seq_record.annotations[\"keywords\"])"
   ]
  },
  {
   "cell_type": "markdown",
   "id": "729c4b28",
   "metadata": {},
   "source": [
    "Documentación: http://biopython.org/DIST/docs/tutorial/Tutorial.html"
   ]
  },
  {
   "cell_type": "markdown",
   "id": "53597527",
   "metadata": {},
   "source": [
    "### Analisis de proteínas con Biopython"
   ]
  },
  {
   "cell_type": "markdown",
   "id": "d6abbe8b",
   "metadata": {},
   "source": [
    "<img src=\"https://raw.githubusercontent.com/Barbara-GD/Introduccion_a_la_Bioinformatica/main/aminoacidos.png\" alt=\"Drawing\" style=\"width: 350px;\"/>"
   ]
  },
  {
   "cell_type": "code",
   "execution_count": 114,
   "id": "7774326d",
   "metadata": {},
   "outputs": [
    {
     "name": "stdout",
     "output_type": "stream",
     "text": [
      "{'A': 0.0392156862745098, 'C': 0.17647058823529413, 'D': 0.0, 'E': 0.0392156862745098, 'F': 0.0, 'G': 0.09803921568627451, 'H': 0.0392156862745098, 'I': 0.058823529411764705, 'K': 0.0196078431372549, 'L': 0.17647058823529413, 'M': 0.0, 'N': 0.058823529411764705, 'P': 0.0, 'Q': 0.0392156862745098, 'R': 0.0, 'S': 0.0784313725490196, 'T': 0.0196078431372549, 'V': 0.0784313725490196, 'W': 0.0, 'Y': 0.0784313725490196}\n"
     ]
    }
   ],
   "source": [
    "import collections\n",
    "from Bio import SeqIO\n",
    "from Bio.SeqUtils.ProtParam import ProteinAnalysis\n",
    "\n",
    "insulina=\"GIVEQCCTSICSLYLENCGSHLVCGALYLSCGLIYGCHLVCNYALKVCQLN\"\n",
    "analisis=ProteinAnalysis(insulina)\n",
    "\n",
    "composicion_amino= analisis.get_amino_acids_percent()\n",
    "\n",
    "print(composicion_amino)"
   ]
  },
  {
   "cell_type": "code",
   "execution_count": 115,
   "id": "597d672f",
   "metadata": {},
   "outputs": [
    {
     "name": "stdout",
     "output_type": "stream",
     "text": [
      "Peso molecular: 5489.479899999999\n"
     ]
    }
   ],
   "source": [
    "peso_mol=analisis.molecular_weight()\n",
    "print(\"Peso molecular:\", peso_mol)"
   ]
  },
  {
   "cell_type": "code",
   "execution_count": 116,
   "id": "c9077e2c",
   "metadata": {},
   "outputs": [
    {
     "data": {
      "text/plain": [
       "51"
      ]
     },
     "execution_count": 116,
     "metadata": {},
     "output_type": "execute_result"
    }
   ],
   "source": [
    "len(insulina)"
   ]
  },
  {
   "cell_type": "markdown",
   "id": "e6750f19",
   "metadata": {},
   "source": [
    "Contenido de estructuras secundarias"
   ]
  },
  {
   "cell_type": "code",
   "execution_count": 121,
   "id": "ab838497",
   "metadata": {},
   "outputs": [
    {
     "name": "stdout",
     "output_type": "stream",
     "text": [
      "contenido de alfa-helices: 0.3921568627450981\n",
      "contenido de laminas-beta: 0.23529411764705882\n"
     ]
    }
   ],
   "source": [
    "contenido_helices=analisis.secondary_structure_fraction()[0]\n",
    "contenido_laminas=analisis.secondary_structure_fraction()[1]\n",
    "\n",
    "print(\"contenido de alfa-helices:\", contenido_helices)\n",
    "print(\"contenido de laminas-beta:\", contenido_laminas)"
   ]
  },
  {
   "cell_type": "markdown",
   "id": "0ba2ffc7",
   "metadata": {},
   "source": [
    "<img src=\"https://raw.githubusercontent.com/Barbara-GD/Introduccion_a_la_Bioinformatica/main/pythonASCII.png\" alt=\"Drawing\" style=\"width: 700px;\"/>"
   ]
  },
  {
   "cell_type": "markdown",
   "id": "4f9c54f8",
   "metadata": {},
   "source": [
    "#### Desafío:\n",
    "\n",
    "Dentro de un centro de investigación, se quiere analizar la posibilidad de modificación genética a través de la herramienta CrisprCas9. Sin embargo se ha borrado del vial el nombre de la enzima. Para esto contamos con 6 primers de los cuales solo uno corresponde a la enzima CrisprCas9.\n",
    "\n",
    "Formula un programa y encuentra el nombre de la enzima desconocida.\n"
   ]
  },
  {
   "cell_type": "code",
   "execution_count": 23,
   "id": "9d3b2fb2",
   "metadata": {},
   "outputs": [
    {
     "data": {
      "text/plain": [
       "'gagggcctatttcccatgattccttcatatttgcatatacgatacaaggctgttagagagataattggaa\\nttaatttgactgtaaacacaaagatattagtacaaaatacgtgacgtagaaagtaataatttcttgggta\\ngtttgcagttttaaaattatgttttaaaatggactatcatatgcttaccgtaacttgaaagtatttcgat\\nttcttggctttatatatcttGTGGAAAGGACGAAACACCggGTCTTCgaGAAGACctgttttagagctaG\\nAAAtagcaagttaaaataaggctagtccgttatcaacttgaaaaagtggcaccgagtcggtgcTTTTTTg\\nttttagagctagaaatagcaagttaaaataaggctagtccgtTTTTagcgcgtgcgccaattctgcagac\\naaatggctctagaggtacccgttacataacttacggtaaatggcccgcctggctgaccgcccaacgaccc\\nccgcccattgacgtcaatagtaacgccaatagggactttccattgacgtcaatgggtggagtatttacgg\\ntaaactgcccacttggcagtacatcaagtgtatcatatgccaagtacgccccctattgacgtcaatgacg\\ngtaaatggcccgcctggcattGtgcccagtacatgaccttatgggactttcctacttggcagtacatcta\\ncgtattagtcatcgctattaccatggtcgaggtgagccccacgttctgcttcactctccccatctccccc\\nccctccccacccccaattttgtatttatttattttttaattattttgtgcagcgatgggggcgggggggg\\nggggggggcgcgcgccaggcggggcggggcggggcgaggggcggggcggggcgaggcggagaggtgcggc\\nggcagccaatcagagcggcgcgctccgaaagtttccttttatggcgaggcggcggcggcggcggccctat\\naaaaagcgaagcgcgcggcgggcgggagtcgctgcgacgctgccttcgccccgtgccccgctccgccgcc\\ngcctcgcgccgcccgccccggctctgactgaccgcgttactcccacaggtgagcgggcgggacggccctt\\nctcctccgggctgtaattagctgagcaagaggtaagggtttaagggatggttggttggtggggtattaat\\ngtttaattacctggagcacctgcctgaaatcactttttttcaggttGGaccggtgccaccATGGACTATA\\nAGGACCACGACGGAGACTACAAGGATCATGATATTGATTACAAAGACGATGACGATAAGATGGCCCCAAA\\nGAAGAAGCGGAAGGTCGGTATCCACGGAGTCCCAGCAGCCGACAAGAAGTACAGCATCGGCCTGGcCATC\\nGGCACCAACTCTGTGGGCTGGGCCGTGATCACCGACGAGTACAAGGTGCCCAGCAAGAAATTCAAGGTGC\\nTGGGCAACACCGACCGGCACAGCATCAAGAAGAACCTGATCGGAGCCCTGCTGTTCGACAGCGGCGAAAC\\nAGCCGAGGCCACCCGGCTGAAGAGAACCGCCAGAAGAAGATACACCAGACGGAAGAACCGGATCTGCTAT\\nCTGCAAGAGATCTTCAGCAACGAGATGGCCAAGGTGGACGACAGCTTCTTCCACAGACTGGAAGAGTCCT\\nTCCTGGTGGAAGAGGATAAGAAGCACGAGCGGCACCCCATCTTCGGCAACATCGTGGACGAGGTGGCCTA\\nCCACGAGAAGTACCCCACCATCTACCACCTGAGAAAGAAACTGGTGGACAGCACCGACAAGGCCGACCTG\\nCGGCTGATCTATCTGGCCCTGGCCCACATGATCAAGTTCCGGGGCCACTTCCTGATCGAGGGCGACCTGA\\nACCCCGACAACAGCGACGTGGACAAGCTGTTCATCCAGCTGGTGCAGACCTACAACCAGCTGTTCGAGGA\\nAAACCCCATCAACGCCAGCGGCGTGGACGCCAAGGCCATCCTGTCTGCCAGACTGAGCAAGAGCAGACGG\\nCTGGAAAATCTGATCGCCCAGCTGCCCGGCGAGAAGAAGAATGGCCTGTTCGGAAACCTGATTGCCCTGA\\nGCCTGGGCCTGACCCCCAACTTCAAGAGCAACTTCGACCTGGCCGAGGATGCCAAACTGCAGCTGAGCAA\\nGGACACCTACGACGACGACCTGGACAACCTGCTGGCCCAGATCGGCGACCAGTACGCCGACCTGTTTCTG\\nGCCGCCAAGAACCTGTCCGACGCCATCCTGCTGAGCGACATCCTGAGAGTGAACACCGAGATCACCAAGG\\nCCCCCCTGAGCGCCTCTATGATCAAGAGATACGACGAGCACCACCAGGACCTGACCCTGCTGAAAGCTCT\\nCGTGCGGCAGCAGCTGCCTGAGAAGTACAAAGAGATTTTCTTCGACCAGAGCAAGAACGGCTACGCCGGC\\nTACATTGACGGCGGAGCCAGCCAGGAAGAGTTCTACAAGTTCATCAAGCCCATCCTGGAAAAGATGGACG\\nGCACCGAGGAACTGCTCGTGAAGCTGAACAGAGAGGACCTGCTGCGGAAGCAGCGGACCTTCGACAACGG\\nCAGCATCCCCCACCAGATCCACCTGGGAGAGCTGCACGCCATTCTGCGGCGGCAGGAAGATTTTTACCCA\\nTTCCTGAAGGACAACCGGGAAAAGATCGAGAAGATCCTGACCTTCCGCATCCCCTACTACGTGGGCCCTC\\nTGGCCAGGGGAAACAGCAGATTCGCCTGGATGACCAGAAAGAGCGAGGAAACCATCACCCCCTGGAACTT\\nCGAGGAAGTGGTGGACAAGGGCGCTTCCGCCCAGAGCTTCATCGAGCGGATGACCAACTTCGATAAGAAC\\nCTGCCCAACGAGAAGGTGCTGCCCAAGCACAGCCTGCTGTACGAGTACTTCACCGTGTATAACGAGCTGA\\nCCAAAGTGAAATACGTGACCGAGGGAATGAGAAAGCCCGCCTTCCTGAGCGGCGAGCAGAAAAAGGCCAT\\nCGTGGACCTGCTGTTCAAGACCAACCGGAAAGTGACCGTGAAGCAGCTGAAAGAGGACTACTTCAAGAAA\\nATCGAGTGCTTCGACTCCGTGGAAATCTCCGGCGTGGAAGATCGGTTCAACGCCTCCCTGGGCACATACC\\nACGATCTGCTGAAAATTATCAAGGACAAGGACTTCCTGGACAATGAGGAAAACGAGGACATTCTGGAAGA\\nTATCGTGCTGACCCTGACACTGTTTGAGGACAGAGAGATGATCGAGGAACGGCTGAAAACCTATGCCCAC\\nCTGTTCGACGACAAAGTGATGAAGCAGCTGAAGCGGCGGAGATACACCGGCTGGGGCAGGCTGAGCCGGA\\nAGCTGATCAACGGCATCCGGGACAAGCAGTCCGGCAAGACAATCCTGGATTTCCTGAAGTCCGACGGCTT\\nCGCCAACAGAAACTTCATGCAGCTGATCCACGACGACAGCCTGACCTTTAAAGAGGACATCCAGAAAGCC\\nCAGGTGTCCGGCCAGGGCGATAGCCTGCACGAGCACATTGCCAATCTGGCCGGCAGCCCCGCCATTAAGA\\nAGGGCATCCTGCAGACAGTGAAGGTGGTGGACGAGCTCGTGAAAGTGATGGGCCGGCACAAGCCCGAGAA\\nCATCGTGATCGAAATGGCCAGAGAGAACCAGACCACCCAGAAGGGACAGAAGAACAGCCGCGAGAGAATG\\nAAGCGGATCGAAGAGGGCATCAAAGAGCTGGGCAGCCAGATCCTGAAAGAACACCCCGTGGAAAACACCC\\nAGCTGCAGAACGAGAAGCTGTACCTGTACTACCTGCAGAATGGGCGGGATATGTACGTGGACCAGGAACT\\nGGACATCAACCGGCTGTCCGACTACGATGTGGACCATATCGTGCCTCAGAGCTTTCTGAAGGACGACTCC\\nATCGACAACAAGGTGCTGACCAGAAGCGACAAGAACCGGGGCAAGAGCGACAACGTGCCCTCCGAAGAGG\\nTCGTGAAGAAGATGAAGAACTACTGGCGGCAGCTGCTGAACGCCAAGCTGATTACCCAGAGAAAGTTCGA\\nCAATCTGACCAAGGCCGAGAGAGGCGGCCTGAGCGAACTGGATAAGGCCGGCTTCATCAAGAGACAGCTG\\nGTGGAAACCCGGCAGATCACAAAGCACGTGGCACAGATCCTGGACTCCCGGATGAACACTAAGTACGACG\\nAGAATGACAAGCTGATCCGGGAAGTGAAAGTGATCACCCTGAAGTCCAAGCTGGTGTCCGATTTCCGGAA\\nGGATTTCCAGTTTTACAAAGTGCGCGAGATCAACAACTACCACCACGCCCACGACGCCTACCTGAACGCC\\nGTCGTGGGAACCGCCCTGATCAAAAAGTACCCTAAGCTGGAAAGCGAGTTCGTGTACGGCGACTACAAGG\\nTGTACGACGTGCGGAAGATGATCGCCAAGAGCGAGCAGGAAATCGGCAAGGCTACCGCCAAGTACTTCTT\\nCTACAGCAACATCATGAACTTTTTCAAGACCGAGATTACCCTGGCCAACGGCGAGATCCGGAAGCGGCCT\\nCTGATCGAGACAAACGGCGAAACCGGGGAGATCGTGTGGGATAAGGGCCGGGATTTTGCCACCGTGCGGA\\nAAGTGCTGAGCATGCCCCAAGTGAATATCGTGAAAAAGACCGAGGTGCAGACAGGCGGCTTCAGCAAAGA\\nGTCTATCCTGCCCAAGAGGAACAGCGATAAGCTGATCGCCAGAAAGAAGGACTGGGACCCTAAGAAGTAC\\nGGCGGCTTCGACAGCCCCACCGTGGCCTATTCTGTGCTGGTGGTGGCCAAAGTGGAAAAGGGCAAGTCCA\\nAGAAACTGAAGAGTGTGAAAGAGCTGCTGGGGATCACCATCATGGAAAGAAGCAGCTTCGAGAAGAATCC\\nCATCGACTTTCTGGAAGCCAAGGGCTACAAAGAAGTGAAAAAGGACCTGATCATCAAGCTGCCTAAGTAC\\nTCCCTGTTCGAGCTGGAAAACGGCCGGAAGAGAATGCTGGCCTCTGCCGGCGAACTGCAGAAGGGAAACG\\nAACTGGCCCTGCCCTCCAAATATGTGAACTTCCTGTACCTGGCCAGCCACTATGAGAAGCTGAAGGGCTC\\nCCCCGAGGATAATGAGCAGAAACAGCTGTTTGTGGAACAGCACAAGCACTACCTGGACGAGATCATCGAG\\nCAGATCAGCGAGTTCTCCAAGAGAGTGATCCTGGCCGACGCTAATCTGGACAAAGTGCTGTCCGCCTACA\\nACAAGCACCGGGATAAGCCCATCAGAGAGCAGGCCGAGAATATCATCCACCTGTTTACCCTGACCAATCT\\nGGGAGCCCCTGCCGCCTTCAAGTACTTTGACACCACCATCGACCGGAAGAGGTACACCAGCACCAAAGAG\\nGTGCTGGACGCCACCCTGATCCACCAGAGCATCACCGGCCTGTACGAGACACGGATCGACCTGTCTCAGC\\nTGGGAGGCGACAAAAGGCCGGCGGCCACGAAAAAGGCCGGCCAGGCAAAAAAGAAAAAGgaattcGGCAG\\nTGGAGAGGGCAGAGGAAGTCTGCTAACATGCGGTGACGTCGAGGAGAATCCTGGCCCAatgaccgagtac\\naagcccacggtgcgcctcgccacccgcgacgacgtccccagggccgtacgcaccctcgccgccgcgttcg\\nccgactaccccgccacgcgccacaccgtcgatccggaccgccacatcgagcgggtcaccgagctgcaaga\\nactcttcctcacgcgcgtcgggctcgacatcggcaaggtgtgggtcgcggacgacggcgccgcggtggcg\\ngtctggaccacgccggagagcgtcgaagcgggggcggtgttcgccgagatcggcccgcgcatggccgagt\\ntgagcggttcccggctggccgcgcagcaacagatggaaggcctcctggcgccgcaccggcccaaggagcc\\ncgcgtggttcctggccaccgtcggAgtctcgcccgaccaccagggcaagggtctgggcagcgccgtcgtg\\nctccccggagtggaggcggccgagcgcgccggggtgcccgccttcctggagacctccgcgccccGcaacc\\ntccccttctacgagcggctcggcttcaccgtcaccgccgacgtcgaggtgcccgaaggaccgcgcacctg\\ngtgcatgacccgcaagcccggtgcctgagaattctaaCTAGAGCTCGCTGATCAGCCTCGACTGTGCCTT\\nCTAGTTGCCAGCCATCTGTTGTTTGCCCCTCCCCCGTGCCTTCCTTGACCCTGGAAGGTGCCACTCCCAC\\nTGTCCTTTCCTAATAAAATGAGGAAATTGCATCGCATTGTCTGAGTAGGTGTCATTCTATTCTGGGGGGT\\nGGGGTGGGGCAGGACAGCAAGGGGGAGGATTGGGAAGAgAATAGCAGGCATGCTGGGGAgcggccgcagg\\naacccctagtgatggagttggccactccctctctgcgcgctcgctcgctcactgaggccgggcgaccaaa\\nggtcgcccgacgcccgggctttgcccgggcggcctcagtgagcgagcgagcgcgcagctgcctgcagggg\\ncgcctgatgcggtattttctccttacgcatctgtgcggtatttcacaccgcatacgtcaaagcaaccata\\ngtacgcgccctgtagcggcgcattaagcgcggcgggtgtggtggttacgcgcagcgtgaccgctacactt\\ngccagcgccctagcgcccgctcctttcgctttcttcccttcctttctcgccacgttcgccggctttcccc\\ngtcaagctctaaatcgggggctccctttagggttccgatttagtgctttacggcacctcgaccccaaaaa\\nacttgatttgggtgatggttcacgtagtgggccatcgccctgatagacggtttttcgccctttgacgttg\\ngagtccacgttctttaatagtggactcttgttccaaactggaacaacactcaaccctatctcgggctatt\\ncttttgatttataagggattttgccgatttcggcctattggttaaaaaatgagctgatttaacaaaaatt\\ntaacgcgaattttaacaaaatattaacgtttacaattttatggtgcactctcagtacaatctgctctgat\\ngccgcatagttaagccagccccgacacccgccaacacccgctgacgcgccctgacgggcttgtctgctcc\\ncggcatccgcttacagacaagctgtgaccgtctccgggagctgcatgtgtcagaggttttcaccgtcatc\\naccgaaacgcgcgagacgaaagggcctcgtgatacgcctatttttataggttaatgtcatgataataatg\\ngtttcttagacgtcaggtggcacttttcggggaaatgtgcgcggaacccctatttgtttatttttctaaa\\ntacattcaaatatgtatccgctcatgagacaataaccctgataaatgcttcaataatattgaaaaaggaa\\ngagtatgagtattcaacatttccgtgtcgcccttattcccttttttgcggcattttgccttcctgttttt\\ngctcacccagaaacgctggtgaaagtaaaagatgctgaagatcagttgggtgcacgagtgggttacatcg\\naactggatctcaacagcggtaagatccttgagagttttcgccccgaagaacgttttccaatgatgagcac\\nttttaaagttctgctatgtggcgcggtattatcccgtattgacgccgggcaagagcaactcggtcgccgc\\natacactattctcagaatgacttggttgagtactcaccagtcacagaaaagcatcttacggatggcatga\\ncagtaagagaattatgcagtgctgccataaccatgagtgataacactgcggccaacttacttctgacaac\\ngatcggaggaccgaaggagctaaccgcttttttgcacaacatgggggatcatgtaactcgccttgatcgt\\ntgggaaccggagctgaatgaagccataccaaacgacgagcgtgacaccacgatgcctgtagcaatggcaa\\ncaacgttgcgcaaactattaactggcgaactacttactctagcttcccggcaacaattaatagactggat\\nggaggcggataaagttgcaggaccacttctgcgctcggcccttccggctggctggtttattgctgataaa\\ntctggagccggtgagcgtggaagccgcggtatcattgcagcactggggccagatggtaagccctcccgta\\ntcgtagttatctacacgacggggagtcaggcaactatggatgaacgaaatagacagatcgctgagatagg\\ntgcctcactgattaagcattggtaactgtcagaccaagtttactcatatatactttagattgatttaaaa\\ncttcatttttaatttaaaaggatctaggtgaagatcctttttgataatctcatgaccaaaatcccttaac\\ngtgagttttcgttccactgagcgtcagaccccgtagaaaagatcaaaggatcttcttgagatcctttttt\\ntctgcgcgtaatctgctgcttgcaaacaaaaaaaccaccgctaccagcggtggtttgtttgccggatcaa\\ngagctaccaactctttttccgaaggtaactggcttcagcagagcgcagataccaaatactgtccttctag\\ntgtagccgtagttaggccaccacttcaagaactctgtagcaccgcctacatacctcgctctgctaatcct\\ngttaccagtggctgctgccagtggcgataagtcgtgtcttaccgggttggactcaagacgatagttaccg\\ngataaggcgcagcggtcgggctgaacggggggttcgtgcacacagcccagcttggagcgaacgacctaca\\nccgaactgagatacctacagcgtgagctatgagaaagcgccacgcttcccgaagggagaaaggcggacag\\ngtatccggtaagcggcagggtcggaacaggagagcgcacgagggagcttccagggggaaacgcctggtat\\nctttatagtcctgtcgggtttcgccacctctgacttgagcgtcgatttttgtgatgctcgtcaggggggc\\nggagcctatggaaaaacgccagcaacgcggcctttttacggttcctggccttttgctggccttttgctca\\ncatgt'"
      ]
     },
     "execution_count": 23,
     "metadata": {},
     "output_type": "execute_result"
    }
   ],
   "source": [
    "with open(\"SEQ.txt\") as archivo:\n",
    "    seq=archivo.read()\n",
    "    \n",
    "seq"
   ]
  },
  {
   "cell_type": "code",
   "execution_count": 24,
   "id": "fbfcf8b3",
   "metadata": {},
   "outputs": [
    {
     "data": {
      "text/plain": [
       "'gagggcctatttcccatgattccttcatatttgcatatacgatacaaggctgttagagagataattggaattaatttgactgtaaacacaaagatattagtacaaaatacgtgacgtagaaagtaataatttcttgggtagtttgcagttttaaaattatgttttaaaatggactatcatatgcttaccgtaacttgaaagtatttcgatttcttggctttatatatcttGTGGAAAGGACGAAACACCggGTCTTCgaGAAGACctgttttagagctaGAAAtagcaagttaaaataaggctagtccgttatcaacttgaaaaagtggcaccgagtcggtgcTTTTTTgttttagagctagaaatagcaagttaaaataaggctagtccgtTTTTagcgcgtgcgccaattctgcagacaaatggctctagaggtacccgttacataacttacggtaaatggcccgcctggctgaccgcccaacgacccccgcccattgacgtcaatagtaacgccaatagggactttccattgacgtcaatgggtggagtatttacggtaaactgcccacttggcagtacatcaagtgtatcatatgccaagtacgccccctattgacgtcaatgacggtaaatggcccgcctggcattGtgcccagtacatgaccttatgggactttcctacttggcagtacatctacgtattagtcatcgctattaccatggtcgaggtgagccccacgttctgcttcactctccccatctcccccccctccccacccccaattttgtatttatttattttttaattattttgtgcagcgatgggggcggggggggggggggggcgcgcgccaggcggggcggggcggggcgaggggcggggcggggcgaggcggagaggtgcggcggcagccaatcagagcggcgcgctccgaaagtttccttttatggcgaggcggcggcggcggcggccctataaaaagcgaagcgcgcggcgggcgggagtcgctgcgacgctgccttcgccccgtgccccgctccgccgccgcctcgcgccgcccgccccggctctgactgaccgcgttactcccacaggtgagcgggcgggacggcccttctcctccgggctgtaattagctgagcaagaggtaagggtttaagggatggttggttggtggggtattaatgtttaattacctggagcacctgcctgaaatcactttttttcaggttGGaccggtgccaccATGGACTATAAGGACCACGACGGAGACTACAAGGATCATGATATTGATTACAAAGACGATGACGATAAGATGGCCCCAAAGAAGAAGCGGAAGGTCGGTATCCACGGAGTCCCAGCAGCCGACAAGAAGTACAGCATCGGCCTGGcCATCGGCACCAACTCTGTGGGCTGGGCCGTGATCACCGACGAGTACAAGGTGCCCAGCAAGAAATTCAAGGTGCTGGGCAACACCGACCGGCACAGCATCAAGAAGAACCTGATCGGAGCCCTGCTGTTCGACAGCGGCGAAACAGCCGAGGCCACCCGGCTGAAGAGAACCGCCAGAAGAAGATACACCAGACGGAAGAACCGGATCTGCTATCTGCAAGAGATCTTCAGCAACGAGATGGCCAAGGTGGACGACAGCTTCTTCCACAGACTGGAAGAGTCCTTCCTGGTGGAAGAGGATAAGAAGCACGAGCGGCACCCCATCTTCGGCAACATCGTGGACGAGGTGGCCTACCACGAGAAGTACCCCACCATCTACCACCTGAGAAAGAAACTGGTGGACAGCACCGACAAGGCCGACCTGCGGCTGATCTATCTGGCCCTGGCCCACATGATCAAGTTCCGGGGCCACTTCCTGATCGAGGGCGACCTGAACCCCGACAACAGCGACGTGGACAAGCTGTTCATCCAGCTGGTGCAGACCTACAACCAGCTGTTCGAGGAAAACCCCATCAACGCCAGCGGCGTGGACGCCAAGGCCATCCTGTCTGCCAGACTGAGCAAGAGCAGACGGCTGGAAAATCTGATCGCCCAGCTGCCCGGCGAGAAGAAGAATGGCCTGTTCGGAAACCTGATTGCCCTGAGCCTGGGCCTGACCCCCAACTTCAAGAGCAACTTCGACCTGGCCGAGGATGCCAAACTGCAGCTGAGCAAGGACACCTACGACGACGACCTGGACAACCTGCTGGCCCAGATCGGCGACCAGTACGCCGACCTGTTTCTGGCCGCCAAGAACCTGTCCGACGCCATCCTGCTGAGCGACATCCTGAGAGTGAACACCGAGATCACCAAGGCCCCCCTGAGCGCCTCTATGATCAAGAGATACGACGAGCACCACCAGGACCTGACCCTGCTGAAAGCTCTCGTGCGGCAGCAGCTGCCTGAGAAGTACAAAGAGATTTTCTTCGACCAGAGCAAGAACGGCTACGCCGGCTACATTGACGGCGGAGCCAGCCAGGAAGAGTTCTACAAGTTCATCAAGCCCATCCTGGAAAAGATGGACGGCACCGAGGAACTGCTCGTGAAGCTGAACAGAGAGGACCTGCTGCGGAAGCAGCGGACCTTCGACAACGGCAGCATCCCCCACCAGATCCACCTGGGAGAGCTGCACGCCATTCTGCGGCGGCAGGAAGATTTTTACCCATTCCTGAAGGACAACCGGGAAAAGATCGAGAAGATCCTGACCTTCCGCATCCCCTACTACGTGGGCCCTCTGGCCAGGGGAAACAGCAGATTCGCCTGGATGACCAGAAAGAGCGAGGAAACCATCACCCCCTGGAACTTCGAGGAAGTGGTGGACAAGGGCGCTTCCGCCCAGAGCTTCATCGAGCGGATGACCAACTTCGATAAGAACCTGCCCAACGAGAAGGTGCTGCCCAAGCACAGCCTGCTGTACGAGTACTTCACCGTGTATAACGAGCTGACCAAAGTGAAATACGTGACCGAGGGAATGAGAAAGCCCGCCTTCCTGAGCGGCGAGCAGAAAAAGGCCATCGTGGACCTGCTGTTCAAGACCAACCGGAAAGTGACCGTGAAGCAGCTGAAAGAGGACTACTTCAAGAAAATCGAGTGCTTCGACTCCGTGGAAATCTCCGGCGTGGAAGATCGGTTCAACGCCTCCCTGGGCACATACCACGATCTGCTGAAAATTATCAAGGACAAGGACTTCCTGGACAATGAGGAAAACGAGGACATTCTGGAAGATATCGTGCTGACCCTGACACTGTTTGAGGACAGAGAGATGATCGAGGAACGGCTGAAAACCTATGCCCACCTGTTCGACGACAAAGTGATGAAGCAGCTGAAGCGGCGGAGATACACCGGCTGGGGCAGGCTGAGCCGGAAGCTGATCAACGGCATCCGGGACAAGCAGTCCGGCAAGACAATCCTGGATTTCCTGAAGTCCGACGGCTTCGCCAACAGAAACTTCATGCAGCTGATCCACGACGACAGCCTGACCTTTAAAGAGGACATCCAGAAAGCCCAGGTGTCCGGCCAGGGCGATAGCCTGCACGAGCACATTGCCAATCTGGCCGGCAGCCCCGCCATTAAGAAGGGCATCCTGCAGACAGTGAAGGTGGTGGACGAGCTCGTGAAAGTGATGGGCCGGCACAAGCCCGAGAACATCGTGATCGAAATGGCCAGAGAGAACCAGACCACCCAGAAGGGACAGAAGAACAGCCGCGAGAGAATGAAGCGGATCGAAGAGGGCATCAAAGAGCTGGGCAGCCAGATCCTGAAAGAACACCCCGTGGAAAACACCCAGCTGCAGAACGAGAAGCTGTACCTGTACTACCTGCAGAATGGGCGGGATATGTACGTGGACCAGGAACTGGACATCAACCGGCTGTCCGACTACGATGTGGACCATATCGTGCCTCAGAGCTTTCTGAAGGACGACTCCATCGACAACAAGGTGCTGACCAGAAGCGACAAGAACCGGGGCAAGAGCGACAACGTGCCCTCCGAAGAGGTCGTGAAGAAGATGAAGAACTACTGGCGGCAGCTGCTGAACGCCAAGCTGATTACCCAGAGAAAGTTCGACAATCTGACCAAGGCCGAGAGAGGCGGCCTGAGCGAACTGGATAAGGCCGGCTTCATCAAGAGACAGCTGGTGGAAACCCGGCAGATCACAAAGCACGTGGCACAGATCCTGGACTCCCGGATGAACACTAAGTACGACGAGAATGACAAGCTGATCCGGGAAGTGAAAGTGATCACCCTGAAGTCCAAGCTGGTGTCCGATTTCCGGAAGGATTTCCAGTTTTACAAAGTGCGCGAGATCAACAACTACCACCACGCCCACGACGCCTACCTGAACGCCGTCGTGGGAACCGCCCTGATCAAAAAGTACCCTAAGCTGGAAAGCGAGTTCGTGTACGGCGACTACAAGGTGTACGACGTGCGGAAGATGATCGCCAAGAGCGAGCAGGAAATCGGCAAGGCTACCGCCAAGTACTTCTTCTACAGCAACATCATGAACTTTTTCAAGACCGAGATTACCCTGGCCAACGGCGAGATCCGGAAGCGGCCTCTGATCGAGACAAACGGCGAAACCGGGGAGATCGTGTGGGATAAGGGCCGGGATTTTGCCACCGTGCGGAAAGTGCTGAGCATGCCCCAAGTGAATATCGTGAAAAAGACCGAGGTGCAGACAGGCGGCTTCAGCAAAGAGTCTATCCTGCCCAAGAGGAACAGCGATAAGCTGATCGCCAGAAAGAAGGACTGGGACCCTAAGAAGTACGGCGGCTTCGACAGCCCCACCGTGGCCTATTCTGTGCTGGTGGTGGCCAAAGTGGAAAAGGGCAAGTCCAAGAAACTGAAGAGTGTGAAAGAGCTGCTGGGGATCACCATCATGGAAAGAAGCAGCTTCGAGAAGAATCCCATCGACTTTCTGGAAGCCAAGGGCTACAAAGAAGTGAAAAAGGACCTGATCATCAAGCTGCCTAAGTACTCCCTGTTCGAGCTGGAAAACGGCCGGAAGAGAATGCTGGCCTCTGCCGGCGAACTGCAGAAGGGAAACGAACTGGCCCTGCCCTCCAAATATGTGAACTTCCTGTACCTGGCCAGCCACTATGAGAAGCTGAAGGGCTCCCCCGAGGATAATGAGCAGAAACAGCTGTTTGTGGAACAGCACAAGCACTACCTGGACGAGATCATCGAGCAGATCAGCGAGTTCTCCAAGAGAGTGATCCTGGCCGACGCTAATCTGGACAAAGTGCTGTCCGCCTACAACAAGCACCGGGATAAGCCCATCAGAGAGCAGGCCGAGAATATCATCCACCTGTTTACCCTGACCAATCTGGGAGCCCCTGCCGCCTTCAAGTACTTTGACACCACCATCGACCGGAAGAGGTACACCAGCACCAAAGAGGTGCTGGACGCCACCCTGATCCACCAGAGCATCACCGGCCTGTACGAGACACGGATCGACCTGTCTCAGCTGGGAGGCGACAAAAGGCCGGCGGCCACGAAAAAGGCCGGCCAGGCAAAAAAGAAAAAGgaattcGGCAGTGGAGAGGGCAGAGGAAGTCTGCTAACATGCGGTGACGTCGAGGAGAATCCTGGCCCAatgaccgagtacaagcccacggtgcgcctcgccacccgcgacgacgtccccagggccgtacgcaccctcgccgccgcgttcgccgactaccccgccacgcgccacaccgtcgatccggaccgccacatcgagcgggtcaccgagctgcaagaactcttcctcacgcgcgtcgggctcgacatcggcaaggtgtgggtcgcggacgacggcgccgcggtggcggtctggaccacgccggagagcgtcgaagcgggggcggtgttcgccgagatcggcccgcgcatggccgagttgagcggttcccggctggccgcgcagcaacagatggaaggcctcctggcgccgcaccggcccaaggagcccgcgtggttcctggccaccgtcggAgtctcgcccgaccaccagggcaagggtctgggcagcgccgtcgtgctccccggagtggaggcggccgagcgcgccggggtgcccgccttcctggagacctccgcgccccGcaacctccccttctacgagcggctcggcttcaccgtcaccgccgacgtcgaggtgcccgaaggaccgcgcacctggtgcatgacccgcaagcccggtgcctgagaattctaaCTAGAGCTCGCTGATCAGCCTCGACTGTGCCTTCTAGTTGCCAGCCATCTGTTGTTTGCCCCTCCCCCGTGCCTTCCTTGACCCTGGAAGGTGCCACTCCCACTGTCCTTTCCTAATAAAATGAGGAAATTGCATCGCATTGTCTGAGTAGGTGTCATTCTATTCTGGGGGGTGGGGTGGGGCAGGACAGCAAGGGGGAGGATTGGGAAGAgAATAGCAGGCATGCTGGGGAgcggccgcaggaacccctagtgatggagttggccactccctctctgcgcgctcgctcgctcactgaggccgggcgaccaaaggtcgcccgacgcccgggctttgcccgggcggcctcagtgagcgagcgagcgcgcagctgcctgcaggggcgcctgatgcggtattttctccttacgcatctgtgcggtatttcacaccgcatacgtcaaagcaaccatagtacgcgccctgtagcggcgcattaagcgcggcgggtgtggtggttacgcgcagcgtgaccgctacacttgccagcgccctagcgcccgctcctttcgctttcttcccttcctttctcgccacgttcgccggctttccccgtcaagctctaaatcgggggctccctttagggttccgatttagtgctttacggcacctcgaccccaaaaaacttgatttgggtgatggttcacgtagtgggccatcgccctgatagacggtttttcgccctttgacgttggagtccacgttctttaatagtggactcttgttccaaactggaacaacactcaaccctatctcgggctattcttttgatttataagggattttgccgatttcggcctattggttaaaaaatgagctgatttaacaaaaatttaacgcgaattttaacaaaatattaacgtttacaattttatggtgcactctcagtacaatctgctctgatgccgcatagttaagccagccccgacacccgccaacacccgctgacgcgccctgacgggcttgtctgctcccggcatccgcttacagacaagctgtgaccgtctccgggagctgcatgtgtcagaggttttcaccgtcatcaccgaaacgcgcgagacgaaagggcctcgtgatacgcctatttttataggttaatgtcatgataataatggtttcttagacgtcaggtggcacttttcggggaaatgtgcgcggaacccctatttgtttatttttctaaatacattcaaatatgtatccgctcatgagacaataaccctgataaatgcttcaataatattgaaaaaggaagagtatgagtattcaacatttccgtgtcgcccttattcccttttttgcggcattttgccttcctgtttttgctcacccagaaacgctggtgaaagtaaaagatgctgaagatcagttgggtgcacgagtgggttacatcgaactggatctcaacagcggtaagatccttgagagttttcgccccgaagaacgttttccaatgatgagcacttttaaagttctgctatgtggcgcggtattatcccgtattgacgccgggcaagagcaactcggtcgccgcatacactattctcagaatgacttggttgagtactcaccagtcacagaaaagcatcttacggatggcatgacagtaagagaattatgcagtgctgccataaccatgagtgataacactgcggccaacttacttctgacaacgatcggaggaccgaaggagctaaccgcttttttgcacaacatgggggatcatgtaactcgccttgatcgttgggaaccggagctgaatgaagccataccaaacgacgagcgtgacaccacgatgcctgtagcaatggcaacaacgttgcgcaaactattaactggcgaactacttactctagcttcccggcaacaattaatagactggatggaggcggataaagttgcaggaccacttctgcgctcggcccttccggctggctggtttattgctgataaatctggagccggtgagcgtggaagccgcggtatcattgcagcactggggccagatggtaagccctcccgtatcgtagttatctacacgacggggagtcaggcaactatggatgaacgaaatagacagatcgctgagataggtgcctcactgattaagcattggtaactgtcagaccaagtttactcatatatactttagattgatttaaaacttcatttttaatttaaaaggatctaggtgaagatcctttttgataatctcatgaccaaaatcccttaacgtgagttttcgttccactgagcgtcagaccccgtagaaaagatcaaaggatcttcttgagatcctttttttctgcgcgtaatctgctgcttgcaaacaaaaaaaccaccgctaccagcggtggtttgtttgccggatcaagagctaccaactctttttccgaaggtaactggcttcagcagagcgcagataccaaatactgtccttctagtgtagccgtagttaggccaccacttcaagaactctgtagcaccgcctacatacctcgctctgctaatcctgttaccagtggctgctgccagtggcgataagtcgtgtcttaccgggttggactcaagacgatagttaccggataaggcgcagcggtcgggctgaacggggggttcgtgcacacagcccagcttggagcgaacgacctacaccgaactgagatacctacagcgtgagctatgagaaagcgccacgcttcccgaagggagaaaggcggacaggtatccggtaagcggcagggtcggaacaggagagcgcacgagggagcttccagggggaaacgcctggtatctttatagtcctgtcgggtttcgccacctctgacttgagcgtcgatttttgtgatgctcgtcaggggggcggagcctatggaaaaacgccagcaacgcggcctttttacggttcctggccttttgctggccttttgctcacatgt'"
      ]
     },
     "execution_count": 24,
     "metadata": {},
     "output_type": "execute_result"
    }
   ],
   "source": [
    "seq_limpia = seq.replace('\\n', '')  # Elimina los caracteres \"\\n\"\n",
    "\n",
    "seq_limpia"
   ]
  },
  {
   "cell_type": "code",
   "execution_count": 94,
   "id": "b1a55341",
   "metadata": {},
   "outputs": [
    {
     "name": "stdout",
     "output_type": "stream",
     "text": [
      "La secuencia buscada se encuentra en la secuencia original.\n"
     ]
    }
   ],
   "source": [
    "seq=seq_limpia\n",
    "\n",
    "# Secuencia que estamos buscando\n",
    "secuencia_buscar = \"ggaaaaacgccagcaacgc\"\n",
    "\n",
    "\n",
    "if secuencia_buscar in seq:\n",
    "    print(\"La secuencia buscada se encuentra en la secuencia original.\")\n",
    "else:\n",
    "    print(\"La secuencia buscada NO se encuentra en la secuencia original.\")"
   ]
  },
  {
   "cell_type": "markdown",
   "id": "8d6200b5",
   "metadata": {},
   "source": [
    "Documentación: http://biopython.org/DIST/docs/tutorial/Tutorial.html"
   ]
  },
  {
   "cell_type": "code",
   "execution_count": null,
   "id": "cfc49b5c",
   "metadata": {},
   "outputs": [],
   "source": []
  }
 ],
 "metadata": {
  "kernelspec": {
   "display_name": "Python 3 (ipykernel)",
   "language": "python",
   "name": "python3"
  },
  "language_info": {
   "codemirror_mode": {
    "name": "ipython",
    "version": 3
   },
   "file_extension": ".py",
   "mimetype": "text/x-python",
   "name": "python",
   "nbconvert_exporter": "python",
   "pygments_lexer": "ipython3",
   "version": "3.9.7"
  }
 },
 "nbformat": 4,
 "nbformat_minor": 5
}
