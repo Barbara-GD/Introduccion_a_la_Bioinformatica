{
 "cells": [
  {
   "cell_type": "markdown",
   "id": "247ff520",
   "metadata": {},
   "source": [
    "# Módulo II : Manipulación de datos en Python"
   ]
  },
  {
   "cell_type": "markdown",
   "id": "625fca5c",
   "metadata": {},
   "source": [
    "### 1.1 Importar y visualizar datos en formato .xlsx\n",
    "\n",
    "Para ganar expertiz en la visualización y manejo de datos \n",
    "supondremos que nos ha contratado una prestigiosa empresa \n",
    "de insumos y materiales de laboratorio. Nuestro jefe necesita \n",
    "que analicemos las ventas de este mes.\n",
    "\n",
    "- Descargar en su computador el archivo [ventas.xlsx](https://docs.google.com/spreadsheets/d/1zIUpJ4yUHG2dTfPBxSJsijaNeVPyb1d_/edit?usp=drive_link&ouid=104642281055279644009&rtpof=true&sd=true)\n",
    "- Importar archivo .xlsx al terminal de Jupyter notebook \n",
    "\n",
    "Para este tipo de archivos necesitamos utilizar la librería pandas:"
   ]
  },
  {
   "cell_type": "code",
   "execution_count": 53,
   "id": "f111d70d",
   "metadata": {},
   "outputs": [],
   "source": [
    "#Importar librerias\n",
    "import pandas as pd\n",
    "import numpy as np\n",
    "import matplotlib as plt\n",
    "import matplotlib.pyplot as plt"
   ]
  },
  {
   "cell_type": "code",
   "execution_count": 54,
   "id": "25547ab2",
   "metadata": {},
   "outputs": [
    {
     "data": {
      "text/html": [
       "<div>\n",
       "<style scoped>\n",
       "    .dataframe tbody tr th:only-of-type {\n",
       "        vertical-align: middle;\n",
       "    }\n",
       "\n",
       "    .dataframe tbody tr th {\n",
       "        vertical-align: top;\n",
       "    }\n",
       "\n",
       "    .dataframe thead th {\n",
       "        text-align: right;\n",
       "    }\n",
       "</style>\n",
       "<table border=\"1\" class=\"dataframe\">\n",
       "  <thead>\n",
       "    <tr style=\"text-align: right;\">\n",
       "      <th></th>\n",
       "      <th>Codigo</th>\n",
       "      <th>Nombre</th>\n",
       "      <th>Cantidad_Vendida</th>\n",
       "      <th>Total</th>\n",
       "    </tr>\n",
       "  </thead>\n",
       "  <tbody>\n",
       "    <tr>\n",
       "      <th>0</th>\n",
       "      <td>01-025-5A</td>\n",
       "      <td>MEM-E 10X Conc.,Earles Salts Base,500ml./01-02...</td>\n",
       "      <td>2</td>\n",
       "      <td>19000.00</td>\n",
       "    </tr>\n",
       "    <tr>\n",
       "      <th>1</th>\n",
       "      <td>01-03023</td>\n",
       "      <td>Pechera Plastica de PVC tamaño corta 75x70cm10/bs</td>\n",
       "      <td>2</td>\n",
       "      <td>1000.00</td>\n",
       "    </tr>\n",
       "    <tr>\n",
       "      <th>2</th>\n",
       "      <td>01-055-1A</td>\n",
       "      <td>DMEM  High Glucose, s/glut y s/ piruvato, 500m...</td>\n",
       "      <td>5</td>\n",
       "      <td>10300.00</td>\n",
       "    </tr>\n",
       "    <tr>\n",
       "      <th>3</th>\n",
       "      <td>01-100-1A</td>\n",
       "      <td>RPMI medium 1640,fenol/c/L-glutamina,s/hepes 5...</td>\n",
       "      <td>3</td>\n",
       "      <td>34530.00</td>\n",
       "    </tr>\n",
       "    <tr>\n",
       "      <th>4</th>\n",
       "      <td>01-115-1A</td>\n",
       "      <td>Leibovitz L-15, medio cultivo c/ L-glutamina 5...</td>\n",
       "      <td>8</td>\n",
       "      <td>134400.00</td>\n",
       "    </tr>\n",
       "    <tr>\n",
       "      <th>...</th>\n",
       "      <td>...</td>\n",
       "      <td>...</td>\n",
       "      <td>...</td>\n",
       "      <td>...</td>\n",
       "    </tr>\n",
       "    <tr>\n",
       "      <th>678</th>\n",
       "      <td>XB101120-0010-001</td>\n",
       "      <td>Punta 0.1-10ul tipo gilson,blanca S/Nucle,1000...</td>\n",
       "      <td>91</td>\n",
       "      <td>509440.00</td>\n",
       "    </tr>\n",
       "    <tr>\n",
       "      <th>679</th>\n",
       "      <td>XB101220-1000-001</td>\n",
       "      <td>Punta azul,100-1000ul, libre de Nucleasas 1000...</td>\n",
       "      <td>5</td>\n",
       "      <td>33840.00</td>\n",
       "    </tr>\n",
       "    <tr>\n",
       "      <th>680</th>\n",
       "      <td>XB101621-0200</td>\n",
       "      <td>Punta Amarilla 0,1-200ul,esteril,biselada, DNA...</td>\n",
       "      <td>6</td>\n",
       "      <td>12940.50</td>\n",
       "    </tr>\n",
       "    <tr>\n",
       "      <th>681</th>\n",
       "      <td>XB111121-0010</td>\n",
       "      <td>Punta 0.1-10ul Tipo Gilson,blanca,s/Nuclea,EST...</td>\n",
       "      <td>3</td>\n",
       "      <td>4800.00</td>\n",
       "    </tr>\n",
       "    <tr>\n",
       "      <th>682</th>\n",
       "      <td>XB111221-1000</td>\n",
       "      <td>Punta azul, 1000ul, esteril, biselada, DNA, 10...</td>\n",
       "      <td>36</td>\n",
       "      <td>90678.12</td>\n",
       "    </tr>\n",
       "  </tbody>\n",
       "</table>\n",
       "<p>683 rows × 4 columns</p>\n",
       "</div>"
      ],
      "text/plain": [
       "                Codigo                                             Nombre  \\\n",
       "0            01-025-5A  MEM-E 10X Conc.,Earles Salts Base,500ml./01-02...   \n",
       "1             01-03023  Pechera Plastica de PVC tamaño corta 75x70cm10/bs   \n",
       "2            01-055-1A  DMEM  High Glucose, s/glut y s/ piruvato, 500m...   \n",
       "3            01-100-1A  RPMI medium 1640,fenol/c/L-glutamina,s/hepes 5...   \n",
       "4            01-115-1A  Leibovitz L-15, medio cultivo c/ L-glutamina 5...   \n",
       "..                 ...                                                ...   \n",
       "678  XB101120-0010-001  Punta 0.1-10ul tipo gilson,blanca S/Nucle,1000...   \n",
       "679  XB101220-1000-001  Punta azul,100-1000ul, libre de Nucleasas 1000...   \n",
       "680      XB101621-0200  Punta Amarilla 0,1-200ul,esteril,biselada, DNA...   \n",
       "681      XB111121-0010  Punta 0.1-10ul Tipo Gilson,blanca,s/Nuclea,EST...   \n",
       "682      XB111221-1000  Punta azul, 1000ul, esteril, biselada, DNA, 10...   \n",
       "\n",
       "     Cantidad_Vendida      Total  \n",
       "0                   2   19000.00  \n",
       "1                   2    1000.00  \n",
       "2                   5   10300.00  \n",
       "3                   3   34530.00  \n",
       "4                   8  134400.00  \n",
       "..                ...        ...  \n",
       "678                91  509440.00  \n",
       "679                 5   33840.00  \n",
       "680                 6   12940.50  \n",
       "681                 3    4800.00  \n",
       "682                36   90678.12  \n",
       "\n",
       "[683 rows x 4 columns]"
      ]
     },
     "execution_count": 54,
     "metadata": {},
     "output_type": "execute_result"
    }
   ],
   "source": [
    "# Cargar el archivo .xlxs en un DataFrame (df)\n",
    "ventas=pd.read_excel(\"ventas.xlsx\")\n",
    "ventas"
   ]
  },
  {
   "cell_type": "code",
   "execution_count": 4,
   "id": "4ec63600",
   "metadata": {},
   "outputs": [
    {
     "data": {
      "text/html": [
       "<div>\n",
       "<style scoped>\n",
       "    .dataframe tbody tr th:only-of-type {\n",
       "        vertical-align: middle;\n",
       "    }\n",
       "\n",
       "    .dataframe tbody tr th {\n",
       "        vertical-align: top;\n",
       "    }\n",
       "\n",
       "    .dataframe thead th {\n",
       "        text-align: right;\n",
       "    }\n",
       "</style>\n",
       "<table border=\"1\" class=\"dataframe\">\n",
       "  <thead>\n",
       "    <tr style=\"text-align: right;\">\n",
       "      <th></th>\n",
       "      <th>Codigo</th>\n",
       "      <th>Nombre</th>\n",
       "      <th>Cantidad_Vendida</th>\n",
       "      <th>Total</th>\n",
       "    </tr>\n",
       "  </thead>\n",
       "  <tbody>\n",
       "    <tr>\n",
       "      <th>0</th>\n",
       "      <td>01-025-5A</td>\n",
       "      <td>MEM-E 10X Conc.,Earles Salts Base,500ml./01-02...</td>\n",
       "      <td>2</td>\n",
       "      <td>19000.0</td>\n",
       "    </tr>\n",
       "  </tbody>\n",
       "</table>\n",
       "</div>"
      ],
      "text/plain": [
       "      Codigo                                             Nombre  \\\n",
       "0  01-025-5A  MEM-E 10X Conc.,Earles Salts Base,500ml./01-02...   \n",
       "\n",
       "   Cantidad_Vendida    Total  \n",
       "0                 2  19000.0  "
      ]
     },
     "execution_count": 4,
     "metadata": {},
     "output_type": "execute_result"
    }
   ],
   "source": [
    "#Por ejemplo, si necesitamos ver solo la primera fila podemos utilizar: \n",
    "ventas[0:1]"
   ]
  },
  {
   "cell_type": "code",
   "execution_count": 5,
   "id": "dac5239c",
   "metadata": {},
   "outputs": [
    {
     "data": {
      "text/plain": [
       "Codigo                                                      01-025-5A\n",
       "Nombre              MEM-E 10X Conc.,Earles Salts Base,500ml./01-02...\n",
       "Cantidad_Vendida                                                    2\n",
       "Total                                                         19000.0\n",
       "Name: 0, dtype: object"
      ]
     },
     "execution_count": 5,
     "metadata": {},
     "output_type": "execute_result"
    }
   ],
   "source": [
    "#Otra forma de visualizar la primera fila podría ser:\n",
    "ventas.iloc[0]"
   ]
  },
  {
   "cell_type": "code",
   "execution_count": 6,
   "id": "6d4a383f",
   "metadata": {},
   "outputs": [
    {
     "data": {
      "text/plain": [
       "0              01-025-5A\n",
       "1               01-03023\n",
       "2              01-055-1A\n",
       "3              01-100-1A\n",
       "4              01-115-1A\n",
       "             ...        \n",
       "678    XB101120-0010-001\n",
       "679    XB101220-1000-001\n",
       "680        XB101621-0200\n",
       "681        XB111121-0010\n",
       "682        XB111221-1000\n",
       "Name: Codigo, Length: 683, dtype: object"
      ]
     },
     "execution_count": 6,
     "metadata": {},
     "output_type": "execute_result"
    }
   ],
   "source": [
    "#Si necesitamos ver solo la primera columna, necesitamos hacer un pequeño cambio al código anterior: \n",
    "ventas.iloc[:,0]"
   ]
  },
  {
   "cell_type": "markdown",
   "id": "1712fd4d",
   "metadata": {},
   "source": [
    "#### 1.2 Manipulación de datos númericos en archivos .xlsx\n",
    "¿Cómo podríamos saber la suma total de las ventas percibidas en el mes?"
   ]
  },
  {
   "cell_type": "markdown",
   "id": "c6318e66",
   "metadata": {},
   "source": [
    "##### 1.2.1 Sumatoria total - Función .sum()"
   ]
  },
  {
   "cell_type": "code",
   "execution_count": 7,
   "id": "fe62a90e",
   "metadata": {},
   "outputs": [
    {
     "data": {
      "text/plain": [
       "0       19000.00\n",
       "1        1000.00\n",
       "2       10300.00\n",
       "3       34530.00\n",
       "4      134400.00\n",
       "         ...    \n",
       "678    509440.00\n",
       "679     33840.00\n",
       "680     12940.50\n",
       "681      4800.00\n",
       "682     90678.12\n",
       "Name: Total, Length: 683, dtype: float64"
      ]
     },
     "execution_count": 7,
     "metadata": {},
     "output_type": "execute_result"
    }
   ],
   "source": [
    "#Para realizar ese calculo primero debemos identificar la columna \"Total\"\n",
    "ventas[\"Total\"]"
   ]
  },
  {
   "cell_type": "code",
   "execution_count": 8,
   "id": "be8125b4",
   "metadata": {},
   "outputs": [
    {
     "data": {
      "text/plain": [
       "0       19000.00\n",
       "1        1000.00\n",
       "2       10300.00\n",
       "3       34530.00\n",
       "4      134400.00\n",
       "         ...    \n",
       "678    509440.00\n",
       "679     33840.00\n",
       "680     12940.50\n",
       "681      4800.00\n",
       "682     90678.12\n",
       "Name: Total, Length: 683, dtype: float64"
      ]
     },
     "execution_count": 8,
     "metadata": {},
     "output_type": "execute_result"
    }
   ],
   "source": [
    "#Otra forma de identificar esta columna podría ser mediante:\n",
    "ventas.iloc[:,3]"
   ]
  },
  {
   "cell_type": "code",
   "execution_count": 9,
   "id": "8dbfd796",
   "metadata": {},
   "outputs": [
    {
     "name": "stdout",
     "output_type": "stream",
     "text": [
      "La suma total de ventas del mes de septiembre fue: 137150509.6169\n"
     ]
    }
   ],
   "source": [
    "#Como ya tenemos identificada la columna ahora solo nos queda realizar la sumatoria.\n",
    "#Esto lo realizamos mediante la función \"sum.()\"\n",
    "sumatoria=ventas[\"Total\"].sum()\n",
    "\n",
    "print(\"La suma total de ventas del mes de septiembre fue:\",sumatoria)\n"
   ]
  },
  {
   "cell_type": "markdown",
   "id": "3f34b813",
   "metadata": {},
   "source": [
    "##### 1.2.2 Valor mayor - Función .max() "
   ]
  },
  {
   "cell_type": "markdown",
   "id": "634d0197",
   "metadata": {},
   "source": [
    "Otra pregunta interesante sería: ¿Cual es el artículo que tuvo mayor cantidad de ventas?\n"
   ]
  },
  {
   "cell_type": "code",
   "execution_count": 10,
   "id": "39d146ef",
   "metadata": {},
   "outputs": [
    {
     "data": {
      "text/plain": [
       "0       2\n",
       "1       2\n",
       "2       5\n",
       "3       3\n",
       "4       8\n",
       "       ..\n",
       "678    91\n",
       "679     5\n",
       "680     6\n",
       "681     3\n",
       "682    36\n",
       "Name: Cantidad_Vendida, Length: 683, dtype: int64"
      ]
     },
     "execution_count": 10,
     "metadata": {},
     "output_type": "execute_result"
    }
   ],
   "source": [
    "#identificamos la columna que deseamos obtener este dato, en este caso es la columna 3\n",
    "#considerando que Python toma valores desde el \"0\" sería la columna \"2\"\n",
    "ventas.iloc[:,2]"
   ]
  },
  {
   "cell_type": "code",
   "execution_count": 11,
   "id": "c7092a4a",
   "metadata": {},
   "outputs": [
    {
     "data": {
      "text/plain": [
       "10010"
      ]
     },
     "execution_count": 11,
     "metadata": {},
     "output_type": "execute_result"
    }
   ],
   "source": [
    "#Luego para saber el valor mas alto de esta columna aplicamos \n",
    "#La función max()\n",
    "ventas.iloc[:,2].max()"
   ]
  },
  {
   "cell_type": "code",
   "execution_count": 12,
   "id": "ad503527",
   "metadata": {},
   "outputs": [
    {
     "data": {
      "text/plain": [
       "10010"
      ]
     },
     "execution_count": 12,
     "metadata": {},
     "output_type": "execute_result"
    }
   ],
   "source": [
    "#O también:\n",
    "ventas[\"Cantidad_Vendida\"].max()"
   ]
  },
  {
   "cell_type": "code",
   "execution_count": 13,
   "id": "a9192dbe",
   "metadata": {},
   "outputs": [
    {
     "name": "stdout",
     "output_type": "stream",
     "text": [
      "El insumo más vendido es: Asa calibrada de 1ul, Blanca, esteril - EDLAB\n",
      "Cantidad vendida: 10010\n"
     ]
    }
   ],
   "source": [
    "#Ya tenemos el el número mas alto, sin embargo nos falta saber el nombre del artículo\n",
    "#Para saber el nombre podríamos aplicar la función .idxmax()\n",
    "insumo_mas_vendido=ventas.loc[ventas[\"Cantidad_Vendida\"].idxmax(),\"Nombre\"]\n",
    "cantidad_max_vendida=ventas.iloc[:,2].max()\n",
    "\n",
    "print(\"El insumo más vendido es:\",insumo_mas_vendido)\n",
    "print(\"Cantidad vendida:\",cantidad_max_vendida)\n"
   ]
  },
  {
   "cell_type": "markdown",
   "id": "00040e50",
   "metadata": {},
   "source": [
    "#### 1.3 Graficar los datos\n",
    "\n",
    "Ahora nuestro jefe nos pide un grafico de torta que contenga los 10 artículos más vendidos.\n",
    "Esto podemos realizarlo con la función .nlargest de la librería Pandas:"
   ]
  },
  {
   "cell_type": "markdown",
   "id": "054a84fd",
   "metadata": {},
   "source": [
    "##### 1.3.1 Top 10 - Función .nlargest()"
   ]
  },
  {
   "cell_type": "code",
   "execution_count": 55,
   "id": "56a1f1a8",
   "metadata": {},
   "outputs": [
    {
     "data": {
      "text/html": [
       "<div>\n",
       "<style scoped>\n",
       "    .dataframe tbody tr th:only-of-type {\n",
       "        vertical-align: middle;\n",
       "    }\n",
       "\n",
       "    .dataframe tbody tr th {\n",
       "        vertical-align: top;\n",
       "    }\n",
       "\n",
       "    .dataframe thead th {\n",
       "        text-align: right;\n",
       "    }\n",
       "</style>\n",
       "<table border=\"1\" class=\"dataframe\">\n",
       "  <thead>\n",
       "    <tr style=\"text-align: right;\">\n",
       "      <th></th>\n",
       "      <th>Codigo</th>\n",
       "      <th>Nombre</th>\n",
       "      <th>Cantidad_Vendida</th>\n",
       "      <th>Total</th>\n",
       "    </tr>\n",
       "  </thead>\n",
       "  <tbody>\n",
       "    <tr>\n",
       "      <th>255</th>\n",
       "      <td>BY1008K1021</td>\n",
       "      <td>Asa calibrada de 1ul, Blanca, esteril - EDLAB</td>\n",
       "      <td>10010</td>\n",
       "      <td>390400.0</td>\n",
       "    </tr>\n",
       "    <tr>\n",
       "      <th>256</th>\n",
       "      <td>BY10097105</td>\n",
       "      <td>Portaobjeto 26x76 mm,con 1 franja,bordes esmer...</td>\n",
       "      <td>3100</td>\n",
       "      <td>1595126.4</td>\n",
       "    </tr>\n",
       "    <tr>\n",
       "      <th>301</th>\n",
       "      <td>BY1062P1001-S</td>\n",
       "      <td>Especulo pequeño, esteril, individual, desechable</td>\n",
       "      <td>1140</td>\n",
       "      <td>570000.0</td>\n",
       "    </tr>\n",
       "    <tr>\n",
       "      <th>303</th>\n",
       "      <td>BY10657101</td>\n",
       "      <td>Portaobjeto 26x76mm,sin franja(liso),bordes es...</td>\n",
       "      <td>1080</td>\n",
       "      <td>460260.0</td>\n",
       "    </tr>\n",
       "    <tr>\n",
       "      <th>105</th>\n",
       "      <td>65-1001</td>\n",
       "      <td>Asa tipo Drigalski esteril individual (forma L)</td>\n",
       "      <td>1030</td>\n",
       "      <td>48797.2</td>\n",
       "    </tr>\n",
       "    <tr>\n",
       "      <th>289</th>\n",
       "      <td>BY1050CUBRE18X18YC</td>\n",
       "      <td>Cubre objeto 18x18mm 100/Caja, EDLAB.</td>\n",
       "      <td>1005</td>\n",
       "      <td>201100.0</td>\n",
       "    </tr>\n",
       "    <tr>\n",
       "      <th>455</th>\n",
       "      <td>HS1006GRL333</td>\n",
       "      <td>Gel Refrigerante 300gr. 21x21cm</td>\n",
       "      <td>1000</td>\n",
       "      <td>340000.0</td>\n",
       "    </tr>\n",
       "    <tr>\n",
       "      <th>254</th>\n",
       "      <td>BY1007K1020</td>\n",
       "      <td>Asa calibrada de 10ul, azul, esteril. EDLAB</td>\n",
       "      <td>820</td>\n",
       "      <td>32689.6</td>\n",
       "    </tr>\n",
       "    <tr>\n",
       "      <th>265</th>\n",
       "      <td>BY1021YCMO11</td>\n",
       "      <td>Hoja de bisturi # 11,esteril, 100/Caja.</td>\n",
       "      <td>685</td>\n",
       "      <td>1980087.2</td>\n",
       "    </tr>\n",
       "    <tr>\n",
       "      <th>292</th>\n",
       "      <td>BY1052CUBRE22X22YC</td>\n",
       "      <td>Cubre objeto 22x22mm 100/Caja. EDLAB.</td>\n",
       "      <td>570</td>\n",
       "      <td>146800.0</td>\n",
       "    </tr>\n",
       "  </tbody>\n",
       "</table>\n",
       "</div>"
      ],
      "text/plain": [
       "                 Codigo                                             Nombre  \\\n",
       "255         BY1008K1021      Asa calibrada de 1ul, Blanca, esteril - EDLAB   \n",
       "256          BY10097105  Portaobjeto 26x76 mm,con 1 franja,bordes esmer...   \n",
       "301       BY1062P1001-S  Especulo pequeño, esteril, individual, desechable   \n",
       "303          BY10657101  Portaobjeto 26x76mm,sin franja(liso),bordes es...   \n",
       "105             65-1001    Asa tipo Drigalski esteril individual (forma L)   \n",
       "289  BY1050CUBRE18X18YC              Cubre objeto 18x18mm 100/Caja, EDLAB.   \n",
       "455        HS1006GRL333                    Gel Refrigerante 300gr. 21x21cm   \n",
       "254         BY1007K1020        Asa calibrada de 10ul, azul, esteril. EDLAB   \n",
       "265        BY1021YCMO11            Hoja de bisturi # 11,esteril, 100/Caja.   \n",
       "292  BY1052CUBRE22X22YC             Cubre objeto 22x22mm 100/Caja. EDLAB.    \n",
       "\n",
       "     Cantidad_Vendida      Total  \n",
       "255             10010   390400.0  \n",
       "256              3100  1595126.4  \n",
       "301              1140   570000.0  \n",
       "303              1080   460260.0  \n",
       "105              1030    48797.2  \n",
       "289              1005   201100.0  \n",
       "455              1000   340000.0  \n",
       "254               820    32689.6  \n",
       "265               685  1980087.2  \n",
       "292               570   146800.0  "
      ]
     },
     "execution_count": 55,
     "metadata": {},
     "output_type": "execute_result"
    }
   ],
   "source": [
    "#Debemos aplicar la función .nlargest al df \"ventas\", seguido de la cantidad de elementos que necesitemos.\n",
    "#(en este caso son 10). Luego debemos específicar la columna en la cual buscaremos los valores más altos. \n",
    "ventas.nlargest(10, 'Cantidad_Vendida')\n"
   ]
  },
  {
   "cell_type": "code",
   "execution_count": 15,
   "id": "fafed3ed",
   "metadata": {},
   "outputs": [
    {
     "name": "stdout",
     "output_type": "stream",
     "text": [
      "                 Codigo                                             Nombre  \\\n",
      "255         BY1008K1021      Asa calibrada de 1ul, Blanca, esteril - EDLAB   \n",
      "256          BY10097105  Portaobjeto 26x76 mm,con 1 franja,bordes esmer...   \n",
      "301       BY1062P1001-S  Especulo pequeño, esteril, individual, desechable   \n",
      "303          BY10657101  Portaobjeto 26x76mm,sin franja(liso),bordes es...   \n",
      "105             65-1001    Asa tipo Drigalski esteril individual (forma L)   \n",
      "289  BY1050CUBRE18X18YC              Cubre objeto 18x18mm 100/Caja, EDLAB.   \n",
      "455        HS1006GRL333                    Gel Refrigerante 300gr. 21x21cm   \n",
      "254         BY1007K1020        Asa calibrada de 10ul, azul, esteril. EDLAB   \n",
      "265        BY1021YCMO11            Hoja de bisturi # 11,esteril, 100/Caja.   \n",
      "292  BY1052CUBRE22X22YC             Cubre objeto 22x22mm 100/Caja. EDLAB.    \n",
      "\n",
      "     Cantidad_Vendida      Total  \n",
      "255             10010   390400.0  \n",
      "256              3100  1595126.4  \n",
      "301              1140   570000.0  \n",
      "303              1080   460260.0  \n",
      "105              1030    48797.2  \n",
      "289              1005   201100.0  \n",
      "455              1000   340000.0  \n",
      "254               820    32689.6  \n",
      "265               685  1980087.2  \n",
      "292               570   146800.0  \n"
     ]
    }
   ],
   "source": [
    "#Para crear el gráfico lo podemos definir en la variable \"top_10\":\n",
    "top_10 = ventas.nlargest(10, 'Cantidad_Vendida')\n",
    "\n",
    "# Mostrar los resultados\n",
    "print(top_10)"
   ]
  },
  {
   "cell_type": "markdown",
   "id": "0edcfa57",
   "metadata": {},
   "source": [
    "##### 1.3.2 Gráfico de torta - Función plt.pie()"
   ]
  },
  {
   "cell_type": "code",
   "execution_count": 57,
   "id": "9e42c7f0",
   "metadata": {},
   "outputs": [
    {
     "data": {
      "image/png": "[encoded data removed]",
      "text/plain": [
       "<Figure size 432x288 with 1 Axes>"
      ]
     },
     "metadata": {},
     "output_type": "display_data"
    }
   ],
   "source": [
    "# Crear el gráfico de torta\n",
    "#Utilizando la función .pie de la librería matplotlib.pyplot,\n",
    "#debemos especificar en primer lugar los valores que queremos graficar en este caso la cantidad mas vendida\n",
    "#luego se especifican las etiquetas, nosotros deseamos que se muestren los nombres de los insumos mas vendidos\n",
    "#Finalmente si queremos ver los porcentajes se agrega autopct='%1.0f%%' \n",
    "plt.pie(top_10[\"Cantidad_Vendida\"], labels=top_10[\"Nombre\"],autopct='%1.0f%%')\n",
    "\n",
    "# Añadir título\n",
    "plt.title('Los 10 artículos más vendidos de este mes')\n",
    "\n",
    "# Mostrar el gráfico de torta\n",
    "plt.show()"
   ]
  },
  {
   "cell_type": "markdown",
   "id": "7a36b35b",
   "metadata": {},
   "source": [
    "##### 1.3.3 Gráfico de barras - Función plt.bar()\n",
    "¿Cómo podríamos graficar lo mismo pero en graficos de barras?"
   ]
  },
  {
   "cell_type": "code",
   "execution_count": 58,
   "id": "23334b1e",
   "metadata": {},
   "outputs": [
    {
     "data": {
      "image/png": "[encoded data removed]",
      "text/plain": [
       "<Figure size 432x288 with 1 Axes>"
      ]
     },
     "metadata": {
      "needs_background": "light"
     },
     "output_type": "display_data"
    }
   ],
   "source": [
    "# Crear el gráfico de barras\n",
    "#plt.bar toma como argumento eje \"x\", eje \"y\" además podemos agregar diferentes colores.\n",
    "plt.bar(top_10[\"Nombre\"], top_10[\"Cantidad_Vendida\"], color='purple')\n",
    "\n",
    "# Añadir título y etiquetas\n",
    "plt.title('Los 10 artículos más vendidos')\n",
    "plt.xlabel('Nombre')\n",
    "plt.ylabel('Cantidad vendida')\n",
    "\n",
    "# Mostrar el gráfico\n",
    "plt.show()"
   ]
  },
  {
   "cell_type": "markdown",
   "id": "3e760efe",
   "metadata": {},
   "source": [
    "De este modo vemos que al ser tan largos los nombres se solapan, sin embargo se puede realizar el siguiente arreglo:\n"
   ]
  },
  {
   "cell_type": "code",
   "execution_count": 18,
   "id": "422c1eb2",
   "metadata": {},
   "outputs": [
    {
     "data": {
      "image/png": "[encoded data removed]",
      "text/plain": [
       "<Figure size 432x288 with 1 Axes>"
      ]
     },
     "metadata": {
      "needs_background": "light"
     },
     "output_type": "display_data"
    }
   ],
   "source": [
    "# Crear el gráfico de barras\n",
    "plt.bar(top_10[\"Nombre\"], top_10[\"Cantidad_Vendida\"]) #si no agregamos color lo realiza azul por defecto\n",
    "\n",
    "# Añadir título y etiquetas\n",
    "plt.title('Los 10 artículos más vendidos')\n",
    "plt.xlabel('Insumos')\n",
    "plt.ylabel('Cantidad vendida')\n",
    "\n",
    "# Rotar los nombres del eje x\n",
    "plt.xticks(rotation=90)\n",
    "\n",
    "# Mostrar el gráfico\n",
    "plt.show()\n"
   ]
  },
  {
   "cell_type": "markdown",
   "id": "bd77a7dd",
   "metadata": {},
   "source": [
    "### Ejercicios:\n",
    "- Utilizando las funciones .idxmin() y .min() averigua el código del artículo menos vendido.\n",
    "- Utilizando la función .nsmallest averigua los 10 artículos con menos ventas."
   ]
  },
  {
   "cell_type": "markdown",
   "id": "cc784cf7",
   "metadata": {},
   "source": [
    "<img src=\"https://raw.githubusercontent.com/Barbara-GD/Introduccion_a_la_Bioinformatica/main/pythonASCII.png\" alt=\"Drawing\" style=\"width: 700px;\"/>\n",
    "\n"
   ]
  },
  {
   "cell_type": "code",
   "execution_count": 19,
   "id": "efa7aca1",
   "metadata": {},
   "outputs": [
    {
     "name": "stdout",
     "output_type": "stream",
     "text": [
      "El código del insumo menos vendido es: GE1000N10PC\n",
      "Cantidad vendida: 0\n"
     ]
    }
   ],
   "source": [
    "#solución1:\n",
    "insumo_menos_vendido=ventas.loc[ventas[\"Cantidad_Vendida\"].idxmin(),\"Codigo\"]\n",
    "cantidad_min_vendida=ventas.iloc[:,2].min()\n",
    "\n",
    "print(\"El código del insumo menos vendido es:\",insumo_menos_vendido)\n",
    "print(\"Cantidad vendida:\",cantidad_min_vendida)\n"
   ]
  },
  {
   "cell_type": "code",
   "execution_count": 20,
   "id": "39f6c2a4",
   "metadata": {},
   "outputs": [
    {
     "data": {
      "text/html": [
       "<div>\n",
       "<style scoped>\n",
       "    .dataframe tbody tr th:only-of-type {\n",
       "        vertical-align: middle;\n",
       "    }\n",
       "\n",
       "    .dataframe tbody tr th {\n",
       "        vertical-align: top;\n",
       "    }\n",
       "\n",
       "    .dataframe thead th {\n",
       "        text-align: right;\n",
       "    }\n",
       "</style>\n",
       "<table border=\"1\" class=\"dataframe\">\n",
       "  <thead>\n",
       "    <tr style=\"text-align: right;\">\n",
       "      <th></th>\n",
       "      <th>Codigo</th>\n",
       "      <th>Nombre</th>\n",
       "      <th>Cantidad_Vendida</th>\n",
       "      <th>Total</th>\n",
       "    </tr>\n",
       "  </thead>\n",
       "  <tbody>\n",
       "    <tr>\n",
       "      <th>441</th>\n",
       "      <td>GE1000N10PC</td>\n",
       "      <td>Caja para raton, policarbonato, autoclavable, ...</td>\n",
       "      <td>0</td>\n",
       "      <td>0.0</td>\n",
       "    </tr>\n",
       "    <tr>\n",
       "      <th>22</th>\n",
       "      <td>18000-00</td>\n",
       "      <td>Small Vessel Cauterizer Kit./18000-00</td>\n",
       "      <td>1</td>\n",
       "      <td>588200.0</td>\n",
       "    </tr>\n",
       "    <tr>\n",
       "      <th>23</th>\n",
       "      <td>18000-01</td>\n",
       "      <td>Straight Fine Tip for Small Vessel Cauterizer....</td>\n",
       "      <td>1</td>\n",
       "      <td>94620.0</td>\n",
       "    </tr>\n",
       "    <tr>\n",
       "      <th>28</th>\n",
       "      <td>215710</td>\n",
       "      <td>ADONITOL, 10gr./215710</td>\n",
       "      <td>1</td>\n",
       "      <td>43000.0</td>\n",
       "    </tr>\n",
       "    <tr>\n",
       "      <th>29</th>\n",
       "      <td>215910</td>\n",
       "      <td>L- arabinose, 25gr./215910</td>\n",
       "      <td>1</td>\n",
       "      <td>62247.0</td>\n",
       "    </tr>\n",
       "    <tr>\n",
       "      <th>31</th>\n",
       "      <td>217510</td>\n",
       "      <td>RHAMNOSE ,25gr-217510</td>\n",
       "      <td>1</td>\n",
       "      <td>55771.0</td>\n",
       "    </tr>\n",
       "    <tr>\n",
       "      <th>32</th>\n",
       "      <td>217610</td>\n",
       "      <td>SACCHAROSE, 500GR./217610</td>\n",
       "      <td>1</td>\n",
       "      <td>18456.0</td>\n",
       "    </tr>\n",
       "    <tr>\n",
       "      <th>33</th>\n",
       "      <td>217910</td>\n",
       "      <td>D-Sorbitol ,500g, 217910</td>\n",
       "      <td>1</td>\n",
       "      <td>49599.0</td>\n",
       "    </tr>\n",
       "    <tr>\n",
       "      <th>34</th>\n",
       "      <td>218081</td>\n",
       "      <td>REINFORCED CLOSTRIDIAL MEDIUM, 500gr./218081</td>\n",
       "      <td>1</td>\n",
       "      <td>77129.0</td>\n",
       "    </tr>\n",
       "    <tr>\n",
       "      <th>36</th>\n",
       "      <td>221169</td>\n",
       "      <td>Chocolate II agar c/ hem/IsoVitaleX - 20 placa...</td>\n",
       "      <td>1</td>\n",
       "      <td>10600.0</td>\n",
       "    </tr>\n",
       "  </tbody>\n",
       "</table>\n",
       "</div>"
      ],
      "text/plain": [
       "          Codigo                                             Nombre  \\\n",
       "441  GE1000N10PC  Caja para raton, policarbonato, autoclavable, ...   \n",
       "22      18000-00              Small Vessel Cauterizer Kit./18000-00   \n",
       "23      18000-01  Straight Fine Tip for Small Vessel Cauterizer....   \n",
       "28        215710                             ADONITOL, 10gr./215710   \n",
       "29        215910                         L- arabinose, 25gr./215910   \n",
       "31        217510                              RHAMNOSE ,25gr-217510   \n",
       "32        217610                         SACCHAROSE, 500GR./217610    \n",
       "33        217910                           D-Sorbitol ,500g, 217910   \n",
       "34        218081       REINFORCED CLOSTRIDIAL MEDIUM, 500gr./218081   \n",
       "36        221169  Chocolate II agar c/ hem/IsoVitaleX - 20 placa...   \n",
       "\n",
       "     Cantidad_Vendida     Total  \n",
       "441                 0       0.0  \n",
       "22                  1  588200.0  \n",
       "23                  1   94620.0  \n",
       "28                  1   43000.0  \n",
       "29                  1   62247.0  \n",
       "31                  1   55771.0  \n",
       "32                  1   18456.0  \n",
       "33                  1   49599.0  \n",
       "34                  1   77129.0  \n",
       "36                  1   10600.0  "
      ]
     },
     "execution_count": 20,
     "metadata": {},
     "output_type": "execute_result"
    }
   ],
   "source": [
    "#solución2:\n",
    "ventas.nsmallest(10, 'Cantidad_Vendida')"
   ]
  },
  {
   "cell_type": "markdown",
   "id": "cbc6ddd3",
   "metadata": {},
   "source": [
    "### 2.1 Importar y visualizar datos en formato .gz\n",
    "\n",
    "Un archivo GZ es un archivo comprimido que se crea utilizando el algoritmo de compresión estándar gzip (GNU zip). Puede contener múltiples archivos comprimidos, directorios y apéndices de archivos. Este formato se desarrolló inicialmente para reemplazar los formatos de compresión en los sistemas UNIX.\n",
    "\n",
    "- Abrir base de datos [Gene Expression Omnibus](https://www.ncbi.nlm.nih.gov/geo/) \n",
    "- Buscar el GEO accession: GSE52339\n",
    "- Descargar en su computador el archivo \"GSE52339_RNAseq_genes.fpkm_tracking.gz”\n",
    "- Importar archivo .gz al terminal de Jupyter notebook \n"
   ]
  },
  {
   "cell_type": "code",
   "execution_count": 21,
   "id": "e7065882",
   "metadata": {},
   "outputs": [
    {
     "data": {
      "text/html": [
       "<div>\n",
       "<style scoped>\n",
       "    .dataframe tbody tr th:only-of-type {\n",
       "        vertical-align: middle;\n",
       "    }\n",
       "\n",
       "    .dataframe tbody tr th {\n",
       "        vertical-align: top;\n",
       "    }\n",
       "\n",
       "    .dataframe thead th {\n",
       "        text-align: right;\n",
       "    }\n",
       "</style>\n",
       "<table border=\"1\" class=\"dataframe\">\n",
       "  <thead>\n",
       "    <tr style=\"text-align: right;\">\n",
       "      <th></th>\n",
       "      <th>tracking_id</th>\n",
       "      <th>class_code</th>\n",
       "      <th>nearest_ref_id</th>\n",
       "      <th>gene_id</th>\n",
       "      <th>gene_short_name</th>\n",
       "      <th>tss_id</th>\n",
       "      <th>locus</th>\n",
       "      <th>length</th>\n",
       "      <th>coverage</th>\n",
       "      <th>T1_FPKM</th>\n",
       "      <th>...</th>\n",
       "      <th>T14_conf_hi</th>\n",
       "      <th>T14_status</th>\n",
       "      <th>T15_FPKM</th>\n",
       "      <th>T15_conf_lo</th>\n",
       "      <th>T15_conf_hi</th>\n",
       "      <th>T15_status</th>\n",
       "      <th>T16_FPKM</th>\n",
       "      <th>T16_conf_lo</th>\n",
       "      <th>T16_conf_hi</th>\n",
       "      <th>T16_status</th>\n",
       "    </tr>\n",
       "  </thead>\n",
       "  <tbody>\n",
       "    <tr>\n",
       "      <th>0</th>\n",
       "      <td>15S_rRNA</td>\n",
       "      <td>-</td>\n",
       "      <td>-</td>\n",
       "      <td>15S_rRNA</td>\n",
       "      <td>15S_RRNA</td>\n",
       "      <td>TSS2188</td>\n",
       "      <td>Mito:6545-8194</td>\n",
       "      <td>-</td>\n",
       "      <td>-</td>\n",
       "      <td>0.00000</td>\n",
       "      <td>...</td>\n",
       "      <td>0.00000</td>\n",
       "      <td>OK</td>\n",
       "      <td>0.00000</td>\n",
       "      <td>0.000000</td>\n",
       "      <td>0.00000</td>\n",
       "      <td>OK</td>\n",
       "      <td>0.00000</td>\n",
       "      <td>0.000000</td>\n",
       "      <td>0.00000</td>\n",
       "      <td>OK</td>\n",
       "    </tr>\n",
       "    <tr>\n",
       "      <th>1</th>\n",
       "      <td>21S_rRNA</td>\n",
       "      <td>-</td>\n",
       "      <td>-</td>\n",
       "      <td>21S_rRNA</td>\n",
       "      <td>21S_RRNA</td>\n",
       "      <td>TSS3982</td>\n",
       "      <td>Mito:58008-62447</td>\n",
       "      <td>-</td>\n",
       "      <td>-</td>\n",
       "      <td>0.00000</td>\n",
       "      <td>...</td>\n",
       "      <td>0.00000</td>\n",
       "      <td>OK</td>\n",
       "      <td>0.00000</td>\n",
       "      <td>0.000000</td>\n",
       "      <td>0.00000</td>\n",
       "      <td>OK</td>\n",
       "      <td>0.00000</td>\n",
       "      <td>0.000000</td>\n",
       "      <td>0.00000</td>\n",
       "      <td>OK</td>\n",
       "    </tr>\n",
       "    <tr>\n",
       "      <th>2</th>\n",
       "      <td>HRA1</td>\n",
       "      <td>-</td>\n",
       "      <td>-</td>\n",
       "      <td>HRA1</td>\n",
       "      <td>HRA1</td>\n",
       "      <td>TSS6151</td>\n",
       "      <td>I:94687-99869</td>\n",
       "      <td>-</td>\n",
       "      <td>-</td>\n",
       "      <td>9.27966</td>\n",
       "      <td>...</td>\n",
       "      <td>63.94530</td>\n",
       "      <td>OK</td>\n",
       "      <td>6.67206</td>\n",
       "      <td>0.000000</td>\n",
       "      <td>56.79900</td>\n",
       "      <td>OK</td>\n",
       "      <td>7.09043</td>\n",
       "      <td>0.000000</td>\n",
       "      <td>58.20380</td>\n",
       "      <td>OK</td>\n",
       "    </tr>\n",
       "    <tr>\n",
       "      <th>3</th>\n",
       "      <td>ICR1</td>\n",
       "      <td>-</td>\n",
       "      <td>-</td>\n",
       "      <td>ICR1</td>\n",
       "      <td>ICR1</td>\n",
       "      <td>TSS5516</td>\n",
       "      <td>IX:393880-397079</td>\n",
       "      <td>-</td>\n",
       "      <td>-</td>\n",
       "      <td>5.15379</td>\n",
       "      <td>...</td>\n",
       "      <td>8.48926</td>\n",
       "      <td>OK</td>\n",
       "      <td>4.17099</td>\n",
       "      <td>0.322224</td>\n",
       "      <td>8.01976</td>\n",
       "      <td>OK</td>\n",
       "      <td>4.31933</td>\n",
       "      <td>0.053414</td>\n",
       "      <td>8.58525</td>\n",
       "      <td>OK</td>\n",
       "    </tr>\n",
       "    <tr>\n",
       "      <th>4</th>\n",
       "      <td>LSR1</td>\n",
       "      <td>-</td>\n",
       "      <td>-</td>\n",
       "      <td>LSR1</td>\n",
       "      <td>LSR1</td>\n",
       "      <td>TSS3946</td>\n",
       "      <td>II:680682-681857</td>\n",
       "      <td>-</td>\n",
       "      <td>-</td>\n",
       "      <td>38.93320</td>\n",
       "      <td>...</td>\n",
       "      <td>68.17550</td>\n",
       "      <td>OK</td>\n",
       "      <td>32.23570</td>\n",
       "      <td>6.328300</td>\n",
       "      <td>58.14310</td>\n",
       "      <td>OK</td>\n",
       "      <td>39.49620</td>\n",
       "      <td>7.499780</td>\n",
       "      <td>71.49260</td>\n",
       "      <td>OK</td>\n",
       "    </tr>\n",
       "    <tr>\n",
       "      <th>...</th>\n",
       "      <td>...</td>\n",
       "      <td>...</td>\n",
       "      <td>...</td>\n",
       "      <td>...</td>\n",
       "      <td>...</td>\n",
       "      <td>...</td>\n",
       "      <td>...</td>\n",
       "      <td>...</td>\n",
       "      <td>...</td>\n",
       "      <td>...</td>\n",
       "      <td>...</td>\n",
       "      <td>...</td>\n",
       "      <td>...</td>\n",
       "      <td>...</td>\n",
       "      <td>...</td>\n",
       "      <td>...</td>\n",
       "      <td>...</td>\n",
       "      <td>...</td>\n",
       "      <td>...</td>\n",
       "      <td>...</td>\n",
       "      <td>...</td>\n",
       "    </tr>\n",
       "    <tr>\n",
       "      <th>7125</th>\n",
       "      <td>tY(GUA)J2</td>\n",
       "      <td>-</td>\n",
       "      <td>-</td>\n",
       "      <td>tY(GUA)J2</td>\n",
       "      <td>SUP4</td>\n",
       "      <td>TSS122</td>\n",
       "      <td>X:542947-543036</td>\n",
       "      <td>-</td>\n",
       "      <td>-</td>\n",
       "      <td>0.00000</td>\n",
       "      <td>...</td>\n",
       "      <td>0.00000</td>\n",
       "      <td>OK</td>\n",
       "      <td>0.00000</td>\n",
       "      <td>0.000000</td>\n",
       "      <td>0.00000</td>\n",
       "      <td>OK</td>\n",
       "      <td>0.00000</td>\n",
       "      <td>0.000000</td>\n",
       "      <td>0.00000</td>\n",
       "      <td>OK</td>\n",
       "    </tr>\n",
       "    <tr>\n",
       "      <th>7126</th>\n",
       "      <td>tY(GUA)M1</td>\n",
       "      <td>-</td>\n",
       "      <td>-</td>\n",
       "      <td>tY(GUA)M1</td>\n",
       "      <td>SUP5</td>\n",
       "      <td>TSS3785</td>\n",
       "      <td>XIII:168794-168883</td>\n",
       "      <td>-</td>\n",
       "      <td>-</td>\n",
       "      <td>0.00000</td>\n",
       "      <td>...</td>\n",
       "      <td>0.00000</td>\n",
       "      <td>OK</td>\n",
       "      <td>0.00000</td>\n",
       "      <td>0.000000</td>\n",
       "      <td>0.00000</td>\n",
       "      <td>OK</td>\n",
       "      <td>0.00000</td>\n",
       "      <td>0.000000</td>\n",
       "      <td>0.00000</td>\n",
       "      <td>OK</td>\n",
       "    </tr>\n",
       "    <tr>\n",
       "      <th>7127</th>\n",
       "      <td>tY(GUA)M2</td>\n",
       "      <td>-</td>\n",
       "      <td>-</td>\n",
       "      <td>tY(GUA)M2</td>\n",
       "      <td>SUP8</td>\n",
       "      <td>TSS38</td>\n",
       "      <td>XIII:837926-838015</td>\n",
       "      <td>-</td>\n",
       "      <td>-</td>\n",
       "      <td>0.00000</td>\n",
       "      <td>...</td>\n",
       "      <td>0.00000</td>\n",
       "      <td>OK</td>\n",
       "      <td>0.00000</td>\n",
       "      <td>0.000000</td>\n",
       "      <td>0.00000</td>\n",
       "      <td>OK</td>\n",
       "      <td>0.00000</td>\n",
       "      <td>0.000000</td>\n",
       "      <td>0.00000</td>\n",
       "      <td>OK</td>\n",
       "    </tr>\n",
       "    <tr>\n",
       "      <th>7128</th>\n",
       "      <td>tY(GUA)O</td>\n",
       "      <td>-</td>\n",
       "      <td>-</td>\n",
       "      <td>tY(GUA)O</td>\n",
       "      <td>SUP3</td>\n",
       "      <td>TSS5362</td>\n",
       "      <td>XV:288192-288281</td>\n",
       "      <td>-</td>\n",
       "      <td>-</td>\n",
       "      <td>0.00000</td>\n",
       "      <td>...</td>\n",
       "      <td>0.00000</td>\n",
       "      <td>OK</td>\n",
       "      <td>0.00000</td>\n",
       "      <td>0.000000</td>\n",
       "      <td>0.00000</td>\n",
       "      <td>OK</td>\n",
       "      <td>0.00000</td>\n",
       "      <td>0.000000</td>\n",
       "      <td>0.00000</td>\n",
       "      <td>OK</td>\n",
       "    </tr>\n",
       "    <tr>\n",
       "      <th>7129</th>\n",
       "      <td>tY(GUA)Q</td>\n",
       "      <td>-</td>\n",
       "      <td>-</td>\n",
       "      <td>tY(GUA)Q</td>\n",
       "      <td>tY(GUA)Q</td>\n",
       "      <td>TSS1302</td>\n",
       "      <td>Mito:70823-70907</td>\n",
       "      <td>-</td>\n",
       "      <td>-</td>\n",
       "      <td>0.00000</td>\n",
       "      <td>...</td>\n",
       "      <td>0.00000</td>\n",
       "      <td>OK</td>\n",
       "      <td>0.00000</td>\n",
       "      <td>0.000000</td>\n",
       "      <td>0.00000</td>\n",
       "      <td>OK</td>\n",
       "      <td>0.00000</td>\n",
       "      <td>0.000000</td>\n",
       "      <td>0.00000</td>\n",
       "      <td>OK</td>\n",
       "    </tr>\n",
       "  </tbody>\n",
       "</table>\n",
       "<p>7130 rows × 73 columns</p>\n",
       "</div>"
      ],
      "text/plain": [
       "     tracking_id class_code nearest_ref_id    gene_id gene_short_name  \\\n",
       "0       15S_rRNA          -              -   15S_rRNA        15S_RRNA   \n",
       "1       21S_rRNA          -              -   21S_rRNA        21S_RRNA   \n",
       "2           HRA1          -              -       HRA1            HRA1   \n",
       "3           ICR1          -              -       ICR1            ICR1   \n",
       "4           LSR1          -              -       LSR1            LSR1   \n",
       "...          ...        ...            ...        ...             ...   \n",
       "7125   tY(GUA)J2          -              -  tY(GUA)J2            SUP4   \n",
       "7126   tY(GUA)M1          -              -  tY(GUA)M1            SUP5   \n",
       "7127   tY(GUA)M2          -              -  tY(GUA)M2            SUP8   \n",
       "7128    tY(GUA)O          -              -   tY(GUA)O            SUP3   \n",
       "7129    tY(GUA)Q          -              -   tY(GUA)Q        tY(GUA)Q   \n",
       "\n",
       "       tss_id               locus length coverage   T1_FPKM  ...  T14_conf_hi  \\\n",
       "0     TSS2188      Mito:6545-8194      -        -   0.00000  ...      0.00000   \n",
       "1     TSS3982    Mito:58008-62447      -        -   0.00000  ...      0.00000   \n",
       "2     TSS6151       I:94687-99869      -        -   9.27966  ...     63.94530   \n",
       "3     TSS5516    IX:393880-397079      -        -   5.15379  ...      8.48926   \n",
       "4     TSS3946    II:680682-681857      -        -  38.93320  ...     68.17550   \n",
       "...       ...                 ...    ...      ...       ...  ...          ...   \n",
       "7125   TSS122     X:542947-543036      -        -   0.00000  ...      0.00000   \n",
       "7126  TSS3785  XIII:168794-168883      -        -   0.00000  ...      0.00000   \n",
       "7127    TSS38  XIII:837926-838015      -        -   0.00000  ...      0.00000   \n",
       "7128  TSS5362    XV:288192-288281      -        -   0.00000  ...      0.00000   \n",
       "7129  TSS1302    Mito:70823-70907      -        -   0.00000  ...      0.00000   \n",
       "\n",
       "      T14_status  T15_FPKM  T15_conf_lo  T15_conf_hi  T15_status  T16_FPKM  \\\n",
       "0             OK   0.00000     0.000000      0.00000          OK   0.00000   \n",
       "1             OK   0.00000     0.000000      0.00000          OK   0.00000   \n",
       "2             OK   6.67206     0.000000     56.79900          OK   7.09043   \n",
       "3             OK   4.17099     0.322224      8.01976          OK   4.31933   \n",
       "4             OK  32.23570     6.328300     58.14310          OK  39.49620   \n",
       "...          ...       ...          ...          ...         ...       ...   \n",
       "7125          OK   0.00000     0.000000      0.00000          OK   0.00000   \n",
       "7126          OK   0.00000     0.000000      0.00000          OK   0.00000   \n",
       "7127          OK   0.00000     0.000000      0.00000          OK   0.00000   \n",
       "7128          OK   0.00000     0.000000      0.00000          OK   0.00000   \n",
       "7129          OK   0.00000     0.000000      0.00000          OK   0.00000   \n",
       "\n",
       "      T16_conf_lo  T16_conf_hi  T16_status  \n",
       "0        0.000000      0.00000          OK  \n",
       "1        0.000000      0.00000          OK  \n",
       "2        0.000000     58.20380          OK  \n",
       "3        0.053414      8.58525          OK  \n",
       "4        7.499780     71.49260          OK  \n",
       "...           ...          ...         ...  \n",
       "7125     0.000000      0.00000          OK  \n",
       "7126     0.000000      0.00000          OK  \n",
       "7127     0.000000      0.00000          OK  \n",
       "7128     0.000000      0.00000          OK  \n",
       "7129     0.000000      0.00000          OK  \n",
       "\n",
       "[7130 rows x 73 columns]"
      ]
     },
     "execution_count": 21,
     "metadata": {},
     "output_type": "execute_result"
    }
   ],
   "source": [
    "# Cargar el archivo .gz en un DataFrame\n",
    "df = pd.read_csv(\"GSE52339_RNAseq_genes.fpkm_tracking\",sep='\\t')\n",
    "df"
   ]
  },
  {
   "cell_type": "code",
   "execution_count": 22,
   "id": "c381e41c",
   "metadata": {},
   "outputs": [
    {
     "data": {
      "text/plain": [
       "(7130, 73)"
      ]
     },
     "execution_count": 22,
     "metadata": {},
     "output_type": "execute_result"
    }
   ],
   "source": [
    "#Otra forma de saber las dimensiones de un df es mediante la función .shape\n",
    "#Donde el primer valor corresponde a las filas y el segundo a las columnas\n",
    "df.shape"
   ]
  },
  {
   "cell_type": "code",
   "execution_count": 23,
   "id": "f770921c",
   "metadata": {},
   "outputs": [
    {
     "name": "stdout",
     "output_type": "stream",
     "text": [
      "  tracking_id class_code nearest_ref_id   gene_id gene_short_name   tss_id  \\\n",
      "0    15S_rRNA          -              -  15S_rRNA        15S_RRNA  TSS2188   \n",
      "1    21S_rRNA          -              -  21S_rRNA        21S_RRNA  TSS3982   \n",
      "2        HRA1          -              -      HRA1            HRA1  TSS6151   \n",
      "3        ICR1          -              -      ICR1            ICR1  TSS5516   \n",
      "4        LSR1          -              -      LSR1            LSR1  TSS3946   \n",
      "\n",
      "              locus length coverage   T1_FPKM  ...  T14_conf_hi  T14_status  \\\n",
      "0    Mito:6545-8194      -        -   0.00000  ...      0.00000          OK   \n",
      "1  Mito:58008-62447      -        -   0.00000  ...      0.00000          OK   \n",
      "2     I:94687-99869      -        -   9.27966  ...     63.94530          OK   \n",
      "3  IX:393880-397079      -        -   5.15379  ...      8.48926          OK   \n",
      "4  II:680682-681857      -        -  38.93320  ...     68.17550          OK   \n",
      "\n",
      "   T15_FPKM  T15_conf_lo  T15_conf_hi  T15_status  T16_FPKM  T16_conf_lo  \\\n",
      "0   0.00000     0.000000      0.00000          OK   0.00000     0.000000   \n",
      "1   0.00000     0.000000      0.00000          OK   0.00000     0.000000   \n",
      "2   6.67206     0.000000     56.79900          OK   7.09043     0.000000   \n",
      "3   4.17099     0.322224      8.01976          OK   4.31933     0.053414   \n",
      "4  32.23570     6.328300     58.14310          OK  39.49620     7.499780   \n",
      "\n",
      "   T16_conf_hi  T16_status  \n",
      "0      0.00000          OK  \n",
      "1      0.00000          OK  \n",
      "2     58.20380          OK  \n",
      "3      8.58525          OK  \n",
      "4     71.49260          OK  \n",
      "\n",
      "[5 rows x 73 columns]\n"
     ]
    }
   ],
   "source": [
    "# Visualizar las primeras 5 filas de datos\n",
    "print(df.head())"
   ]
  },
  {
   "cell_type": "code",
   "execution_count": 24,
   "id": "dba980fc",
   "metadata": {},
   "outputs": [
    {
     "name": "stdout",
     "output_type": "stream",
     "text": [
      "     tracking_id class_code nearest_ref_id    gene_id gene_short_name  \\\n",
      "7125   tY(GUA)J2          -              -  tY(GUA)J2            SUP4   \n",
      "7126   tY(GUA)M1          -              -  tY(GUA)M1            SUP5   \n",
      "7127   tY(GUA)M2          -              -  tY(GUA)M2            SUP8   \n",
      "7128    tY(GUA)O          -              -   tY(GUA)O            SUP3   \n",
      "7129    tY(GUA)Q          -              -   tY(GUA)Q        tY(GUA)Q   \n",
      "\n",
      "       tss_id               locus length coverage  T1_FPKM  ...  T14_conf_hi  \\\n",
      "7125   TSS122     X:542947-543036      -        -      0.0  ...          0.0   \n",
      "7126  TSS3785  XIII:168794-168883      -        -      0.0  ...          0.0   \n",
      "7127    TSS38  XIII:837926-838015      -        -      0.0  ...          0.0   \n",
      "7128  TSS5362    XV:288192-288281      -        -      0.0  ...          0.0   \n",
      "7129  TSS1302    Mito:70823-70907      -        -      0.0  ...          0.0   \n",
      "\n",
      "      T14_status T15_FPKM  T15_conf_lo  T15_conf_hi  T15_status T16_FPKM  \\\n",
      "7125          OK      0.0          0.0          0.0          OK      0.0   \n",
      "7126          OK      0.0          0.0          0.0          OK      0.0   \n",
      "7127          OK      0.0          0.0          0.0          OK      0.0   \n",
      "7128          OK      0.0          0.0          0.0          OK      0.0   \n",
      "7129          OK      0.0          0.0          0.0          OK      0.0   \n",
      "\n",
      "      T16_conf_lo  T16_conf_hi  T16_status  \n",
      "7125          0.0          0.0          OK  \n",
      "7126          0.0          0.0          OK  \n",
      "7127          0.0          0.0          OK  \n",
      "7128          0.0          0.0          OK  \n",
      "7129          0.0          0.0          OK  \n",
      "\n",
      "[5 rows x 73 columns]\n"
     ]
    }
   ],
   "source": [
    "# Visualizar las últimas 5 filas de datos\n",
    "print(df.tail())"
   ]
  },
  {
   "cell_type": "markdown",
   "id": "89acbaf7",
   "metadata": {},
   "source": [
    "### 2.2 Manipulación de datos \n",
    "Muchas veces en bioinformatica se necesitan analizar genes y su respectiva expresión genética.\n",
    "Cuando descargamos archivos RNA-seq o simirales, contiene información que no necesitamos, por lo tanto\n",
    "debemos tratar los datos."
   ]
  },
  {
   "cell_type": "markdown",
   "id": "e0acb010",
   "metadata": {},
   "source": [
    "##### 2.2.1 Extraer infomación relevante "
   ]
  },
  {
   "cell_type": "code",
   "execution_count": 25,
   "id": "9238e306",
   "metadata": {},
   "outputs": [
    {
     "data": {
      "text/html": [
       "<div>\n",
       "<style scoped>\n",
       "    .dataframe tbody tr th:only-of-type {\n",
       "        vertical-align: middle;\n",
       "    }\n",
       "\n",
       "    .dataframe tbody tr th {\n",
       "        vertical-align: top;\n",
       "    }\n",
       "\n",
       "    .dataframe thead th {\n",
       "        text-align: right;\n",
       "    }\n",
       "</style>\n",
       "<table border=\"1\" class=\"dataframe\">\n",
       "  <thead>\n",
       "    <tr style=\"text-align: right;\">\n",
       "      <th></th>\n",
       "      <th>gene_id</th>\n",
       "      <th>T1_FPKM</th>\n",
       "      <th>T2_FPKM</th>\n",
       "      <th>T3_FPKM</th>\n",
       "    </tr>\n",
       "  </thead>\n",
       "  <tbody>\n",
       "    <tr>\n",
       "      <th>0</th>\n",
       "      <td>15S_rRNA</td>\n",
       "      <td>0.00000</td>\n",
       "      <td>0.00000</td>\n",
       "      <td>0.0000</td>\n",
       "    </tr>\n",
       "    <tr>\n",
       "      <th>1</th>\n",
       "      <td>21S_rRNA</td>\n",
       "      <td>0.00000</td>\n",
       "      <td>0.00000</td>\n",
       "      <td>0.0000</td>\n",
       "    </tr>\n",
       "    <tr>\n",
       "      <th>2</th>\n",
       "      <td>HRA1</td>\n",
       "      <td>9.27966</td>\n",
       "      <td>10.92260</td>\n",
       "      <td>12.5226</td>\n",
       "    </tr>\n",
       "    <tr>\n",
       "      <th>3</th>\n",
       "      <td>ICR1</td>\n",
       "      <td>5.15379</td>\n",
       "      <td>5.71864</td>\n",
       "      <td>5.1752</td>\n",
       "    </tr>\n",
       "    <tr>\n",
       "      <th>4</th>\n",
       "      <td>LSR1</td>\n",
       "      <td>38.93320</td>\n",
       "      <td>28.08680</td>\n",
       "      <td>33.9197</td>\n",
       "    </tr>\n",
       "    <tr>\n",
       "      <th>...</th>\n",
       "      <td>...</td>\n",
       "      <td>...</td>\n",
       "      <td>...</td>\n",
       "      <td>...</td>\n",
       "    </tr>\n",
       "    <tr>\n",
       "      <th>7125</th>\n",
       "      <td>tY(GUA)J2</td>\n",
       "      <td>0.00000</td>\n",
       "      <td>0.00000</td>\n",
       "      <td>0.0000</td>\n",
       "    </tr>\n",
       "    <tr>\n",
       "      <th>7126</th>\n",
       "      <td>tY(GUA)M1</td>\n",
       "      <td>0.00000</td>\n",
       "      <td>0.00000</td>\n",
       "      <td>0.0000</td>\n",
       "    </tr>\n",
       "    <tr>\n",
       "      <th>7127</th>\n",
       "      <td>tY(GUA)M2</td>\n",
       "      <td>0.00000</td>\n",
       "      <td>0.00000</td>\n",
       "      <td>0.0000</td>\n",
       "    </tr>\n",
       "    <tr>\n",
       "      <th>7128</th>\n",
       "      <td>tY(GUA)O</td>\n",
       "      <td>0.00000</td>\n",
       "      <td>0.00000</td>\n",
       "      <td>0.0000</td>\n",
       "    </tr>\n",
       "    <tr>\n",
       "      <th>7129</th>\n",
       "      <td>tY(GUA)Q</td>\n",
       "      <td>0.00000</td>\n",
       "      <td>0.00000</td>\n",
       "      <td>0.0000</td>\n",
       "    </tr>\n",
       "  </tbody>\n",
       "</table>\n",
       "<p>7130 rows × 4 columns</p>\n",
       "</div>"
      ],
      "text/plain": [
       "        gene_id   T1_FPKM   T2_FPKM  T3_FPKM\n",
       "0      15S_rRNA   0.00000   0.00000   0.0000\n",
       "1      21S_rRNA   0.00000   0.00000   0.0000\n",
       "2          HRA1   9.27966  10.92260  12.5226\n",
       "3          ICR1   5.15379   5.71864   5.1752\n",
       "4          LSR1  38.93320  28.08680  33.9197\n",
       "...         ...       ...       ...      ...\n",
       "7125  tY(GUA)J2   0.00000   0.00000   0.0000\n",
       "7126  tY(GUA)M1   0.00000   0.00000   0.0000\n",
       "7127  tY(GUA)M2   0.00000   0.00000   0.0000\n",
       "7128   tY(GUA)O   0.00000   0.00000   0.0000\n",
       "7129   tY(GUA)Q   0.00000   0.00000   0.0000\n",
       "\n",
       "[7130 rows x 4 columns]"
      ]
     },
     "execution_count": 25,
     "metadata": {},
     "output_type": "execute_result"
    }
   ],
   "source": [
    "#Ordenar df y sacar la información que no utilizaremos\n",
    "# Seleccionar solo las columnas 'gene_id' 'T1_FPKM' 'T2_FPKM' 'T3_FPKM'\n",
    "df_sort = df[['gene_id', 'T1_FPKM','T2_FPKM','T3_FPKM']]\n",
    "\n",
    "# Mostrar el nuevo DataFrame resultante\n",
    "df_sort"
   ]
  },
  {
   "cell_type": "markdown",
   "id": "4ec74ae2",
   "metadata": {},
   "source": [
    "##### 2.2.2  Crear nuevas columnas "
   ]
  },
  {
   "cell_type": "code",
   "execution_count": 41,
   "id": "56da1993",
   "metadata": {},
   "outputs": [
    {
     "name": "stderr",
     "output_type": "stream",
     "text": [
      "C:\\Users\\Aki\\AppData\\Local\\Temp/ipykernel_17692/4140257677.py:2: SettingWithCopyWarning: \n",
      "A value is trying to be set on a copy of a slice from a DataFrame.\n",
      "Try using .loc[row_indexer,col_indexer] = value instead\n",
      "\n",
      "See the caveats in the documentation: https://pandas.pydata.org/pandas-docs/stable/user_guide/indexing.html#returning-a-view-versus-a-copy\n",
      "  df_sort[\"Promedio\"]=(df_sort[\"T1_FPKM\"]+df_sort[\"T2_FPKM\"]+df_sort[\"T3_FPKM\"])/3\n"
     ]
    },
    {
     "data": {
      "text/html": [
       "<div>\n",
       "<style scoped>\n",
       "    .dataframe tbody tr th:only-of-type {\n",
       "        vertical-align: middle;\n",
       "    }\n",
       "\n",
       "    .dataframe tbody tr th {\n",
       "        vertical-align: top;\n",
       "    }\n",
       "\n",
       "    .dataframe thead th {\n",
       "        text-align: right;\n",
       "    }\n",
       "</style>\n",
       "<table border=\"1\" class=\"dataframe\">\n",
       "  <thead>\n",
       "    <tr style=\"text-align: right;\">\n",
       "      <th></th>\n",
       "      <th>gene_id</th>\n",
       "      <th>T1_FPKM</th>\n",
       "      <th>T2_FPKM</th>\n",
       "      <th>T3_FPKM</th>\n",
       "      <th>Promedio</th>\n",
       "      <th>Promedio2</th>\n",
       "    </tr>\n",
       "  </thead>\n",
       "  <tbody>\n",
       "    <tr>\n",
       "      <th>0</th>\n",
       "      <td>15S_rRNA</td>\n",
       "      <td>0.00000</td>\n",
       "      <td>0.00000</td>\n",
       "      <td>0.0000</td>\n",
       "      <td>0.000000</td>\n",
       "      <td>0.000000</td>\n",
       "    </tr>\n",
       "    <tr>\n",
       "      <th>1</th>\n",
       "      <td>21S_rRNA</td>\n",
       "      <td>0.00000</td>\n",
       "      <td>0.00000</td>\n",
       "      <td>0.0000</td>\n",
       "      <td>0.000000</td>\n",
       "      <td>0.000000</td>\n",
       "    </tr>\n",
       "    <tr>\n",
       "      <th>2</th>\n",
       "      <td>HRA1</td>\n",
       "      <td>9.27966</td>\n",
       "      <td>10.92260</td>\n",
       "      <td>12.5226</td>\n",
       "      <td>10.908287</td>\n",
       "      <td>10.908287</td>\n",
       "    </tr>\n",
       "    <tr>\n",
       "      <th>3</th>\n",
       "      <td>ICR1</td>\n",
       "      <td>5.15379</td>\n",
       "      <td>5.71864</td>\n",
       "      <td>5.1752</td>\n",
       "      <td>5.349210</td>\n",
       "      <td>NaN</td>\n",
       "    </tr>\n",
       "    <tr>\n",
       "      <th>4</th>\n",
       "      <td>LSR1</td>\n",
       "      <td>38.93320</td>\n",
       "      <td>28.08680</td>\n",
       "      <td>33.9197</td>\n",
       "      <td>33.646567</td>\n",
       "      <td>NaN</td>\n",
       "    </tr>\n",
       "    <tr>\n",
       "      <th>...</th>\n",
       "      <td>...</td>\n",
       "      <td>...</td>\n",
       "      <td>...</td>\n",
       "      <td>...</td>\n",
       "      <td>...</td>\n",
       "      <td>...</td>\n",
       "    </tr>\n",
       "    <tr>\n",
       "      <th>7125</th>\n",
       "      <td>tY(GUA)J2</td>\n",
       "      <td>0.00000</td>\n",
       "      <td>0.00000</td>\n",
       "      <td>0.0000</td>\n",
       "      <td>0.000000</td>\n",
       "      <td>NaN</td>\n",
       "    </tr>\n",
       "    <tr>\n",
       "      <th>7126</th>\n",
       "      <td>tY(GUA)M1</td>\n",
       "      <td>0.00000</td>\n",
       "      <td>0.00000</td>\n",
       "      <td>0.0000</td>\n",
       "      <td>0.000000</td>\n",
       "      <td>NaN</td>\n",
       "    </tr>\n",
       "    <tr>\n",
       "      <th>7127</th>\n",
       "      <td>tY(GUA)M2</td>\n",
       "      <td>0.00000</td>\n",
       "      <td>0.00000</td>\n",
       "      <td>0.0000</td>\n",
       "      <td>0.000000</td>\n",
       "      <td>NaN</td>\n",
       "    </tr>\n",
       "    <tr>\n",
       "      <th>7128</th>\n",
       "      <td>tY(GUA)O</td>\n",
       "      <td>0.00000</td>\n",
       "      <td>0.00000</td>\n",
       "      <td>0.0000</td>\n",
       "      <td>0.000000</td>\n",
       "      <td>NaN</td>\n",
       "    </tr>\n",
       "    <tr>\n",
       "      <th>7129</th>\n",
       "      <td>tY(GUA)Q</td>\n",
       "      <td>0.00000</td>\n",
       "      <td>0.00000</td>\n",
       "      <td>0.0000</td>\n",
       "      <td>0.000000</td>\n",
       "      <td>NaN</td>\n",
       "    </tr>\n",
       "  </tbody>\n",
       "</table>\n",
       "<p>7130 rows × 6 columns</p>\n",
       "</div>"
      ],
      "text/plain": [
       "        gene_id   T1_FPKM   T2_FPKM  T3_FPKM   Promedio  Promedio2\n",
       "0      15S_rRNA   0.00000   0.00000   0.0000   0.000000   0.000000\n",
       "1      21S_rRNA   0.00000   0.00000   0.0000   0.000000   0.000000\n",
       "2          HRA1   9.27966  10.92260  12.5226  10.908287  10.908287\n",
       "3          ICR1   5.15379   5.71864   5.1752   5.349210        NaN\n",
       "4          LSR1  38.93320  28.08680  33.9197  33.646567        NaN\n",
       "...         ...       ...       ...      ...        ...        ...\n",
       "7125  tY(GUA)J2   0.00000   0.00000   0.0000   0.000000        NaN\n",
       "7126  tY(GUA)M1   0.00000   0.00000   0.0000   0.000000        NaN\n",
       "7127  tY(GUA)M2   0.00000   0.00000   0.0000   0.000000        NaN\n",
       "7128   tY(GUA)O   0.00000   0.00000   0.0000   0.000000        NaN\n",
       "7129   tY(GUA)Q   0.00000   0.00000   0.0000   0.000000        NaN\n",
       "\n",
       "[7130 rows x 6 columns]"
      ]
     },
     "execution_count": 41,
     "metadata": {},
     "output_type": "execute_result"
    }
   ],
   "source": [
    "#¿Como podría sacar el promedio de cada fila y almacenarlo en una cuarta columna?\n",
    "df_sort[\"Promedio\"]=(df_sort[\"T1_FPKM\"]+df_sort[\"T2_FPKM\"]+df_sort[\"T3_FPKM\"])/3\n",
    "df_sort"
   ]
  },
  {
   "cell_type": "code",
   "execution_count": 46,
   "id": "54dbba0b",
   "metadata": {},
   "outputs": [
    {
     "name": "stderr",
     "output_type": "stream",
     "text": [
      "C:\\Users\\Aki\\AppData\\Local\\Temp/ipykernel_17692/2578243661.py:3: SettingWithCopyWarning: \n",
      "A value is trying to be set on a copy of a slice from a DataFrame.\n",
      "Try using .loc[row_indexer,col_indexer] = value instead\n",
      "\n",
      "See the caveats in the documentation: https://pandas.pydata.org/pandas-docs/stable/user_guide/indexing.html#returning-a-view-versus-a-copy\n",
      "  df_sort[\"Promedio_numpy\"]=df_sort[[\"T1_FPKM\",\"T2_FPKM\",\"T3_FPKM\"]].mean(axis=1)\n"
     ]
    },
    {
     "data": {
      "text/html": [
       "<div>\n",
       "<style scoped>\n",
       "    .dataframe tbody tr th:only-of-type {\n",
       "        vertical-align: middle;\n",
       "    }\n",
       "\n",
       "    .dataframe tbody tr th {\n",
       "        vertical-align: top;\n",
       "    }\n",
       "\n",
       "    .dataframe thead th {\n",
       "        text-align: right;\n",
       "    }\n",
       "</style>\n",
       "<table border=\"1\" class=\"dataframe\">\n",
       "  <thead>\n",
       "    <tr style=\"text-align: right;\">\n",
       "      <th></th>\n",
       "      <th>gene_id</th>\n",
       "      <th>T1_FPKM</th>\n",
       "      <th>T2_FPKM</th>\n",
       "      <th>T3_FPKM</th>\n",
       "      <th>Promedio</th>\n",
       "      <th>Promedio2</th>\n",
       "      <th>Promedio_numpy</th>\n",
       "    </tr>\n",
       "  </thead>\n",
       "  <tbody>\n",
       "    <tr>\n",
       "      <th>0</th>\n",
       "      <td>15S_rRNA</td>\n",
       "      <td>0.00000</td>\n",
       "      <td>0.00000</td>\n",
       "      <td>0.0000</td>\n",
       "      <td>0.000000</td>\n",
       "      <td>0.000000</td>\n",
       "      <td>0.000000</td>\n",
       "    </tr>\n",
       "    <tr>\n",
       "      <th>1</th>\n",
       "      <td>21S_rRNA</td>\n",
       "      <td>0.00000</td>\n",
       "      <td>0.00000</td>\n",
       "      <td>0.0000</td>\n",
       "      <td>0.000000</td>\n",
       "      <td>0.000000</td>\n",
       "      <td>0.000000</td>\n",
       "    </tr>\n",
       "    <tr>\n",
       "      <th>2</th>\n",
       "      <td>HRA1</td>\n",
       "      <td>9.27966</td>\n",
       "      <td>10.92260</td>\n",
       "      <td>12.5226</td>\n",
       "      <td>10.908287</td>\n",
       "      <td>10.908287</td>\n",
       "      <td>10.908287</td>\n",
       "    </tr>\n",
       "    <tr>\n",
       "      <th>3</th>\n",
       "      <td>ICR1</td>\n",
       "      <td>5.15379</td>\n",
       "      <td>5.71864</td>\n",
       "      <td>5.1752</td>\n",
       "      <td>5.349210</td>\n",
       "      <td>NaN</td>\n",
       "      <td>5.349210</td>\n",
       "    </tr>\n",
       "    <tr>\n",
       "      <th>4</th>\n",
       "      <td>LSR1</td>\n",
       "      <td>38.93320</td>\n",
       "      <td>28.08680</td>\n",
       "      <td>33.9197</td>\n",
       "      <td>33.646567</td>\n",
       "      <td>NaN</td>\n",
       "      <td>33.646567</td>\n",
       "    </tr>\n",
       "    <tr>\n",
       "      <th>...</th>\n",
       "      <td>...</td>\n",
       "      <td>...</td>\n",
       "      <td>...</td>\n",
       "      <td>...</td>\n",
       "      <td>...</td>\n",
       "      <td>...</td>\n",
       "      <td>...</td>\n",
       "    </tr>\n",
       "    <tr>\n",
       "      <th>7125</th>\n",
       "      <td>tY(GUA)J2</td>\n",
       "      <td>0.00000</td>\n",
       "      <td>0.00000</td>\n",
       "      <td>0.0000</td>\n",
       "      <td>0.000000</td>\n",
       "      <td>NaN</td>\n",
       "      <td>0.000000</td>\n",
       "    </tr>\n",
       "    <tr>\n",
       "      <th>7126</th>\n",
       "      <td>tY(GUA)M1</td>\n",
       "      <td>0.00000</td>\n",
       "      <td>0.00000</td>\n",
       "      <td>0.0000</td>\n",
       "      <td>0.000000</td>\n",
       "      <td>NaN</td>\n",
       "      <td>0.000000</td>\n",
       "    </tr>\n",
       "    <tr>\n",
       "      <th>7127</th>\n",
       "      <td>tY(GUA)M2</td>\n",
       "      <td>0.00000</td>\n",
       "      <td>0.00000</td>\n",
       "      <td>0.0000</td>\n",
       "      <td>0.000000</td>\n",
       "      <td>NaN</td>\n",
       "      <td>0.000000</td>\n",
       "    </tr>\n",
       "    <tr>\n",
       "      <th>7128</th>\n",
       "      <td>tY(GUA)O</td>\n",
       "      <td>0.00000</td>\n",
       "      <td>0.00000</td>\n",
       "      <td>0.0000</td>\n",
       "      <td>0.000000</td>\n",
       "      <td>NaN</td>\n",
       "      <td>0.000000</td>\n",
       "    </tr>\n",
       "    <tr>\n",
       "      <th>7129</th>\n",
       "      <td>tY(GUA)Q</td>\n",
       "      <td>0.00000</td>\n",
       "      <td>0.00000</td>\n",
       "      <td>0.0000</td>\n",
       "      <td>0.000000</td>\n",
       "      <td>NaN</td>\n",
       "      <td>0.000000</td>\n",
       "    </tr>\n",
       "  </tbody>\n",
       "</table>\n",
       "<p>7130 rows × 7 columns</p>\n",
       "</div>"
      ],
      "text/plain": [
       "        gene_id   T1_FPKM   T2_FPKM  T3_FPKM   Promedio  Promedio2  \\\n",
       "0      15S_rRNA   0.00000   0.00000   0.0000   0.000000   0.000000   \n",
       "1      21S_rRNA   0.00000   0.00000   0.0000   0.000000   0.000000   \n",
       "2          HRA1   9.27966  10.92260  12.5226  10.908287  10.908287   \n",
       "3          ICR1   5.15379   5.71864   5.1752   5.349210        NaN   \n",
       "4          LSR1  38.93320  28.08680  33.9197  33.646567        NaN   \n",
       "...         ...       ...       ...      ...        ...        ...   \n",
       "7125  tY(GUA)J2   0.00000   0.00000   0.0000   0.000000        NaN   \n",
       "7126  tY(GUA)M1   0.00000   0.00000   0.0000   0.000000        NaN   \n",
       "7127  tY(GUA)M2   0.00000   0.00000   0.0000   0.000000        NaN   \n",
       "7128   tY(GUA)O   0.00000   0.00000   0.0000   0.000000        NaN   \n",
       "7129   tY(GUA)Q   0.00000   0.00000   0.0000   0.000000        NaN   \n",
       "\n",
       "      Promedio_numpy  \n",
       "0           0.000000  \n",
       "1           0.000000  \n",
       "2          10.908287  \n",
       "3           5.349210  \n",
       "4          33.646567  \n",
       "...              ...  \n",
       "7125        0.000000  \n",
       "7126        0.000000  \n",
       "7127        0.000000  \n",
       "7128        0.000000  \n",
       "7129        0.000000  \n",
       "\n",
       "[7130 rows x 7 columns]"
      ]
     },
     "execution_count": 46,
     "metadata": {},
     "output_type": "execute_result"
    }
   ],
   "source": [
    "#Otra forma sería:\n",
    "#¿Como podría sacar el promedio de cada fila y almacenarlo en una cuarta columna?\n",
    "df_sort[\"Promedio_numpy\"]=df_sort[[\"T1_FPKM\",\"T2_FPKM\",\"T3_FPKM\"]].mean(axis=1)\n",
    "df_sort"
   ]
  },
  {
   "cell_type": "code",
   "execution_count": 26,
   "id": "3717eaf6",
   "metadata": {},
   "outputs": [
    {
     "data": {
      "text/plain": [
       "275.61714778218703"
      ]
     },
     "execution_count": 26,
     "metadata": {},
     "output_type": "execute_result"
    }
   ],
   "source": [
    "#¿Como podría saber la media de la columna 4?\n",
    "media= np.mean(df_sort[\"T3_FPKM\"])\n",
    "media"
   ]
  },
  {
   "cell_type": "markdown",
   "id": "c9d22ac6",
   "metadata": {},
   "source": [
    "#### 2.2.3 Eliminar columnas"
   ]
  },
  {
   "cell_type": "code",
   "execution_count": 47,
   "id": "610d23b9",
   "metadata": {},
   "outputs": [
    {
     "name": "stdout",
     "output_type": "stream",
     "text": [
      "        gene_id   T1_FPKM   T2_FPKM  T3_FPKM   Promedio  Promedio2\n",
      "0      15S_rRNA   0.00000   0.00000   0.0000   0.000000   0.000000\n",
      "1      21S_rRNA   0.00000   0.00000   0.0000   0.000000   0.000000\n",
      "2          HRA1   9.27966  10.92260  12.5226  10.908287  10.908287\n",
      "3          ICR1   5.15379   5.71864   5.1752   5.349210        NaN\n",
      "4          LSR1  38.93320  28.08680  33.9197  33.646567        NaN\n",
      "...         ...       ...       ...      ...        ...        ...\n",
      "7125  tY(GUA)J2   0.00000   0.00000   0.0000   0.000000        NaN\n",
      "7126  tY(GUA)M1   0.00000   0.00000   0.0000   0.000000        NaN\n",
      "7127  tY(GUA)M2   0.00000   0.00000   0.0000   0.000000        NaN\n",
      "7128   tY(GUA)O   0.00000   0.00000   0.0000   0.000000        NaN\n",
      "7129   tY(GUA)Q   0.00000   0.00000   0.0000   0.000000        NaN\n",
      "\n",
      "[7130 rows x 6 columns]\n"
     ]
    },
    {
     "name": "stderr",
     "output_type": "stream",
     "text": [
      "D:\\Programas\\UNIVERSIDAD\\Anaconda\\lib\\site-packages\\pandas\\core\\frame.py:4906: SettingWithCopyWarning: \n",
      "A value is trying to be set on a copy of a slice from a DataFrame\n",
      "\n",
      "See the caveats in the documentation: https://pandas.pydata.org/pandas-docs/stable/user_guide/indexing.html#returning-a-view-versus-a-copy\n",
      "  return super().drop(\n"
     ]
    }
   ],
   "source": [
    "df_sort.drop(\"Promedio_numpy\", axis=1 , inplace=True)\n",
    "print(df_sort)"
   ]
  },
  {
   "cell_type": "markdown",
   "id": "02ae191c",
   "metadata": {},
   "source": [
    "### Ejercicio\n",
    "\n",
    "- Graficar en barras los T1_FPKM, T2_FPKM y T3_FPKM del gen LSR1 siguiendo las siguientes instrucciónes:\n",
    "- Utilizar plt.bar()\n",
    "- Color de las barras deben ser rojas\n",
    "- Las leyendas deben decir: \n",
    "  - Titulo: Fpkm gen LSR1\n",
    "  - Eje X: Tiempo (h)\n",
    "  - Eje Y: Enriquecimiento de la Expresión genética\n",
    "  \n",
    "  \n",
    "Pistas: \n",
    "- Sabiendo los valores de cada fpkm puedes definir las variables como listas y construir los ejes x, y\n",
    "- Recuerda que los nombres siempre van entre comillas\n",
    "- Recuerda que plt.bar() tiene 3 argumentos básicos: (eje x, eje y, color)\n",
    " "
   ]
  },
  {
   "cell_type": "markdown",
   "id": "37feff69",
   "metadata": {},
   "source": [
    "<img src=\"https://raw.githubusercontent.com/Barbara-GD/Introduccion_a_la_Bioinformatica/main/pythonASCII.png\" alt=\"Drawing\" style=\"width: 700px;\"/>\n"
   ]
  },
  {
   "cell_type": "code",
   "execution_count": 95,
   "id": "54525715",
   "metadata": {
    "scrolled": true
   },
   "outputs": [
    {
     "data": {
      "image/png": "[encoded data removed]",
      "text/plain": [
       "<Figure size 432x288 with 1 Axes>"
      ]
     },
     "metadata": {
      "needs_background": "light"
     },
     "output_type": "display_data"
    }
   ],
   "source": [
    "#Solución\n",
    "#1. Identificar la fila en donde esta\n",
    "df_sort.iloc[4]\n",
    "\n",
    "#Definir variables\n",
    "fpkm=[38.9332,28.0868,33.646567]\n",
    "label=[\"T1\",\"T2\",\"T3\"]\n",
    "\n",
    "#Construir el grafico (x,y,color) Nota: Existen mas argumentos solo estamos trbajando con los básicos\n",
    "plt.bar(label,fpkm, color=\"red\")\n",
    "\n",
    "# Añadir título y etiquetas\n",
    "plt.title('Fpkm gen LSR1') #Titulo\n",
    "plt.xlabel('Tiempo (h)') #eje x\n",
    "plt.ylabel('Enriquecimiento de la Expresión genética') #\"eje y\"\n",
    "\n",
    "plt.show() #mostror gráfico\n"
   ]
  },
  {
   "cell_type": "markdown",
   "id": "dc05e718",
   "metadata": {},
   "source": [
    "#### 2.3 Exportar datos\n",
    "\n",
    "Como incluímos una nueva columna a nuestros datos originales seguramente necesitaremos guardalos para analizarlos más adelante o visualizarlos en otro programa. Esto se realiza de la siguiente manera:"
   ]
  },
  {
   "cell_type": "code",
   "execution_count": 99,
   "id": "e1b57c9a",
   "metadata": {},
   "outputs": [],
   "source": [
    "#Exportar los datos en formato .csv\n",
    "df_sort.to_csv(\"T1-T3_fpkm.csv\")"
   ]
  },
  {
   "cell_type": "markdown",
   "id": "a4c09505",
   "metadata": {},
   "source": [
    "### 3.1 Visualización de archivos .fasta"
   ]
  },
  {
   "cell_type": "markdown",
   "id": "e1d6ed36",
   "metadata": {},
   "source": [
    "#### Analizando secuencia de Orquidea Lady Slipper"
   ]
  },
  {
   "cell_type": "markdown",
   "id": "3675ac9e",
   "metadata": {},
   "source": [
    "\n",
    "<img src=\"https://raw.githubusercontent.com/Barbara-GD/Introduccion_a_la_Bioinformatica/main/orquidea_Lady_slipper.png\" alt=\"Drawing\" style=\"width: 300px;\"/>"
   ]
  },
  {
   "cell_type": "markdown",
   "id": "e109ed99",
   "metadata": {},
   "source": [
    "#### Abrir archivo FASTA: https://raw.githubusercontent.com/biopython/biopython/master/Doc/examples/ls_orchid.fasta\n",
    "y guardarlo en la carpeta donde estamos trabajando actualmente.\n"
   ]
  },
  {
   "cell_type": "code",
   "execution_count": 50,
   "id": "c1830450",
   "metadata": {},
   "outputs": [
    {
     "data": {
      "text/html": [
       "<div>\n",
       "<style scoped>\n",
       "    .dataframe tbody tr th:only-of-type {\n",
       "        vertical-align: middle;\n",
       "    }\n",
       "\n",
       "    .dataframe tbody tr th {\n",
       "        vertical-align: top;\n",
       "    }\n",
       "\n",
       "    .dataframe thead th {\n",
       "        text-align: right;\n",
       "    }\n",
       "</style>\n",
       "<table border=\"1\" class=\"dataframe\">\n",
       "  <thead>\n",
       "    <tr style=\"text-align: right;\">\n",
       "      <th></th>\n",
       "      <th>&gt;gi|2765658|emb|Z78533.1|CIZ78533 C.irapeanum 5.8S rRNA gene and ITS1 and ITS2 DNA</th>\n",
       "    </tr>\n",
       "  </thead>\n",
       "  <tbody>\n",
       "    <tr>\n",
       "      <th>0</th>\n",
       "      <td>CGTAACAAGGTTTCCGTAGGTGAACCTGCGGAAGGATCATTGATGA...</td>\n",
       "    </tr>\n",
       "    <tr>\n",
       "      <th>1</th>\n",
       "      <td>AATCCGGAGGACCGGTGTACTCAGCTCACCGGGGGCATTGCTCCCG...</td>\n",
       "    </tr>\n",
       "    <tr>\n",
       "      <th>2</th>\n",
       "      <td>CCGCCTCGGGAGCGTCCATGGCGGGTTTGAACCTCTAGCCCGGCGC...</td>\n",
       "    </tr>\n",
       "    <tr>\n",
       "      <th>3</th>\n",
       "      <td>AGCATCACCGGCGAATGGCATTGTCTTCCCCAAAACCCGGAGCGGC...</td>\n",
       "    </tr>\n",
       "    <tr>\n",
       "      <th>4</th>\n",
       "      <td>ATTTTGATGACTCTCGCAAACGGGAATCTTGGCTCTTTGCATCGGA...</td>\n",
       "    </tr>\n",
       "    <tr>\n",
       "      <th>...</th>\n",
       "      <td>...</td>\n",
       "    </tr>\n",
       "    <tr>\n",
       "      <th>1097</th>\n",
       "      <td>CGCAGCGAAATGCGATAATGGTGTGAATTGCAGAATCCCGTGAACA...</td>\n",
       "    </tr>\n",
       "    <tr>\n",
       "      <th>1098</th>\n",
       "      <td>CCCGAGGCCATCAGGCCAAGGGCACGCCTGCCTGGGCATTGCGAGT...</td>\n",
       "    </tr>\n",
       "    <tr>\n",
       "      <th>1099</th>\n",
       "      <td>TCCATACATACTGTTCAGCCGGTGCGGATGTGAGTTTGGCCCCTTG...</td>\n",
       "    </tr>\n",
       "    <tr>\n",
       "      <th>1100</th>\n",
       "      <td>GCTGCATGGGCTTTGGATGGTCCTAAATACGGAAAGAGGTGGACGA...</td>\n",
       "    </tr>\n",
       "    <tr>\n",
       "      <th>1101</th>\n",
       "      <td>GCAAATGCCCCGGTTGGCCGTTTAGTTGGGCC</td>\n",
       "    </tr>\n",
       "  </tbody>\n",
       "</table>\n",
       "<p>1102 rows × 1 columns</p>\n",
       "</div>"
      ],
      "text/plain": [
       "     >gi|2765658|emb|Z78533.1|CIZ78533 C.irapeanum 5.8S rRNA gene and ITS1 and ITS2 DNA\n",
       "0     CGTAACAAGGTTTCCGTAGGTGAACCTGCGGAAGGATCATTGATGA...                                \n",
       "1     AATCCGGAGGACCGGTGTACTCAGCTCACCGGGGGCATTGCTCCCG...                                \n",
       "2     CCGCCTCGGGAGCGTCCATGGCGGGTTTGAACCTCTAGCCCGGCGC...                                \n",
       "3     AGCATCACCGGCGAATGGCATTGTCTTCCCCAAAACCCGGAGCGGC...                                \n",
       "4     ATTTTGATGACTCTCGCAAACGGGAATCTTGGCTCTTTGCATCGGA...                                \n",
       "...                                                 ...                                \n",
       "1097  CGCAGCGAAATGCGATAATGGTGTGAATTGCAGAATCCCGTGAACA...                                \n",
       "1098  CCCGAGGCCATCAGGCCAAGGGCACGCCTGCCTGGGCATTGCGAGT...                                \n",
       "1099  TCCATACATACTGTTCAGCCGGTGCGGATGTGAGTTTGGCCCCTTG...                                \n",
       "1100  GCTGCATGGGCTTTGGATGGTCCTAAATACGGAAAGAGGTGGACGA...                                \n",
       "1101                   GCAAATGCCCCGGTTGGCCGTTTAGTTGGGCC                                \n",
       "\n",
       "[1102 rows x 1 columns]"
      ]
     },
     "execution_count": 50,
     "metadata": {},
     "output_type": "execute_result"
    }
   ],
   "source": [
    "df2 = pd.read_csv(\"ls_orchid.fasta.txt\")\n",
    "df2\n"
   ]
  },
  {
   "cell_type": "markdown",
   "id": "82967c5c",
   "metadata": {},
   "source": [
    "Documentation: https://pandas.pydata.org/docs/index.html"
   ]
  },
  {
   "cell_type": "code",
   "execution_count": null,
   "id": "c4787de5",
   "metadata": {},
   "outputs": [],
   "source": []
  }
 ],
 "metadata": {
  "kernelspec": {
   "display_name": "Python 3 (ipykernel)",
   "language": "python",
   "name": "python3"
  },
  "language_info": {
   "codemirror_mode": {
    "name": "ipython",
    "version": 3
   },
   "file_extension": ".py",
   "mimetype": "text/x-python",
   "name": "python",
   "nbconvert_exporter": "python",
   "pygments_lexer": "ipython3",
   "version": "3.9.7"
  }
 },
 "nbformat": 4,
 "nbformat_minor": 5
}
